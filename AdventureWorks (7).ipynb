{
 "cells": [
  {
   "cell_type": "markdown",
   "metadata": {
    "application/vnd.databricks.v1+cell": {
     "cellMetadata": {
      "byteLimit": 2048000,
      "rowLimit": 10000
     },
     "inputWidgets": {},
     "nuid": "9ccaa3d2-9cb2-4e04-a119-22387ce5872e",
     "showTitle": false,
     "title": ""
    }
   },
   "source": [
    "# **Data Management with Databricks: Adventure Works Challenge**"
   ]
  },
  {
   "cell_type": "markdown",
   "metadata": {
    "application/vnd.databricks.v1+cell": {
     "cellMetadata": {
      "byteLimit": 2048000,
      "rowLimit": 10000
     },
     "inputWidgets": {},
     "nuid": "e4f17149-a8c7-47f5-b056-4b4b749d40b0",
     "showTitle": false,
     "title": ""
    }
   },
   "source": [
    "At Kaggle, I found a sample database of a fictional multinational company that sells bikes, accessories, and clothing. The sample database contains various tables, i.e. customers, products, returns, and sales. In this notebook, I create delta tables and a database using Databricks. After the sales database has been created, I catch a glimpse of the data. I do some data cleansing and I visualize the data. First, I load the csv files. So, let's get started with Databricks."
   ]
  },
  {
   "cell_type": "markdown",
   "metadata": {
    "application/vnd.databricks.v1+cell": {
     "cellMetadata": {
      "byteLimit": 2048000,
      "rowLimit": 10000
     },
     "inputWidgets": {},
     "nuid": "b8e743cb-9cd4-415d-a1fc-9e55e4769a7f",
     "showTitle": false,
     "title": ""
    }
   },
   "source": [
    "Before I load the csv files, I upload the csv files in the Catalog. After storing the files, I would like to display the content of the catalog. Because I have already created multiple folders in the catalog, I would like to display the information about the content of the Adventure Works folder. With dbutils, I can catch a glimpse of the file info. And here is the result:"
   ]
  },
  {
   "cell_type": "code",
   "execution_count": 0,
   "metadata": {
    "application/vnd.databricks.v1+cell": {
     "cellMetadata": {
      "byteLimit": 2048000,
      "rowLimit": 10000
     },
     "inputWidgets": {},
     "nuid": "f544816a-d0f0-47b5-be63-ff8b3c8d8823",
     "showTitle": false,
     "title": ""
    }
   },
   "outputs": [
    {
     "output_type": "stream",
     "name": "stdout",
     "output_type": "stream",
     "text": [
      "Out[68]: [FileInfo(path='dbfs:/FileStore/AW/AdventureWorks_Customers.csv', name='AdventureWorks_Customers.csv', size=1963594, modificationTime=1717340887000),\n FileInfo(path='dbfs:/FileStore/AW/AdventureWorks_Products.csv', name='AdventureWorks_Products.csv', size=63509, modificationTime=1717340886000),\n FileInfo(path='dbfs:/FileStore/AW/AdventureWorks_Returns.csv', name='AdventureWorks_Returns.csv', size=87401, modificationTime=1717340887000),\n FileInfo(path='dbfs:/FileStore/AW/AdventureWorks_Sales_2015.csv', name='AdventureWorks_Sales_2015.csv', size=194786, modificationTime=1717340887000),\n FileInfo(path='dbfs:/FileStore/AW/AdventureWorks_Sales_2016.csv', name='AdventureWorks_Sales_2016.csv', size=1786110, modificationTime=1717340889000),\n FileInfo(path='dbfs:/FileStore/AW/AdventureWorks_Sales_2017.csv', name='AdventureWorks_Sales_2017.csv', size=2187175, modificationTime=1717340891000)]"
     ]
    }
   ],
   "source": [
    "#display information about the content of the catalog or folder of Adventure Works\n",
    "dbutils.fs.ls(\"dbfs:/FileStore/AW\")"
   ]
  },
  {
   "cell_type": "markdown",
   "metadata": {
    "application/vnd.databricks.v1+cell": {
     "cellMetadata": {
      "byteLimit": 2048000,
      "rowLimit": 10000
     },
     "inputWidgets": {},
     "nuid": "aa194452-413c-44a4-ac5f-08ec86ee3fa0",
     "showTitle": false,
     "title": ""
    }
   },
   "source": [
    "After, I read the csv files using the Spark dataframe API (is the Spark Read Option). I start with the sales table or dataset. I have 3 equal sales datasets. Each dataset contains data from a different year: 2015, 2016, and 2017.  "
   ]
  },
  {
   "cell_type": "code",
   "execution_count": 0,
   "metadata": {
    "application/vnd.databricks.v1+cell": {
     "cellMetadata": {
      "byteLimit": 2048000,
      "rowLimit": 10000
     },
     "inputWidgets": {},
     "nuid": "e5553506-fab9-408c-be24-753bcaafda40",
     "showTitle": false,
     "title": ""
    }
   },
   "outputs": [
    {
     "output_type": "stream",
     "name": "stdout",
     "output_type": "stream",
     "text": [
      "+---------+----------+-----------+----------+-----------+-------------+-------------+---------+-------------+-------------+\n|OrderDate|StockDate |OrderNumber|ProductKey|CustomerKey|OrderLineItem|OrderQuantity|Region   |Country      |Continent    |\n+---------+----------+-----------+----------+-----------+-------------+-------------+---------+-------------+-------------+\n|1/1/2017 |12/13/2003|SO61285    |529       |23791      |2            |2            |Northwest|United States|North America|\n|1/1/2017 |9/24/2003 |SO61285    |214       |23791      |3            |1            |Northwest|United States|North America|\n|1/1/2017 |9/4/2003  |SO61285    |540       |23791      |1            |1            |Northwest|United States|North America|\n|1/1/2017 |9/28/2003 |SO61301    |529       |16747      |2            |2            |Northwest|United States|North America|\n|1/1/2017 |10/21/2003|SO61301    |377       |16747      |1            |1            |Northwest|United States|North America|\n+---------+----------+-----------+----------+-----------+-------------+-------------+---------+-------------+-------------+\nonly showing top 5 rows\n\n"
     ]
    }
   ],
   "source": [
    "# Read csv files for sales using spark dataframeAPI\n",
    "sales_raw_df = spark.read.option(\"header\",\"true\").csv(\"dbfs:/FileStore/AW/AdventureWorks_Sales_*.csv\")\n",
    "\n",
    "## Show the datafarme\n",
    "sales_raw_df.show(n=5, truncate=False) "
   ]
  },
  {
   "cell_type": "code",
   "execution_count": 0,
   "metadata": {
    "application/vnd.databricks.v1+cell": {
     "cellMetadata": {
      "byteLimit": 2048000,
      "rowLimit": 10000
     },
     "inputWidgets": {},
     "nuid": "2431774f-f80d-470d-859a-d9e1beb99aff",
     "showTitle": false,
     "title": ""
    }
   },
   "outputs": [
    {
     "output_type": "stream",
     "name": "stdout",
     "output_type": "stream",
     "text": [
      "Out[70]: 56046"
     ]
    }
   ],
   "source": [
    "sales_raw_df.count()"
   ]
  },
  {
   "cell_type": "markdown",
   "metadata": {
    "application/vnd.databricks.v1+cell": {
     "cellMetadata": {
      "byteLimit": 2048000,
      "rowLimit": 10000
     },
     "inputWidgets": {},
     "nuid": "63b2e969-50b4-47e8-a0b3-ba9a566ebf6d",
     "showTitle": false,
     "title": ""
    }
   },
   "source": [
    "The entire sales dataframe contains 56046 entries. I have counted all rows in the dataset, containing data from 2015 till 2017. Now, let's create the 'Sales Database'. I create the delta tables with the write mode, and I save the tables in the 'Sales Database'. I do this for the sales table, products table, returned products table, and the customers table."
   ]
  },
  {
   "cell_type": "code",
   "execution_count": 0,
   "metadata": {
    "application/vnd.databricks.v1+cell": {
     "cellMetadata": {
      "byteLimit": 2048000,
      "rowLimit": 10000
     },
     "inputWidgets": {},
     "nuid": "9d4ff6ee-725b-49c5-ac54-ba300287bd39",
     "showTitle": false,
     "title": ""
    }
   },
   "outputs": [
    {
     "output_type": "stream",
     "name": "stdout",
     "output_type": "stream",
     "text": [
      "Out[71]: DataFrame[]"
     ]
    }
   ],
   "source": [
    "# First, create Database SalesDB if it doesn't exist\n",
    "dbsales = \"SalesDB\"\n",
    "\n",
    "spark.sql(f\"CREATE DATABASE IF NOT EXISTS {dbsales}\")\n",
    "spark.sql(f\"USE {dbsales}\")"
   ]
  },
  {
   "cell_type": "code",
   "execution_count": 0,
   "metadata": {
    "application/vnd.databricks.v1+cell": {
     "cellMetadata": {
      "byteLimit": 2048000,
      "rowLimit": 10000
     },
     "inputWidgets": {},
     "nuid": "c39aab2a-9ace-45e5-a035-9aa36eb13781",
     "showTitle": false,
     "title": ""
    }
   },
   "outputs": [],
   "source": [
    "sales_raw_df.write.mode(\"overwrite\").format(\"delta\").option(\"overwriteSchema\",\"true\").saveAsTable(\"SALES_RAW\")"
   ]
  },
  {
   "cell_type": "code",
   "execution_count": 0,
   "metadata": {
    "application/vnd.databricks.v1+cell": {
     "cellMetadata": {
      "byteLimit": 2048000,
      "rowLimit": 10000
     },
     "inputWidgets": {},
     "nuid": "522af8d1-66df-4aa8-925d-092a8af58eee",
     "showTitle": false,
     "title": ""
    }
   },
   "outputs": [],
   "source": [
    "# Read the other csv files using spark dataframeAPI\n",
    "customers_raw_df = spark.read.option(\"header\",\"true\").csv(\"dbfs:/FileStore/AW/AdventureWorks_Customers.csv\")\n",
    "products_raw_df = spark.read.option(\"header\",\"true\").csv(\"dbfs:/FileStore/AW/AdventureWorks_Products.csv\")\n",
    "returns_raw_df = spark.read.option(\"header\",\"true\").csv(\"dbfs:/FileStore/AW/AdventureWorks_Returns.csv\")\n"
   ]
  },
  {
   "cell_type": "code",
   "execution_count": 0,
   "metadata": {
    "application/vnd.databricks.v1+cell": {
     "cellMetadata": {
      "byteLimit": 2048000,
      "rowLimit": 10000
     },
     "inputWidgets": {},
     "nuid": "4bcb0ee5-6c00-4dd4-89ea-e56017b044e2",
     "showTitle": false,
     "title": ""
    }
   },
   "outputs": [],
   "source": [
    "## Create Delta Tables \n",
    "customers_raw_df.write.mode(\"overwrite\").format(\"delta\").option(\"overwriteSchema\",\"true\").saveAsTable(\"CUSTOMERS_RAW\")\n",
    "products_raw_df.write.mode(\"overwrite\").format(\"delta\").option(\"overwriteSchema\",\"true\").saveAsTable(\"PRODUCTS_RAW\")\n",
    "returns_raw_df.write.mode(\"overwrite\").format(\"delta\").option(\"overwriteSchema\",\"true\").saveAsTable(\"RETURNS_RAW\")\n"
   ]
  },
  {
   "cell_type": "markdown",
   "metadata": {
    "application/vnd.databricks.v1+cell": {
     "cellMetadata": {
      "byteLimit": 2048000,
      "rowLimit": 10000
     },
     "inputWidgets": {},
     "nuid": "88cbb098-e3fc-4205-b99f-6087600477b1",
     "showTitle": false,
     "title": ""
    }
   },
   "source": [
    "Let's show the contents of the 'Sales Database' I created. You can either use Python or SQL to show the tables."
   ]
  },
  {
   "cell_type": "code",
   "execution_count": 0,
   "metadata": {
    "application/vnd.databricks.v1+cell": {
     "cellMetadata": {
      "byteLimit": 2048000,
      "rowLimit": 10000
     },
     "inputWidgets": {},
     "nuid": "39a31cec-a999-45c1-8668-9845ff86e6f7",
     "showTitle": false,
     "title": ""
    }
   },
   "outputs": [
    {
     "output_type": "display_data",
     "data": {
      "text/html": [
       "<style scoped>\n",
       "  .table-result-container {\n",
       "    max-height: 300px;\n",
       "    overflow: auto;\n",
       "  }\n",
       "  table, th, td {\n",
       "    border: 1px solid black;\n",
       "    border-collapse: collapse;\n",
       "  }\n",
       "  th, td {\n",
       "    padding: 5px;\n",
       "  }\n",
       "  th {\n",
       "    text-align: left;\n",
       "  }\n",
       "</style><div class='table-result-container'><table class='table-result'><thead style='background-color: white'><tr><th>database</th><th>tableName</th><th>isTemporary</th></tr></thead><tbody><tr><td>salesdb</td><td>customers</td><td>false</td></tr><tr><td>salesdb</td><td>customers_raw</td><td>false</td></tr><tr><td>salesdb</td><td>products</td><td>false</td></tr><tr><td>salesdb</td><td>products_raw</td><td>false</td></tr><tr><td>salesdb</td><td>returns</td><td>false</td></tr><tr><td>salesdb</td><td>returns_raw</td><td>false</td></tr><tr><td>salesdb</td><td>sales</td><td>false</td></tr><tr><td>salesdb</td><td>sales_raw</td><td>false</td></tr></tbody></table></div>"
      ]
     },
     "metadata": {
      "application/vnd.databricks.v1+output": {
       "addedWidgets": {},
       "aggData": [],
       "aggError": "",
       "aggOverflow": false,
       "aggSchema": [],
       "aggSeriesLimitReached": false,
       "aggType": "",
       "arguments": {},
       "columnCustomDisplayInfos": {},
       "data": [
        [
         "salesdb",
         "customers",
         false
        ],
        [
         "salesdb",
         "customers_raw",
         false
        ],
        [
         "salesdb",
         "products",
         false
        ],
        [
         "salesdb",
         "products_raw",
         false
        ],
        [
         "salesdb",
         "returns",
         false
        ],
        [
         "salesdb",
         "returns_raw",
         false
        ],
        [
         "salesdb",
         "sales",
         false
        ],
        [
         "salesdb",
         "sales_raw",
         false
        ]
       ],
       "datasetInfos": [],
       "dbfsResultPath": null,
       "isJsonSchema": true,
       "metadata": {},
       "overflow": false,
       "plotOptions": {
        "customPlotOptions": {},
        "displayType": "table",
        "pivotAggregation": null,
        "pivotColumns": null,
        "xColumns": null,
        "yColumns": null
       },
       "removedWidgets": [],
       "schema": [
        {
         "metadata": "{}",
         "name": "database",
         "type": "\"string\""
        },
        {
         "metadata": "{}",
         "name": "tableName",
         "type": "\"string\""
        },
        {
         "metadata": "{}",
         "name": "isTemporary",
         "type": "\"boolean\""
        }
       ],
       "type": "table"
      }
     },
     "output_type": "display_data"
    }
   ],
   "source": [
    "display(spark.sql(f\"SHOW TABLES\"))"
   ]
  },
  {
   "cell_type": "code",
   "execution_count": 0,
   "metadata": {
    "application/vnd.databricks.v1+cell": {
     "cellMetadata": {
      "byteLimit": 2048000,
      "implicitDf": true,
      "rowLimit": 10000
     },
     "inputWidgets": {},
     "nuid": "c092e232-fc90-4b31-8cfa-68988ba4f64b",
     "showTitle": false,
     "title": ""
    }
   },
   "outputs": [
    {
     "output_type": "display_data",
     "data": {
      "text/html": [
       "<style scoped>\n",
       "  .table-result-container {\n",
       "    max-height: 300px;\n",
       "    overflow: auto;\n",
       "  }\n",
       "  table, th, td {\n",
       "    border: 1px solid black;\n",
       "    border-collapse: collapse;\n",
       "  }\n",
       "  th, td {\n",
       "    padding: 5px;\n",
       "  }\n",
       "  th {\n",
       "    text-align: left;\n",
       "  }\n",
       "</style><div class='table-result-container'><table class='table-result'><thead style='background-color: white'><tr><th>database</th><th>tableName</th><th>isTemporary</th></tr></thead><tbody><tr><td>salesdb</td><td>customers</td><td>false</td></tr><tr><td>salesdb</td><td>customers_raw</td><td>false</td></tr><tr><td>salesdb</td><td>products</td><td>false</td></tr><tr><td>salesdb</td><td>products_raw</td><td>false</td></tr><tr><td>salesdb</td><td>returns</td><td>false</td></tr><tr><td>salesdb</td><td>returns_raw</td><td>false</td></tr><tr><td>salesdb</td><td>sales</td><td>false</td></tr><tr><td>salesdb</td><td>sales_raw</td><td>false</td></tr></tbody></table></div>"
      ]
     },
     "metadata": {
      "application/vnd.databricks.v1+output": {
       "addedWidgets": {},
       "aggData": [],
       "aggError": "",
       "aggOverflow": false,
       "aggSchema": [],
       "aggSeriesLimitReached": false,
       "aggType": "",
       "arguments": {},
       "columnCustomDisplayInfos": {},
       "data": [
        [
         "salesdb",
         "customers",
         false
        ],
        [
         "salesdb",
         "customers_raw",
         false
        ],
        [
         "salesdb",
         "products",
         false
        ],
        [
         "salesdb",
         "products_raw",
         false
        ],
        [
         "salesdb",
         "returns",
         false
        ],
        [
         "salesdb",
         "returns_raw",
         false
        ],
        [
         "salesdb",
         "sales",
         false
        ],
        [
         "salesdb",
         "sales_raw",
         false
        ]
       ],
       "datasetInfos": [],
       "dbfsResultPath": null,
       "isJsonSchema": true,
       "metadata": {},
       "overflow": false,
       "plotOptions": {
        "customPlotOptions": {},
        "displayType": "table",
        "pivotAggregation": null,
        "pivotColumns": null,
        "xColumns": null,
        "yColumns": null
       },
       "removedWidgets": [],
       "schema": [
        {
         "metadata": "{}",
         "name": "database",
         "type": "\"string\""
        },
        {
         "metadata": "{}",
         "name": "tableName",
         "type": "\"string\""
        },
        {
         "metadata": "{}",
         "name": "isTemporary",
         "type": "\"boolean\""
        }
       ],
       "type": "table"
      }
     },
     "output_type": "display_data"
    }
   ],
   "source": [
    "%sql\n",
    "-- Switch to SQL Cell using %SQL\n",
    "SHOW tables"
   ]
  },
  {
   "cell_type": "markdown",
   "metadata": {
    "application/vnd.databricks.v1+cell": {
     "cellMetadata": {
      "byteLimit": 2048000,
      "rowLimit": 10000
     },
     "inputWidgets": {},
     "nuid": "a5b8ce48-1849-45f0-bbed-cc4b91e3f035",
     "showTitle": false,
     "title": ""
    }
   },
   "source": [
    "Let's use the SQL command to count the number of sales entries from the sales table. Also, let's show the details of the delta table 'Sale'. And lastly, let's catch a glimpse of the first rows of all tables using SQL."
   ]
  },
  {
   "cell_type": "markdown",
   "metadata": {
    "application/vnd.databricks.v1+cell": {
     "cellMetadata": {
      "byteLimit": 2048000,
      "rowLimit": 10000
     },
     "inputWidgets": {},
     "nuid": "d8789506-0e7c-443d-b5a8-89be60656ce5",
     "showTitle": false,
     "title": ""
    }
   },
   "source": [
    "**Sales Table**"
   ]
  },
  {
   "cell_type": "code",
   "execution_count": 0,
   "metadata": {
    "application/vnd.databricks.v1+cell": {
     "cellMetadata": {
      "byteLimit": 2048000,
      "implicitDf": true,
      "rowLimit": 10000
     },
     "inputWidgets": {},
     "nuid": "59b21531-d505-4a63-848a-c95c13ab55ef",
     "showTitle": false,
     "title": ""
    }
   },
   "outputs": [
    {
     "output_type": "display_data",
     "data": {
      "text/html": [
       "<style scoped>\n",
       "  .table-result-container {\n",
       "    max-height: 300px;\n",
       "    overflow: auto;\n",
       "  }\n",
       "  table, th, td {\n",
       "    border: 1px solid black;\n",
       "    border-collapse: collapse;\n",
       "  }\n",
       "  th, td {\n",
       "    padding: 5px;\n",
       "  }\n",
       "  th {\n",
       "    text-align: left;\n",
       "  }\n",
       "</style><div class='table-result-container'><table class='table-result'><thead style='background-color: white'><tr><th>count(1)</th></tr></thead><tbody><tr><td>56046</td></tr></tbody></table></div>"
      ]
     },
     "metadata": {
      "application/vnd.databricks.v1+output": {
       "addedWidgets": {},
       "aggData": [],
       "aggError": "",
       "aggOverflow": false,
       "aggSchema": [],
       "aggSeriesLimitReached": false,
       "aggType": "",
       "arguments": {},
       "columnCustomDisplayInfos": {},
       "data": [
        [
         56046
        ]
       ],
       "datasetInfos": [],
       "dbfsResultPath": null,
       "isJsonSchema": true,
       "metadata": {},
       "overflow": false,
       "plotOptions": {
        "customPlotOptions": {},
        "displayType": "table",
        "pivotAggregation": null,
        "pivotColumns": null,
        "xColumns": null,
        "yColumns": null
       },
       "removedWidgets": [],
       "schema": [
        {
         "metadata": "{\"__autoGeneratedAlias\":\"true\"}",
         "name": "count(1)",
         "type": "\"long\""
        }
       ],
       "type": "table"
      }
     },
     "output_type": "display_data"
    }
   ],
   "source": [
    "%sql\n",
    "select count(*) from sales_raw;"
   ]
  },
  {
   "cell_type": "code",
   "execution_count": 0,
   "metadata": {
    "application/vnd.databricks.v1+cell": {
     "cellMetadata": {
      "byteLimit": 2048000,
      "implicitDf": true,
      "rowLimit": 10000
     },
     "inputWidgets": {},
     "nuid": "d5a7cad9-2759-4cbf-a531-99c5784db57e",
     "showTitle": false,
     "title": ""
    }
   },
   "outputs": [
    {
     "output_type": "display_data",
     "data": {
      "text/html": [
       "<style scoped>\n",
       "  .table-result-container {\n",
       "    max-height: 300px;\n",
       "    overflow: auto;\n",
       "  }\n",
       "  table, th, td {\n",
       "    border: 1px solid black;\n",
       "    border-collapse: collapse;\n",
       "  }\n",
       "  th, td {\n",
       "    padding: 5px;\n",
       "  }\n",
       "  th {\n",
       "    text-align: left;\n",
       "  }\n",
       "</style><div class='table-result-container'><table class='table-result'><thead style='background-color: white'><tr><th>format</th><th>id</th><th>name</th><th>description</th><th>location</th><th>createdAt</th><th>lastModified</th><th>partitionColumns</th><th>numFiles</th><th>sizeInBytes</th><th>properties</th><th>minReaderVersion</th><th>minWriterVersion</th><th>tableFeatures</th><th>statistics</th></tr></thead><tbody><tr><td>delta</td><td>b81e1a79-eb1a-44b9-84bb-8145a1c63430</td><td>spark_catalog.salesdb.sales_raw</td><td>null</td><td>dbfs:/user/hive/warehouse/salesdb.db/sales_raw</td><td>2024-06-04T17:47:34.012+0000</td><td>2024-06-09T13:14:09.000+0000</td><td>List()</td><td>3</td><td>624724</td><td>Map()</td><td>1</td><td>2</td><td>List(appendOnly, invariants)</td><td>Map()</td></tr></tbody></table></div>"
      ]
     },
     "metadata": {
      "application/vnd.databricks.v1+output": {
       "addedWidgets": {},
       "aggData": [],
       "aggError": "",
       "aggOverflow": false,
       "aggSchema": [],
       "aggSeriesLimitReached": false,
       "aggType": "",
       "arguments": {},
       "columnCustomDisplayInfos": {},
       "data": [
        [
         "delta",
         "b81e1a79-eb1a-44b9-84bb-8145a1c63430",
         "spark_catalog.salesdb.sales_raw",
         null,
         "dbfs:/user/hive/warehouse/salesdb.db/sales_raw",
         "2024-06-04T17:47:34.012+0000",
         "2024-06-09T13:14:09.000+0000",
         [],
         3,
         624724,
         {},
         1,
         2,
         [
          "appendOnly",
          "invariants"
         ],
         {}
        ]
       ],
       "datasetInfos": [],
       "dbfsResultPath": null,
       "isJsonSchema": true,
       "metadata": {},
       "overflow": false,
       "plotOptions": {
        "customPlotOptions": {},
        "displayType": "table",
        "pivotAggregation": null,
        "pivotColumns": null,
        "xColumns": null,
        "yColumns": null
       },
       "removedWidgets": [],
       "schema": [
        {
         "metadata": "{}",
         "name": "format",
         "type": "\"string\""
        },
        {
         "metadata": "{}",
         "name": "id",
         "type": "\"string\""
        },
        {
         "metadata": "{}",
         "name": "name",
         "type": "\"string\""
        },
        {
         "metadata": "{}",
         "name": "description",
         "type": "\"string\""
        },
        {
         "metadata": "{}",
         "name": "location",
         "type": "\"string\""
        },
        {
         "metadata": "{}",
         "name": "createdAt",
         "type": "\"timestamp\""
        },
        {
         "metadata": "{}",
         "name": "lastModified",
         "type": "\"timestamp\""
        },
        {
         "metadata": "{}",
         "name": "partitionColumns",
         "type": "{\"type\":\"array\",\"elementType\":\"string\",\"containsNull\":true}"
        },
        {
         "metadata": "{}",
         "name": "numFiles",
         "type": "\"long\""
        },
        {
         "metadata": "{}",
         "name": "sizeInBytes",
         "type": "\"long\""
        },
        {
         "metadata": "{}",
         "name": "properties",
         "type": "{\"type\":\"map\",\"keyType\":\"string\",\"valueType\":\"string\",\"valueContainsNull\":true}"
        },
        {
         "metadata": "{}",
         "name": "minReaderVersion",
         "type": "\"integer\""
        },
        {
         "metadata": "{}",
         "name": "minWriterVersion",
         "type": "\"integer\""
        },
        {
         "metadata": "{}",
         "name": "tableFeatures",
         "type": "{\"type\":\"array\",\"elementType\":\"string\",\"containsNull\":true}"
        },
        {
         "metadata": "{}",
         "name": "statistics",
         "type": "{\"type\":\"map\",\"keyType\":\"string\",\"valueType\":\"long\",\"valueContainsNull\":true}"
        }
       ],
       "type": "table"
      }
     },
     "output_type": "display_data"
    }
   ],
   "source": [
    "%sql\n",
    "\n",
    "describe DETAIL sales_raw;"
   ]
  },
  {
   "cell_type": "code",
   "execution_count": 0,
   "metadata": {
    "application/vnd.databricks.v1+cell": {
     "cellMetadata": {
      "byteLimit": 2048000,
      "implicitDf": true,
      "rowLimit": 10000
     },
     "inputWidgets": {},
     "nuid": "37b9c09a-0b50-4e49-9ce2-5382315c0129",
     "showTitle": false,
     "title": ""
    }
   },
   "outputs": [
    {
     "output_type": "display_data",
     "data": {
      "text/html": [
       "<style scoped>\n",
       "  .table-result-container {\n",
       "    max-height: 300px;\n",
       "    overflow: auto;\n",
       "  }\n",
       "  table, th, td {\n",
       "    border: 1px solid black;\n",
       "    border-collapse: collapse;\n",
       "  }\n",
       "  th, td {\n",
       "    padding: 5px;\n",
       "  }\n",
       "  th {\n",
       "    text-align: left;\n",
       "  }\n",
       "</style><div class='table-result-container'><table class='table-result'><thead style='background-color: white'><tr><th>OrderDate</th><th>StockDate</th><th>OrderNumber</th><th>ProductKey</th><th>CustomerKey</th><th>OrderLineItem</th><th>OrderQuantity</th><th>Region</th><th>Country</th><th>Continent</th></tr></thead><tbody><tr><td>1/1/2015</td><td>9/21/2001</td><td>SO45080</td><td>332</td><td>14657</td><td>1</td><td>1</td><td>Northwest</td><td>United States</td><td>North America</td></tr><tr><td>1/1/2015</td><td>12/5/2001</td><td>SO45079</td><td>312</td><td>29255</td><td>1</td><td>1</td><td>Southwest</td><td>United States</td><td>North America</td></tr><tr><td>1/1/2015</td><td>10/29/2001</td><td>SO45082</td><td>350</td><td>11455</td><td>1</td><td>1</td><td>Australia</td><td>Australia</td><td>Pacific</td></tr><tr><td>1/1/2015</td><td>11/16/2001</td><td>SO45081</td><td>338</td><td>26782</td><td>1</td><td>1</td><td>Canada</td><td>Canada</td><td>North America</td></tr><tr><td>1/2/2015</td><td>12/15/2001</td><td>SO45083</td><td>312</td><td>14947</td><td>1</td><td>1</td><td>United Kingdom</td><td>United Kingdom</td><td>Europe</td></tr></tbody></table></div>"
      ]
     },
     "metadata": {
      "application/vnd.databricks.v1+output": {
       "addedWidgets": {},
       "aggData": [],
       "aggError": "",
       "aggOverflow": false,
       "aggSchema": [],
       "aggSeriesLimitReached": false,
       "aggType": "",
       "arguments": {},
       "columnCustomDisplayInfos": {},
       "data": [
        [
         "1/1/2015",
         "9/21/2001",
         "SO45080",
         "332",
         "14657",
         "1",
         "1",
         "Northwest",
         "United States",
         "North America"
        ],
        [
         "1/1/2015",
         "12/5/2001",
         "SO45079",
         "312",
         "29255",
         "1",
         "1",
         "Southwest",
         "United States",
         "North America"
        ],
        [
         "1/1/2015",
         "10/29/2001",
         "SO45082",
         "350",
         "11455",
         "1",
         "1",
         "Australia",
         "Australia",
         "Pacific"
        ],
        [
         "1/1/2015",
         "11/16/2001",
         "SO45081",
         "338",
         "26782",
         "1",
         "1",
         "Canada",
         "Canada",
         "North America"
        ],
        [
         "1/2/2015",
         "12/15/2001",
         "SO45083",
         "312",
         "14947",
         "1",
         "1",
         "United Kingdom",
         "United Kingdom",
         "Europe"
        ]
       ],
       "datasetInfos": [],
       "dbfsResultPath": null,
       "isJsonSchema": true,
       "metadata": {},
       "overflow": false,
       "plotOptions": {
        "customPlotOptions": {},
        "displayType": "table",
        "pivotAggregation": null,
        "pivotColumns": null,
        "xColumns": null,
        "yColumns": null
       },
       "removedWidgets": [],
       "schema": [
        {
         "metadata": "{}",
         "name": "OrderDate",
         "type": "\"string\""
        },
        {
         "metadata": "{}",
         "name": "StockDate",
         "type": "\"string\""
        },
        {
         "metadata": "{}",
         "name": "OrderNumber",
         "type": "\"string\""
        },
        {
         "metadata": "{}",
         "name": "ProductKey",
         "type": "\"string\""
        },
        {
         "metadata": "{}",
         "name": "CustomerKey",
         "type": "\"string\""
        },
        {
         "metadata": "{}",
         "name": "OrderLineItem",
         "type": "\"string\""
        },
        {
         "metadata": "{}",
         "name": "OrderQuantity",
         "type": "\"string\""
        },
        {
         "metadata": "{}",
         "name": "Region",
         "type": "\"string\""
        },
        {
         "metadata": "{}",
         "name": "Country",
         "type": "\"string\""
        },
        {
         "metadata": "{}",
         "name": "Continent",
         "type": "\"string\""
        }
       ],
       "type": "table"
      }
     },
     "output_type": "display_data"
    }
   ],
   "source": [
    "%sql\n",
    "\n",
    "select * from sales_raw limit 5;"
   ]
  },
  {
   "cell_type": "markdown",
   "metadata": {
    "application/vnd.databricks.v1+cell": {
     "cellMetadata": {
      "byteLimit": 2048000,
      "rowLimit": 10000
     },
     "inputWidgets": {},
     "nuid": "a2f7c1ed-3657-4fb5-800a-003e081fcfff",
     "showTitle": false,
     "title": ""
    }
   },
   "source": [
    "**Customers Table**"
   ]
  },
  {
   "cell_type": "code",
   "execution_count": 0,
   "metadata": {
    "application/vnd.databricks.v1+cell": {
     "cellMetadata": {
      "byteLimit": 2048000,
      "implicitDf": true,
      "rowLimit": 10000
     },
     "inputWidgets": {},
     "nuid": "b26ca315-c5b6-4bf4-bc1a-f702dc53a8b6",
     "showTitle": false,
     "title": ""
    }
   },
   "outputs": [
    {
     "output_type": "display_data",
     "data": {
      "text/html": [
       "<style scoped>\n",
       "  .table-result-container {\n",
       "    max-height: 300px;\n",
       "    overflow: auto;\n",
       "  }\n",
       "  table, th, td {\n",
       "    border: 1px solid black;\n",
       "    border-collapse: collapse;\n",
       "  }\n",
       "  th, td {\n",
       "    padding: 5px;\n",
       "  }\n",
       "  th {\n",
       "    text-align: left;\n",
       "  }\n",
       "</style><div class='table-result-container'><table class='table-result'><thead style='background-color: white'><tr><th>CustomerKey</th><th>Prefix</th><th>FirstName</th><th>LastName</th><th>BirthDate</th><th>MaritalStatus</th><th>Gender</th><th>EmailAddress</th><th>AnnualIncome</th><th>TotalChildren</th><th>EducationLevel</th><th>Occupation</th><th>HomeOwner</th></tr></thead><tbody><tr><td>11000</td><td>MR.</td><td>JON</td><td>YANG</td><td>4/8/1966</td><td>M</td><td>M</td><td>jon24@adventure-works.com</td><td>$90,000 </td><td>2</td><td>Bachelors</td><td>Professional</td><td>Y</td></tr><tr><td>11001</td><td>MR.</td><td>EUGENE</td><td>HUANG</td><td>5/14/1965</td><td>S</td><td>M</td><td>eugene10@adventure-works.com</td><td>$60,000 </td><td>3</td><td>Bachelors</td><td>Professional</td><td>N</td></tr><tr><td>11002</td><td>MR.</td><td>RUBEN</td><td>TORRES</td><td>8/12/1965</td><td>M</td><td>M</td><td>ruben35@adventure-works.com</td><td>$60,000 </td><td>3</td><td>Bachelors</td><td>Professional</td><td>Y</td></tr><tr><td>11003</td><td>MS.</td><td>CHRISTY</td><td>ZHU</td><td>2/15/1968</td><td>S</td><td>F</td><td>christy12@adventure-works.com</td><td>$70,000 </td><td>0</td><td>Bachelors</td><td>Professional</td><td>N</td></tr><tr><td>11004</td><td>MRS.</td><td>ELIZABETH</td><td>JOHNSON</td><td>8/8/1968</td><td>S</td><td>F</td><td>elizabeth5@adventure-works.com</td><td>$80,000 </td><td>5</td><td>Bachelors</td><td>Professional</td><td>Y</td></tr></tbody></table></div>"
      ]
     },
     "metadata": {
      "application/vnd.databricks.v1+output": {
       "addedWidgets": {},
       "aggData": [],
       "aggError": "",
       "aggOverflow": false,
       "aggSchema": [],
       "aggSeriesLimitReached": false,
       "aggType": "",
       "arguments": {},
       "columnCustomDisplayInfos": {},
       "data": [
        [
         "11000",
         "MR.",
         "JON",
         "YANG",
         "4/8/1966",
         "M",
         "M",
         "jon24@adventure-works.com",
         "$90,000 ",
         "2",
         "Bachelors",
         "Professional",
         "Y"
        ],
        [
         "11001",
         "MR.",
         "EUGENE",
         "HUANG",
         "5/14/1965",
         "S",
         "M",
         "eugene10@adventure-works.com",
         "$60,000 ",
         "3",
         "Bachelors",
         "Professional",
         "N"
        ],
        [
         "11002",
         "MR.",
         "RUBEN",
         "TORRES",
         "8/12/1965",
         "M",
         "M",
         "ruben35@adventure-works.com",
         "$60,000 ",
         "3",
         "Bachelors",
         "Professional",
         "Y"
        ],
        [
         "11003",
         "MS.",
         "CHRISTY",
         "ZHU",
         "2/15/1968",
         "S",
         "F",
         "christy12@adventure-works.com",
         "$70,000 ",
         "0",
         "Bachelors",
         "Professional",
         "N"
        ],
        [
         "11004",
         "MRS.",
         "ELIZABETH",
         "JOHNSON",
         "8/8/1968",
         "S",
         "F",
         "elizabeth5@adventure-works.com",
         "$80,000 ",
         "5",
         "Bachelors",
         "Professional",
         "Y"
        ]
       ],
       "datasetInfos": [],
       "dbfsResultPath": null,
       "isJsonSchema": true,
       "metadata": {},
       "overflow": false,
       "plotOptions": {
        "customPlotOptions": {},
        "displayType": "table",
        "pivotAggregation": null,
        "pivotColumns": null,
        "xColumns": null,
        "yColumns": null
       },
       "removedWidgets": [],
       "schema": [
        {
         "metadata": "{}",
         "name": "CustomerKey",
         "type": "\"string\""
        },
        {
         "metadata": "{}",
         "name": "Prefix",
         "type": "\"string\""
        },
        {
         "metadata": "{}",
         "name": "FirstName",
         "type": "\"string\""
        },
        {
         "metadata": "{}",
         "name": "LastName",
         "type": "\"string\""
        },
        {
         "metadata": "{}",
         "name": "BirthDate",
         "type": "\"string\""
        },
        {
         "metadata": "{}",
         "name": "MaritalStatus",
         "type": "\"string\""
        },
        {
         "metadata": "{}",
         "name": "Gender",
         "type": "\"string\""
        },
        {
         "metadata": "{}",
         "name": "EmailAddress",
         "type": "\"string\""
        },
        {
         "metadata": "{}",
         "name": "AnnualIncome",
         "type": "\"string\""
        },
        {
         "metadata": "{}",
         "name": "TotalChildren",
         "type": "\"string\""
        },
        {
         "metadata": "{}",
         "name": "EducationLevel",
         "type": "\"string\""
        },
        {
         "metadata": "{}",
         "name": "Occupation",
         "type": "\"string\""
        },
        {
         "metadata": "{}",
         "name": "HomeOwner",
         "type": "\"string\""
        }
       ],
       "type": "table"
      }
     },
     "output_type": "display_data"
    }
   ],
   "source": [
    "%sql\n",
    "\n",
    "select * from customers_raw limit 5;"
   ]
  },
  {
   "cell_type": "markdown",
   "metadata": {
    "application/vnd.databricks.v1+cell": {
     "cellMetadata": {
      "byteLimit": 2048000,
      "rowLimit": 10000
     },
     "inputWidgets": {},
     "nuid": "2e044b93-93bb-4c6c-aed5-00e35f1e272f",
     "showTitle": false,
     "title": ""
    }
   },
   "source": [
    "**Products Table**"
   ]
  },
  {
   "cell_type": "code",
   "execution_count": 0,
   "metadata": {
    "application/vnd.databricks.v1+cell": {
     "cellMetadata": {
      "byteLimit": 2048000,
      "implicitDf": true,
      "rowLimit": 10000
     },
     "inputWidgets": {},
     "nuid": "546cddc2-9f8c-4fa9-bb0d-aab1b0e4a1a3",
     "showTitle": false,
     "title": ""
    }
   },
   "outputs": [
    {
     "output_type": "display_data",
     "data": {
      "text/html": [
       "<style scoped>\n",
       "  .table-result-container {\n",
       "    max-height: 300px;\n",
       "    overflow: auto;\n",
       "  }\n",
       "  table, th, td {\n",
       "    border: 1px solid black;\n",
       "    border-collapse: collapse;\n",
       "  }\n",
       "  th, td {\n",
       "    padding: 5px;\n",
       "  }\n",
       "  th {\n",
       "    text-align: left;\n",
       "  }\n",
       "</style><div class='table-result-container'><table class='table-result'><thead style='background-color: white'><tr><th>count(1)</th></tr></thead><tbody><tr><td>293</td></tr></tbody></table></div>"
      ]
     },
     "metadata": {
      "application/vnd.databricks.v1+output": {
       "addedWidgets": {},
       "aggData": [],
       "aggError": "",
       "aggOverflow": false,
       "aggSchema": [],
       "aggSeriesLimitReached": false,
       "aggType": "",
       "arguments": {},
       "columnCustomDisplayInfos": {},
       "data": [
        [
         293
        ]
       ],
       "datasetInfos": [],
       "dbfsResultPath": null,
       "isJsonSchema": true,
       "metadata": {},
       "overflow": false,
       "plotOptions": {
        "customPlotOptions": {},
        "displayType": "table",
        "pivotAggregation": null,
        "pivotColumns": null,
        "xColumns": null,
        "yColumns": null
       },
       "removedWidgets": [],
       "schema": [
        {
         "metadata": "{\"__autoGeneratedAlias\":\"true\"}",
         "name": "count(1)",
         "type": "\"long\""
        }
       ],
       "type": "table"
      }
     },
     "output_type": "display_data"
    }
   ],
   "source": [
    "%sql\n",
    "select count(*) from products_raw;"
   ]
  },
  {
   "cell_type": "code",
   "execution_count": 0,
   "metadata": {
    "application/vnd.databricks.v1+cell": {
     "cellMetadata": {
      "byteLimit": 2048000,
      "implicitDf": true,
      "rowLimit": 10000
     },
     "inputWidgets": {},
     "nuid": "102c4228-8f9d-454b-b3a2-05936e18bbdd",
     "showTitle": false,
     "title": ""
    }
   },
   "outputs": [
    {
     "output_type": "display_data",
     "data": {
      "text/html": [
       "<style scoped>\n",
       "  .table-result-container {\n",
       "    max-height: 300px;\n",
       "    overflow: auto;\n",
       "  }\n",
       "  table, th, td {\n",
       "    border: 1px solid black;\n",
       "    border-collapse: collapse;\n",
       "  }\n",
       "  th, td {\n",
       "    padding: 5px;\n",
       "  }\n",
       "  th {\n",
       "    text-align: left;\n",
       "  }\n",
       "</style><div class='table-result-container'><table class='table-result'><thead style='background-color: white'><tr><th>ProductKey</th><th>CategoryName</th><th>ProductSubcategory</th><th>ProductSKU</th><th>ProductName</th><th>ModelName</th><th>ProductDescription</th><th>ProductColor</th><th>ProductSize</th><th>ProductStyle</th><th>ProductCost</th><th>ProductPrice</th></tr></thead><tbody><tr><td>214</td><td>Accessories</td><td>Helmets</td><td>HL-U509-R</td><td>Sport-100 Helmet, Red</td><td>Sport-100</td><td>Universal fit, well-vented, lightweight , snap-on visor.</td><td>Red</td><td>0</td><td>0</td><td>13.0863</td><td>34.99</td></tr><tr><td>215</td><td>Accessories</td><td>Helmets</td><td>HL-U509</td><td>Sport-100 Helmet, Black</td><td>Sport-100</td><td>Universal fit, well-vented, lightweight , snap-on visor.</td><td>Black</td><td>0</td><td>0</td><td>12.0278</td><td>33.6442</td></tr><tr><td>218</td><td>Clothing</td><td>Socks</td><td>SO-B909-M</td><td>Mountain Bike Socks, M</td><td>Mountain Bike Socks</td><td>Combination of natural and synthetic fibers stays dry and provides just the right cushioning.</td><td>White</td><td>M</td><td>U</td><td>3.3963</td><td>9.5</td></tr><tr><td>219</td><td>Clothing</td><td>Socks</td><td>SO-B909-L</td><td>Mountain Bike Socks, L</td><td>Mountain Bike Socks</td><td>Combination of natural and synthetic fibers stays dry and provides just the right cushioning.</td><td>White</td><td>L</td><td>U</td><td>3.3963</td><td>9.5</td></tr><tr><td>220</td><td>Accessories</td><td>Helmets</td><td>HL-U509-B</td><td>Sport-100 Helmet, Blue</td><td>Sport-100</td><td>Universal fit, well-vented, lightweight , snap-on visor.</td><td>Blue</td><td>0</td><td>0</td><td>12.0278</td><td>33.6442</td></tr></tbody></table></div>"
      ]
     },
     "metadata": {
      "application/vnd.databricks.v1+output": {
       "addedWidgets": {},
       "aggData": [],
       "aggError": "",
       "aggOverflow": false,
       "aggSchema": [],
       "aggSeriesLimitReached": false,
       "aggType": "",
       "arguments": {},
       "columnCustomDisplayInfos": {},
       "data": [
        [
         "214",
         "Accessories",
         "Helmets",
         "HL-U509-R",
         "Sport-100 Helmet, Red",
         "Sport-100",
         "Universal fit, well-vented, lightweight , snap-on visor.",
         "Red",
         "0",
         "0",
         "13.0863",
         "34.99"
        ],
        [
         "215",
         "Accessories",
         "Helmets",
         "HL-U509",
         "Sport-100 Helmet, Black",
         "Sport-100",
         "Universal fit, well-vented, lightweight , snap-on visor.",
         "Black",
         "0",
         "0",
         "12.0278",
         "33.6442"
        ],
        [
         "218",
         "Clothing",
         "Socks",
         "SO-B909-M",
         "Mountain Bike Socks, M",
         "Mountain Bike Socks",
         "Combination of natural and synthetic fibers stays dry and provides just the right cushioning.",
         "White",
         "M",
         "U",
         "3.3963",
         "9.5"
        ],
        [
         "219",
         "Clothing",
         "Socks",
         "SO-B909-L",
         "Mountain Bike Socks, L",
         "Mountain Bike Socks",
         "Combination of natural and synthetic fibers stays dry and provides just the right cushioning.",
         "White",
         "L",
         "U",
         "3.3963",
         "9.5"
        ],
        [
         "220",
         "Accessories",
         "Helmets",
         "HL-U509-B",
         "Sport-100 Helmet, Blue",
         "Sport-100",
         "Universal fit, well-vented, lightweight , snap-on visor.",
         "Blue",
         "0",
         "0",
         "12.0278",
         "33.6442"
        ]
       ],
       "datasetInfos": [],
       "dbfsResultPath": null,
       "isJsonSchema": true,
       "metadata": {},
       "overflow": false,
       "plotOptions": {
        "customPlotOptions": {},
        "displayType": "table",
        "pivotAggregation": null,
        "pivotColumns": null,
        "xColumns": null,
        "yColumns": null
       },
       "removedWidgets": [],
       "schema": [
        {
         "metadata": "{}",
         "name": "ProductKey",
         "type": "\"string\""
        },
        {
         "metadata": "{}",
         "name": "CategoryName",
         "type": "\"string\""
        },
        {
         "metadata": "{}",
         "name": "ProductSubcategory",
         "type": "\"string\""
        },
        {
         "metadata": "{}",
         "name": "ProductSKU",
         "type": "\"string\""
        },
        {
         "metadata": "{}",
         "name": "ProductName",
         "type": "\"string\""
        },
        {
         "metadata": "{}",
         "name": "ModelName",
         "type": "\"string\""
        },
        {
         "metadata": "{}",
         "name": "ProductDescription",
         "type": "\"string\""
        },
        {
         "metadata": "{}",
         "name": "ProductColor",
         "type": "\"string\""
        },
        {
         "metadata": "{}",
         "name": "ProductSize",
         "type": "\"string\""
        },
        {
         "metadata": "{}",
         "name": "ProductStyle",
         "type": "\"string\""
        },
        {
         "metadata": "{}",
         "name": "ProductCost",
         "type": "\"string\""
        },
        {
         "metadata": "{}",
         "name": "ProductPrice",
         "type": "\"string\""
        }
       ],
       "type": "table"
      }
     },
     "output_type": "display_data"
    }
   ],
   "source": [
    "%sql\n",
    "\n",
    "select * from products_raw limit 5;"
   ]
  },
  {
   "cell_type": "markdown",
   "metadata": {
    "application/vnd.databricks.v1+cell": {
     "cellMetadata": {
      "byteLimit": 2048000,
      "rowLimit": 10000
     },
     "inputWidgets": {},
     "nuid": "38933bf2-bcf0-4ed3-bc08-badadcbb56e8",
     "showTitle": false,
     "title": ""
    }
   },
   "source": [
    "**Product Returns Table**"
   ]
  },
  {
   "cell_type": "code",
   "execution_count": 0,
   "metadata": {
    "application/vnd.databricks.v1+cell": {
     "cellMetadata": {
      "byteLimit": 2048000,
      "implicitDf": true,
      "rowLimit": 10000
     },
     "inputWidgets": {},
     "nuid": "b5854f01-f528-46c1-b64f-2e457a3c4567",
     "showTitle": false,
     "title": ""
    }
   },
   "outputs": [
    {
     "output_type": "display_data",
     "data": {
      "text/html": [
       "<style scoped>\n",
       "  .table-result-container {\n",
       "    max-height: 300px;\n",
       "    overflow: auto;\n",
       "  }\n",
       "  table, th, td {\n",
       "    border: 1px solid black;\n",
       "    border-collapse: collapse;\n",
       "  }\n",
       "  th, td {\n",
       "    padding: 5px;\n",
       "  }\n",
       "  th {\n",
       "    text-align: left;\n",
       "  }\n",
       "</style><div class='table-result-container'><table class='table-result'><thead style='background-color: white'><tr><th>ReturnDate</th><th>Continent</th><th>Country</th><th>Region</th><th>ProductKey</th><th>ReturnQuantity</th></tr></thead><tbody><tr><td>1/18/2015</td><td>Pacific</td><td>Australia</td><td>Australia</td><td>312</td><td>1</td></tr><tr><td>1/18/2015</td><td>Europe</td><td>United Kingdom</td><td>United Kingdom</td><td>310</td><td>1</td></tr><tr><td>1/21/2015</td><td>Europe</td><td>Germany</td><td>Germany</td><td>346</td><td>1</td></tr><tr><td>1/22/2015</td><td>North America</td><td>United States</td><td>Southwest</td><td>311</td><td>1</td></tr><tr><td>2/2/2015</td><td>North America</td><td>Canada</td><td>Canada</td><td>312</td><td>1</td></tr></tbody></table></div>"
      ]
     },
     "metadata": {
      "application/vnd.databricks.v1+output": {
       "addedWidgets": {},
       "aggData": [],
       "aggError": "",
       "aggOverflow": false,
       "aggSchema": [],
       "aggSeriesLimitReached": false,
       "aggType": "",
       "arguments": {},
       "columnCustomDisplayInfos": {},
       "data": [
        [
         "1/18/2015",
         "Pacific",
         "Australia",
         "Australia",
         "312",
         "1"
        ],
        [
         "1/18/2015",
         "Europe",
         "United Kingdom",
         "United Kingdom",
         "310",
         "1"
        ],
        [
         "1/21/2015",
         "Europe",
         "Germany",
         "Germany",
         "346",
         "1"
        ],
        [
         "1/22/2015",
         "North America",
         "United States",
         "Southwest",
         "311",
         "1"
        ],
        [
         "2/2/2015",
         "North America",
         "Canada",
         "Canada",
         "312",
         "1"
        ]
       ],
       "datasetInfos": [],
       "dbfsResultPath": null,
       "isJsonSchema": true,
       "metadata": {},
       "overflow": false,
       "plotOptions": {
        "customPlotOptions": {},
        "displayType": "table",
        "pivotAggregation": null,
        "pivotColumns": null,
        "xColumns": null,
        "yColumns": null
       },
       "removedWidgets": [],
       "schema": [
        {
         "metadata": "{}",
         "name": "ReturnDate",
         "type": "\"string\""
        },
        {
         "metadata": "{}",
         "name": "Continent",
         "type": "\"string\""
        },
        {
         "metadata": "{}",
         "name": "Country",
         "type": "\"string\""
        },
        {
         "metadata": "{}",
         "name": "Region",
         "type": "\"string\""
        },
        {
         "metadata": "{}",
         "name": "ProductKey",
         "type": "\"string\""
        },
        {
         "metadata": "{}",
         "name": "ReturnQuantity",
         "type": "\"string\""
        }
       ],
       "type": "table"
      }
     },
     "output_type": "display_data"
    }
   ],
   "source": [
    "%sql\n",
    "\n",
    "select * from returns_raw limit 5;"
   ]
  },
  {
   "cell_type": "markdown",
   "metadata": {
    "application/vnd.databricks.v1+cell": {
     "cellMetadata": {
      "byteLimit": 2048000,
      "rowLimit": 10000
     },
     "inputWidgets": {},
     "nuid": "ee6f70b7-699b-4033-b4e0-1e7dfc025554",
     "showTitle": false,
     "title": ""
    }
   },
   "source": [
    "#### Transform Data in the Delta Table"
   ]
  },
  {
   "cell_type": "markdown",
   "metadata": {
    "application/vnd.databricks.v1+cell": {
     "cellMetadata": {
      "byteLimit": 2048000,
      "rowLimit": 10000
     },
     "inputWidgets": {},
     "nuid": "fe60cbd1-8f68-4b02-b35e-19ff3ebae99c",
     "showTitle": false,
     "title": ""
    }
   },
   "source": [
    "All previously loaded data still has string formats. However, some tables contain dates and numerical data. For example, the 'Sales table' has OrderDate and StockDate which are dates. Order Quantity is a numerical value. So, let's convert these so that we can use this in the data analysis. "
   ]
  },
  {
   "cell_type": "markdown",
   "metadata": {
    "application/vnd.databricks.v1+cell": {
     "cellMetadata": {
      "byteLimit": 2048000,
      "rowLimit": 10000
     },
     "inputWidgets": {},
     "nuid": "873bd0dd-cbaf-45b2-af96-6e1ba23860ac",
     "showTitle": false,
     "title": ""
    }
   },
   "source": [
    "**Sales Table**"
   ]
  },
  {
   "cell_type": "code",
   "execution_count": 0,
   "metadata": {
    "application/vnd.databricks.v1+cell": {
     "cellMetadata": {
      "byteLimit": 2048000,
      "rowLimit": 10000
     },
     "inputWidgets": {},
     "nuid": "16c71185-dc31-4c1e-94ba-452102de61b3",
     "showTitle": false,
     "title": ""
    }
   },
   "outputs": [
    {
     "output_type": "stream",
     "name": "stdout",
     "output_type": "stream",
     "text": [
      "+---------+----------+-----------+----------+-----------+-------------+-------------+--------------+--------------+-------------+\n|OrderDate|StockDate |OrderNumber|ProductKey|CustomerKey|OrderLineItem|OrderQuantity|Region        |Country       |Continent    |\n+---------+----------+-----------+----------+-----------+-------------+-------------+--------------+--------------+-------------+\n|1/1/2015 |9/21/2001 |SO45080    |332       |14657      |1            |1            |Northwest     |United States |North America|\n|1/1/2015 |12/5/2001 |SO45079    |312       |29255      |1            |1            |Southwest     |United States |North America|\n|1/1/2015 |10/29/2001|SO45082    |350       |11455      |1            |1            |Australia     |Australia     |Pacific      |\n|1/1/2015 |11/16/2001|SO45081    |338       |26782      |1            |1            |Canada        |Canada        |North America|\n|1/2/2015 |12/15/2001|SO45083    |312       |14947      |1            |1            |United Kingdom|United Kingdom|Europe       |\n+---------+----------+-----------+----------+-----------+-------------+-------------+--------------+--------------+-------------+\nonly showing top 5 rows\n\n"
     ]
    }
   ],
   "source": [
    "#read Delta Table using spark dataframe\n",
    "sales_df=  spark.read.table(\"salesdb.sales_raw\")\n",
    "#And show the first 5 rows\n",
    "sales_df.show(n=5,truncate=False)"
   ]
  },
  {
   "cell_type": "code",
   "execution_count": 0,
   "metadata": {
    "application/vnd.databricks.v1+cell": {
     "cellMetadata": {
      "byteLimit": 2048000,
      "rowLimit": 10000
     },
     "inputWidgets": {},
     "nuid": "e4d7bd70-f1de-491f-918a-f53fa9763740",
     "showTitle": false,
     "title": ""
    }
   },
   "outputs": [
    {
     "output_type": "stream",
     "name": "stdout",
     "output_type": "stream",
     "text": [
      "+----------+----------+-----------+----------+-----------+-------------+-------------+--------------+--------------+-------------+\n|OrderDate |StockDate |OrderNumber|ProductKey|CustomerKey|OrderLineItem|OrderQuantity|Region        |Country       |Continent    |\n+----------+----------+-----------+----------+-----------+-------------+-------------+--------------+--------------+-------------+\n|2015-01-01|9/21/2001 |SO45080    |332       |14657      |1            |1            |Northwest     |United States |North America|\n|2015-01-01|12/5/2001 |SO45079    |312       |29255      |1            |1            |Southwest     |United States |North America|\n|2015-01-01|10/29/2001|SO45082    |350       |11455      |1            |1            |Australia     |Australia     |Pacific      |\n|2015-01-01|11/16/2001|SO45081    |338       |26782      |1            |1            |Canada        |Canada        |North America|\n|2015-01-02|12/15/2001|SO45083    |312       |14947      |1            |1            |United Kingdom|United Kingdom|Europe       |\n+----------+----------+-----------+----------+-----------+-------------+-------------+--------------+--------------+-------------+\nonly showing top 5 rows\n\n"
     ]
    }
   ],
   "source": [
    "#Use withColumn method & datetype to convert the columns OrderDate and StockDate to a date format instead of string format\n",
    "from pyspark.sql.functions import *\n",
    "from pyspark.sql.types import DateType\n",
    "from datetime import datetime\n",
    "from pyspark.sql.functions import col, udf\n",
    "func = udf(lambda x: datetime.strptime(x,'%m/%d/%Y'),DateType())\n",
    "sales_df =  sales_df.withColumn(\"OrderDate\",func(col('OrderDate')))\n",
    "sales_df.show(n=5,truncate=False)"
   ]
  },
  {
   "cell_type": "code",
   "execution_count": 0,
   "metadata": {
    "application/vnd.databricks.v1+cell": {
     "cellMetadata": {
      "byteLimit": 2048000,
      "rowLimit": 10000
     },
     "inputWidgets": {},
     "nuid": "2728ec50-0cef-4307-b7f5-e563cc4770f7",
     "showTitle": false,
     "title": ""
    }
   },
   "outputs": [
    {
     "output_type": "stream",
     "name": "stdout",
     "output_type": "stream",
     "text": [
      "+----------+----------+-----------+----------+-----------+-------------+-------------+--------------+--------------+-------------+\n|OrderDate |StockDate |OrderNumber|ProductKey|CustomerKey|OrderLineItem|OrderQuantity|Region        |Country       |Continent    |\n+----------+----------+-----------+----------+-----------+-------------+-------------+--------------+--------------+-------------+\n|2015-01-01|2001-09-21|SO45080    |332       |14657      |1            |1            |Northwest     |United States |North America|\n|2015-01-01|2001-12-05|SO45079    |312       |29255      |1            |1            |Southwest     |United States |North America|\n|2015-01-01|2001-10-29|SO45082    |350       |11455      |1            |1            |Australia     |Australia     |Pacific      |\n|2015-01-01|2001-11-16|SO45081    |338       |26782      |1            |1            |Canada        |Canada        |North America|\n|2015-01-02|2001-12-15|SO45083    |312       |14947      |1            |1            |United Kingdom|United Kingdom|Europe       |\n+----------+----------+-----------+----------+-----------+-------------+-------------+--------------+--------------+-------------+\nonly showing top 5 rows\n\n"
     ]
    }
   ],
   "source": [
    "func = udf(lambda x: datetime.strptime(x,'%m/%d/%Y'),DateType())\n",
    "sales_df =  sales_df.withColumn(\"StockDate\",func(col('StockDate')))\n",
    "sales_df.show(n=5,truncate=False)"
   ]
  },
  {
   "cell_type": "markdown",
   "metadata": {
    "application/vnd.databricks.v1+cell": {
     "cellMetadata": {
      "byteLimit": 2048000,
      "rowLimit": 10000
     },
     "inputWidgets": {},
     "nuid": "145248ba-53ff-4e43-bd41-6b85ffab3c3e",
     "showTitle": false,
     "title": ""
    }
   },
   "source": [
    "Now, I converted the dates in the 'Sales table'. Let's check for missing values also."
   ]
  },
  {
   "cell_type": "code",
   "execution_count": 0,
   "metadata": {
    "application/vnd.databricks.v1+cell": {
     "cellMetadata": {
      "byteLimit": 2048000,
      "rowLimit": 10000
     },
     "inputWidgets": {},
     "nuid": "c5833261-3870-4d86-9ce3-770f8454f1a4",
     "showTitle": false,
     "title": ""
    }
   },
   "outputs": [
    {
     "output_type": "display_data",
     "data": {
      "text/html": [
       "<style scoped>\n",
       "  .table-result-container {\n",
       "    max-height: 300px;\n",
       "    overflow: auto;\n",
       "  }\n",
       "  table, th, td {\n",
       "    border: 1px solid black;\n",
       "    border-collapse: collapse;\n",
       "  }\n",
       "  th, td {\n",
       "    padding: 5px;\n",
       "  }\n",
       "  th {\n",
       "    text-align: left;\n",
       "  }\n",
       "</style><div class='table-result-container'><table class='table-result'><thead style='background-color: white'><tr><th>OrderDate</th><th>StockDate</th><th>OrderNumber</th><th>ProductKey</th><th>CustomerKey</th><th>OrderLineItem</th><th>OrderQuantity</th><th>Region</th><th>Country</th><th>Continent</th></tr></thead><tbody><tr><td>0</td><td>0</td><td>0</td><td>0</td><td>0</td><td>0</td><td>0</td><td>0</td><td>0</td><td>0</td></tr></tbody></table></div>"
      ]
     },
     "metadata": {
      "application/vnd.databricks.v1+output": {
       "addedWidgets": {},
       "aggData": [],
       "aggError": "",
       "aggOverflow": false,
       "aggSchema": [],
       "aggSeriesLimitReached": false,
       "aggType": "",
       "arguments": {},
       "columnCustomDisplayInfos": {},
       "data": [
        [
         0,
         0,
         0,
         0,
         0,
         0,
         0,
         0,
         0,
         0
        ]
       ],
       "datasetInfos": [],
       "dbfsResultPath": null,
       "isJsonSchema": true,
       "metadata": {},
       "overflow": false,
       "plotOptions": {
        "customPlotOptions": {},
        "displayType": "table",
        "pivotAggregation": null,
        "pivotColumns": null,
        "xColumns": null,
        "yColumns": null
       },
       "removedWidgets": [],
       "schema": [
        {
         "metadata": "{}",
         "name": "OrderDate",
         "type": "\"long\""
        },
        {
         "metadata": "{}",
         "name": "StockDate",
         "type": "\"long\""
        },
        {
         "metadata": "{}",
         "name": "OrderNumber",
         "type": "\"long\""
        },
        {
         "metadata": "{}",
         "name": "ProductKey",
         "type": "\"long\""
        },
        {
         "metadata": "{}",
         "name": "CustomerKey",
         "type": "\"long\""
        },
        {
         "metadata": "{}",
         "name": "OrderLineItem",
         "type": "\"long\""
        },
        {
         "metadata": "{}",
         "name": "OrderQuantity",
         "type": "\"long\""
        },
        {
         "metadata": "{}",
         "name": "Region",
         "type": "\"long\""
        },
        {
         "metadata": "{}",
         "name": "Country",
         "type": "\"long\""
        },
        {
         "metadata": "{}",
         "name": "Continent",
         "type": "\"long\""
        }
       ],
       "type": "table"
      }
     },
     "output_type": "display_data"
    }
   ],
   "source": [
    "# Count missing values for each column\n",
    "display(sales_df.select([count(when(col(c).isNull(),c)).alias(c) for c in sales_df.columns]))"
   ]
  },
  {
   "cell_type": "code",
   "execution_count": 0,
   "metadata": {
    "application/vnd.databricks.v1+cell": {
     "cellMetadata": {
      "byteLimit": 2048000,
      "rowLimit": 10000
     },
     "inputWidgets": {},
     "nuid": "66f1bcb7-75ed-4df8-a94a-80c3ce9f6e53",
     "showTitle": false,
     "title": ""
    }
   },
   "outputs": [
    {
     "output_type": "stream",
     "name": "stdout",
     "output_type": "stream",
     "text": [
      "+----------+----------+-----------+----------+-----------+-------------+-------------+--------------+--------------+-------------+\n|OrderDate |StockDate |OrderNumber|ProductKey|CustomerKey|OrderLineItem|OrderQuantity|Region        |Country       |Continent    |\n+----------+----------+-----------+----------+-----------+-------------+-------------+--------------+--------------+-------------+\n|2015-01-01|2001-09-21|SO45080    |332       |14657      |1            |1            |Northwest     |United States |North America|\n|2015-01-01|2001-12-05|SO45079    |312       |29255      |1            |1            |Southwest     |United States |North America|\n|2015-01-01|2001-10-29|SO45082    |350       |11455      |1            |1            |Australia     |Australia     |Pacific      |\n|2015-01-01|2001-11-16|SO45081    |338       |26782      |1            |1            |Canada        |Canada        |North America|\n|2015-01-02|2001-12-15|SO45083    |312       |14947      |1            |1            |United Kingdom|United Kingdom|Europe       |\n+----------+----------+-----------+----------+-----------+-------------+-------------+--------------+--------------+-------------+\nonly showing top 5 rows\n\n"
     ]
    }
   ],
   "source": [
    "#convert return quantity to a number\n",
    "from pyspark.sql.types import IntegerType\n",
    "sales_df =  sales_df.withColumn(\"OrderQuantity\",sales_df[\"OrderQuantity\"].cast(IntegerType()))\n",
    "sales_df.show(n=5,truncate=False)"
   ]
  },
  {
   "cell_type": "markdown",
   "metadata": {
    "application/vnd.databricks.v1+cell": {
     "cellMetadata": {
      "byteLimit": 2048000,
      "rowLimit": 10000
     },
     "inputWidgets": {},
     "nuid": "e63175ea-2338-404d-8cb6-aed398b1796f",
     "showTitle": false,
     "title": ""
    }
   },
   "source": [
    "No values are missing in the 'Sales table'. Also, I converted the order quantity into a numerical value. I do the same for the other tables."
   ]
  },
  {
   "cell_type": "markdown",
   "metadata": {
    "application/vnd.databricks.v1+cell": {
     "cellMetadata": {
      "byteLimit": 2048000,
      "rowLimit": 10000
     },
     "inputWidgets": {},
     "nuid": "e07bc0d9-517d-449c-9f41-97104ba75fb9",
     "showTitle": false,
     "title": ""
    }
   },
   "source": [
    "**Customers Table**"
   ]
  },
  {
   "cell_type": "code",
   "execution_count": 0,
   "metadata": {
    "application/vnd.databricks.v1+cell": {
     "cellMetadata": {
      "byteLimit": 2048000,
      "rowLimit": 10000
     },
     "inputWidgets": {},
     "nuid": "700b499b-c7c2-4740-9035-aa8ea0f2d34b",
     "showTitle": false,
     "title": ""
    }
   },
   "outputs": [
    {
     "output_type": "stream",
     "name": "stdout",
     "output_type": "stream",
     "text": [
      "+-----------+------+---------+--------+---------+-------------+------+------------------------------+------------+-------------+--------------+------------+---------+\n|CustomerKey|Prefix|FirstName|LastName|BirthDate|MaritalStatus|Gender|EmailAddress                  |AnnualIncome|TotalChildren|EducationLevel|Occupation  |HomeOwner|\n+-----------+------+---------+--------+---------+-------------+------+------------------------------+------------+-------------+--------------+------------+---------+\n|11000      |MR.   |JON      |YANG    |4/8/1966 |M            |M     |jon24@adventure-works.com     |$90,000     |2            |Bachelors     |Professional|Y        |\n|11001      |MR.   |EUGENE   |HUANG   |5/14/1965|S            |M     |eugene10@adventure-works.com  |$60,000     |3            |Bachelors     |Professional|N        |\n|11002      |MR.   |RUBEN    |TORRES  |8/12/1965|M            |M     |ruben35@adventure-works.com   |$60,000     |3            |Bachelors     |Professional|Y        |\n|11003      |MS.   |CHRISTY  |ZHU     |2/15/1968|S            |F     |christy12@adventure-works.com |$70,000     |0            |Bachelors     |Professional|N        |\n|11004      |MRS.  |ELIZABETH|JOHNSON |8/8/1968 |S            |F     |elizabeth5@adventure-works.com|$80,000     |5            |Bachelors     |Professional|Y        |\n+-----------+------+---------+--------+---------+-------------+------+------------------------------+------------+-------------+--------------+------------+---------+\nonly showing top 5 rows\n\n"
     ]
    }
   ],
   "source": [
    "#customers_df\n",
    "#read Delta Table using spark dataframe\n",
    "customers_df=  spark.read.table(\"salesdb.customers_raw\")\n",
    "#And show the first 5 rows\n",
    "customers_df.show(n=5,truncate=False)"
   ]
  },
  {
   "cell_type": "code",
   "execution_count": 0,
   "metadata": {
    "application/vnd.databricks.v1+cell": {
     "cellMetadata": {
      "byteLimit": 2048000,
      "rowLimit": 10000
     },
     "inputWidgets": {},
     "nuid": "eba75882-7ef2-4ca6-b3e7-f6bfdd19f0ba",
     "showTitle": false,
     "title": ""
    }
   },
   "outputs": [
    {
     "output_type": "stream",
     "name": "stdout",
     "output_type": "stream",
     "text": [
      "+-----------+------+---------+--------+----------+-------------+------+------------------------------+------------+-------------+--------------+------------+---------+\n|CustomerKey|Prefix|FirstName|LastName|BirthDate |MaritalStatus|Gender|EmailAddress                  |AnnualIncome|TotalChildren|EducationLevel|Occupation  |HomeOwner|\n+-----------+------+---------+--------+----------+-------------+------+------------------------------+------------+-------------+--------------+------------+---------+\n|11000      |MR.   |JON      |YANG    |1966-04-08|M            |M     |jon24@adventure-works.com     |$90,000     |2            |Bachelors     |Professional|Y        |\n|11001      |MR.   |EUGENE   |HUANG   |1965-05-14|S            |M     |eugene10@adventure-works.com  |$60,000     |3            |Bachelors     |Professional|N        |\n|11002      |MR.   |RUBEN    |TORRES  |1965-08-12|M            |M     |ruben35@adventure-works.com   |$60,000     |3            |Bachelors     |Professional|Y        |\n|11003      |MS.   |CHRISTY  |ZHU     |1968-02-15|S            |F     |christy12@adventure-works.com |$70,000     |0            |Bachelors     |Professional|N        |\n|11004      |MRS.  |ELIZABETH|JOHNSON |1968-08-08|S            |F     |elizabeth5@adventure-works.com|$80,000     |5            |Bachelors     |Professional|Y        |\n+-----------+------+---------+--------+----------+-------------+------+------------------------------+------------+-------------+--------------+------------+---------+\nonly showing top 5 rows\n\n"
     ]
    }
   ],
   "source": [
    "#Convert the date of birth to the correct format\n",
    "func = udf(lambda x: datetime.strptime(x,'%m/%d/%Y'),DateType())\n",
    "customers_df =  customers_df.withColumn(\"BirthDate\",func(col('BirthDate')))\n",
    "customers_df.show(n=5,truncate=False)"
   ]
  },
  {
   "cell_type": "code",
   "execution_count": 0,
   "metadata": {
    "application/vnd.databricks.v1+cell": {
     "cellMetadata": {
      "byteLimit": 2048000,
      "rowLimit": 10000
     },
     "inputWidgets": {},
     "nuid": "b29fb5c2-8710-4c97-b930-e15cd97e712b",
     "showTitle": false,
     "title": ""
    }
   },
   "outputs": [
    {
     "output_type": "display_data",
     "data": {
      "text/html": [
       "<style scoped>\n",
       "  .table-result-container {\n",
       "    max-height: 300px;\n",
       "    overflow: auto;\n",
       "  }\n",
       "  table, th, td {\n",
       "    border: 1px solid black;\n",
       "    border-collapse: collapse;\n",
       "  }\n",
       "  th, td {\n",
       "    padding: 5px;\n",
       "  }\n",
       "  th {\n",
       "    text-align: left;\n",
       "  }\n",
       "</style><div class='table-result-container'><table class='table-result'><thead style='background-color: white'><tr><th>CustomerKey</th><th>Prefix</th><th>FirstName</th><th>LastName</th><th>BirthDate</th><th>MaritalStatus</th><th>Gender</th><th>EmailAddress</th><th>AnnualIncome</th><th>TotalChildren</th><th>EducationLevel</th><th>Occupation</th><th>HomeOwner</th></tr></thead><tbody><tr><td>0</td><td>130</td><td>0</td><td>0</td><td>0</td><td>0</td><td>0</td><td>0</td><td>0</td><td>0</td><td>0</td><td>0</td><td>0</td></tr></tbody></table></div>"
      ]
     },
     "metadata": {
      "application/vnd.databricks.v1+output": {
       "addedWidgets": {},
       "aggData": [],
       "aggError": "",
       "aggOverflow": false,
       "aggSchema": [],
       "aggSeriesLimitReached": false,
       "aggType": "",
       "arguments": {},
       "columnCustomDisplayInfos": {},
       "data": [
        [
         0,
         130,
         0,
         0,
         0,
         0,
         0,
         0,
         0,
         0,
         0,
         0,
         0
        ]
       ],
       "datasetInfos": [],
       "dbfsResultPath": null,
       "isJsonSchema": true,
       "metadata": {},
       "overflow": false,
       "plotOptions": {
        "customPlotOptions": {},
        "displayType": "table",
        "pivotAggregation": null,
        "pivotColumns": null,
        "xColumns": null,
        "yColumns": null
       },
       "removedWidgets": [],
       "schema": [
        {
         "metadata": "{}",
         "name": "CustomerKey",
         "type": "\"long\""
        },
        {
         "metadata": "{}",
         "name": "Prefix",
         "type": "\"long\""
        },
        {
         "metadata": "{}",
         "name": "FirstName",
         "type": "\"long\""
        },
        {
         "metadata": "{}",
         "name": "LastName",
         "type": "\"long\""
        },
        {
         "metadata": "{}",
         "name": "BirthDate",
         "type": "\"long\""
        },
        {
         "metadata": "{}",
         "name": "MaritalStatus",
         "type": "\"long\""
        },
        {
         "metadata": "{}",
         "name": "Gender",
         "type": "\"long\""
        },
        {
         "metadata": "{}",
         "name": "EmailAddress",
         "type": "\"long\""
        },
        {
         "metadata": "{}",
         "name": "AnnualIncome",
         "type": "\"long\""
        },
        {
         "metadata": "{}",
         "name": "TotalChildren",
         "type": "\"long\""
        },
        {
         "metadata": "{}",
         "name": "EducationLevel",
         "type": "\"long\""
        },
        {
         "metadata": "{}",
         "name": "Occupation",
         "type": "\"long\""
        },
        {
         "metadata": "{}",
         "name": "HomeOwner",
         "type": "\"long\""
        }
       ],
       "type": "table"
      }
     },
     "output_type": "display_data"
    }
   ],
   "source": [
    "# Count missing values for each column\n",
    "display(customers_df.select([count(when(col(c).isNull(),c)).alias(c) for c in customers_df.columns]))"
   ]
  },
  {
   "cell_type": "markdown",
   "metadata": {
    "application/vnd.databricks.v1+cell": {
     "cellMetadata": {
      "byteLimit": 2048000,
      "rowLimit": 10000
     },
     "inputWidgets": {},
     "nuid": "aeb6f94f-10b1-408a-b50d-afb2ca90985e",
     "showTitle": false,
     "title": ""
    }
   },
   "source": [
    "The prefix has 130 missing values. This is not important for the data analysis part. So, here, I ignore this."
   ]
  },
  {
   "cell_type": "code",
   "execution_count": 0,
   "metadata": {
    "application/vnd.databricks.v1+cell": {
     "cellMetadata": {
      "byteLimit": 2048000,
      "rowLimit": 10000
     },
     "inputWidgets": {},
     "nuid": "fffae4dc-780b-4fd2-a79f-03bdfff93910",
     "showTitle": false,
     "title": ""
    }
   },
   "outputs": [],
   "source": [
    "#Total children is also an integer\n",
    "customers_df =  customers_df.withColumn(\"TotalChildren\",customers_df[\"TotalChildren\"].cast(IntegerType()))"
   ]
  },
  {
   "cell_type": "code",
   "execution_count": 0,
   "metadata": {
    "application/vnd.databricks.v1+cell": {
     "cellMetadata": {
      "byteLimit": 2048000,
      "rowLimit": 10000
     },
     "inputWidgets": {},
     "nuid": "e09ce2ac-ebae-4a36-8b1a-817d81660b1e",
     "showTitle": false,
     "title": ""
    }
   },
   "outputs": [
    {
     "output_type": "stream",
     "name": "stdout",
     "output_type": "stream",
     "text": [
      "+-----------+------+---------+--------+----------+-------------+------+------------------------------+------------+-------------+--------------+------------+---------+\n|CustomerKey|Prefix|FirstName|LastName|BirthDate |MaritalStatus|Gender|EmailAddress                  |AnnualIncome|TotalChildren|EducationLevel|Occupation  |HomeOwner|\n+-----------+------+---------+--------+----------+-------------+------+------------------------------+------------+-------------+--------------+------------+---------+\n|11000      |MR.   |JON      |YANG    |1966-04-08|M            |M     |jon24@adventure-works.com     |90000       |2            |Bachelors     |Professional|Y        |\n|11001      |MR.   |EUGENE   |HUANG   |1965-05-14|S            |M     |eugene10@adventure-works.com  |60000       |3            |Bachelors     |Professional|N        |\n|11002      |MR.   |RUBEN    |TORRES  |1965-08-12|M            |M     |ruben35@adventure-works.com   |60000       |3            |Bachelors     |Professional|Y        |\n|11003      |MS.   |CHRISTY  |ZHU     |1968-02-15|S            |F     |christy12@adventure-works.com |70000       |0            |Bachelors     |Professional|N        |\n|11004      |MRS.  |ELIZABETH|JOHNSON |1968-08-08|S            |F     |elizabeth5@adventure-works.com|80000       |5            |Bachelors     |Professional|Y        |\n+-----------+------+---------+--------+----------+-------------+------+------------------------------+------------+-------------+--------------+------------+---------+\nonly showing top 5 rows\n\n"
     ]
    }
   ],
   "source": [
    "from pyspark.sql import SparkSession\n",
    "from pyspark.sql.functions import regexp_replace\n",
    "customers_df = customers_df.withColumn(\"AnnualIncome\", regexp_replace(\"AnnualIncome\", '[^0-9]', ''))\n",
    "customers_df =  customers_df.withColumn(\"AnnualIncome\",customers_df[\"AnnualIncome\"].cast(IntegerType()))\n",
    "#And finally show the table \n",
    "customers_df.show(n=5,truncate=False)"
   ]
  },
  {
   "cell_type": "markdown",
   "metadata": {
    "application/vnd.databricks.v1+cell": {
     "cellMetadata": {
      "byteLimit": 2048000,
      "rowLimit": 10000
     },
     "inputWidgets": {},
     "nuid": "25e0b622-dd55-48e2-bef7-062c8dba76f1",
     "showTitle": false,
     "title": ""
    }
   },
   "source": [
    "**Product Returns Table**"
   ]
  },
  {
   "cell_type": "code",
   "execution_count": 0,
   "metadata": {
    "application/vnd.databricks.v1+cell": {
     "cellMetadata": {
      "byteLimit": 2048000,
      "rowLimit": 10000
     },
     "inputWidgets": {},
     "nuid": "54a4ca09-6af4-49f1-bb39-ff02220fb261",
     "showTitle": false,
     "title": ""
    }
   },
   "outputs": [
    {
     "output_type": "stream",
     "name": "stdout",
     "output_type": "stream",
     "text": [
      "+----------+-------------+--------------+--------------+----------+--------------+\n|ReturnDate|Continent    |Country       |Region        |ProductKey|ReturnQuantity|\n+----------+-------------+--------------+--------------+----------+--------------+\n|1/18/2015 |Pacific      |Australia     |Australia     |312       |1             |\n|1/18/2015 |Europe       |United Kingdom|United Kingdom|310       |1             |\n|1/21/2015 |Europe       |Germany       |Germany       |346       |1             |\n|1/22/2015 |North America|United States |Southwest     |311       |1             |\n|2/2/2015  |North America|Canada        |Canada        |312       |1             |\n+----------+-------------+--------------+--------------+----------+--------------+\nonly showing top 5 rows\n\n"
     ]
    }
   ],
   "source": [
    "#returns_df\n",
    "#read Delta Table using spark dataframe\n",
    "returns_df=  spark.read.table(\"salesdb.returns_raw\")\n",
    "#And show the first 5 rows\n",
    "returns_df.show(n=5,truncate=False)"
   ]
  },
  {
   "cell_type": "code",
   "execution_count": 0,
   "metadata": {
    "application/vnd.databricks.v1+cell": {
     "cellMetadata": {
      "byteLimit": 2048000,
      "rowLimit": 10000
     },
     "inputWidgets": {},
     "nuid": "7adbda62-2165-480b-bccd-3d32c840d09c",
     "showTitle": false,
     "title": ""
    }
   },
   "outputs": [
    {
     "output_type": "stream",
     "name": "stdout",
     "output_type": "stream",
     "text": [
      "+----------+-------------+--------------+--------------+----------+--------------+\n|ReturnDate|Continent    |Country       |Region        |ProductKey|ReturnQuantity|\n+----------+-------------+--------------+--------------+----------+--------------+\n|2015-01-18|Pacific      |Australia     |Australia     |312       |1             |\n|2015-01-18|Europe       |United Kingdom|United Kingdom|310       |1             |\n|2015-01-21|Europe       |Germany       |Germany       |346       |1             |\n|2015-01-22|North America|United States |Southwest     |311       |1             |\n|2015-02-02|North America|Canada        |Canada        |312       |1             |\n+----------+-------------+--------------+--------------+----------+--------------+\nonly showing top 5 rows\n\n"
     ]
    }
   ],
   "source": [
    "#Convert the date of returns to the correct format\n",
    "func = udf(lambda x: datetime.strptime(x,'%m/%d/%Y'),DateType())\n",
    "returns_df =  returns_df.withColumn(\"ReturnDate\",func(col('ReturnDate')))\n",
    "returns_df.show(n=5,truncate=False)"
   ]
  },
  {
   "cell_type": "code",
   "execution_count": 0,
   "metadata": {
    "application/vnd.databricks.v1+cell": {
     "cellMetadata": {
      "byteLimit": 2048000,
      "rowLimit": 10000
     },
     "inputWidgets": {},
     "nuid": "d981da67-0c38-42a0-83a8-9784cce5ec72",
     "showTitle": false,
     "title": ""
    }
   },
   "outputs": [
    {
     "output_type": "display_data",
     "data": {
      "text/html": [
       "<style scoped>\n",
       "  .table-result-container {\n",
       "    max-height: 300px;\n",
       "    overflow: auto;\n",
       "  }\n",
       "  table, th, td {\n",
       "    border: 1px solid black;\n",
       "    border-collapse: collapse;\n",
       "  }\n",
       "  th, td {\n",
       "    padding: 5px;\n",
       "  }\n",
       "  th {\n",
       "    text-align: left;\n",
       "  }\n",
       "</style><div class='table-result-container'><table class='table-result'><thead style='background-color: white'><tr><th>ReturnDate</th><th>Continent</th><th>Country</th><th>Region</th><th>ProductKey</th><th>ReturnQuantity</th></tr></thead><tbody><tr><td>0</td><td>0</td><td>0</td><td>0</td><td>0</td><td>0</td></tr></tbody></table></div>"
      ]
     },
     "metadata": {
      "application/vnd.databricks.v1+output": {
       "addedWidgets": {},
       "aggData": [],
       "aggError": "",
       "aggOverflow": false,
       "aggSchema": [],
       "aggSeriesLimitReached": false,
       "aggType": "",
       "arguments": {},
       "columnCustomDisplayInfos": {},
       "data": [
        [
         0,
         0,
         0,
         0,
         0,
         0
        ]
       ],
       "datasetInfos": [],
       "dbfsResultPath": null,
       "isJsonSchema": true,
       "metadata": {},
       "overflow": false,
       "plotOptions": {
        "customPlotOptions": {},
        "displayType": "table",
        "pivotAggregation": null,
        "pivotColumns": null,
        "xColumns": null,
        "yColumns": null
       },
       "removedWidgets": [],
       "schema": [
        {
         "metadata": "{}",
         "name": "ReturnDate",
         "type": "\"long\""
        },
        {
         "metadata": "{}",
         "name": "Continent",
         "type": "\"long\""
        },
        {
         "metadata": "{}",
         "name": "Country",
         "type": "\"long\""
        },
        {
         "metadata": "{}",
         "name": "Region",
         "type": "\"long\""
        },
        {
         "metadata": "{}",
         "name": "ProductKey",
         "type": "\"long\""
        },
        {
         "metadata": "{}",
         "name": "ReturnQuantity",
         "type": "\"long\""
        }
       ],
       "type": "table"
      }
     },
     "output_type": "display_data"
    }
   ],
   "source": [
    "# Count missing values for each column\n",
    "display(returns_df.select([count(when(col(c).isNull(),c)).alias(c) for c in returns_df.columns]))"
   ]
  },
  {
   "cell_type": "code",
   "execution_count": 0,
   "metadata": {
    "application/vnd.databricks.v1+cell": {
     "cellMetadata": {
      "byteLimit": 2048000,
      "rowLimit": 10000
     },
     "inputWidgets": {},
     "nuid": "c64e14c6-63e2-4501-85e2-13357b23fd35",
     "showTitle": false,
     "title": ""
    }
   },
   "outputs": [
    {
     "output_type": "stream",
     "name": "stdout",
     "output_type": "stream",
     "text": [
      "+----------+-------------+--------------+--------------+----------+--------------+\n|ReturnDate|Continent    |Country       |Region        |ProductKey|ReturnQuantity|\n+----------+-------------+--------------+--------------+----------+--------------+\n|2015-01-18|Pacific      |Australia     |Australia     |312       |1             |\n|2015-01-18|Europe       |United Kingdom|United Kingdom|310       |1             |\n|2015-01-21|Europe       |Germany       |Germany       |346       |1             |\n|2015-01-22|North America|United States |Southwest     |311       |1             |\n|2015-02-02|North America|Canada        |Canada        |312       |1             |\n+----------+-------------+--------------+--------------+----------+--------------+\nonly showing top 5 rows\n\n"
     ]
    }
   ],
   "source": [
    "#convert return quantity to a number\n",
    "returns_df =  returns_df.withColumn(\"ReturnQuantity\",returns_df[\"ReturnQuantity\"].cast(IntegerType()))\n",
    "returns_df.show(n=5,truncate=False)"
   ]
  },
  {
   "cell_type": "markdown",
   "metadata": {
    "application/vnd.databricks.v1+cell": {
     "cellMetadata": {
      "byteLimit": 2048000,
      "rowLimit": 10000
     },
     "inputWidgets": {},
     "nuid": "6485bbc0-408b-4cae-b5e2-ba1c733ba265",
     "showTitle": false,
     "title": ""
    }
   },
   "source": [
    "**Products Table**"
   ]
  },
  {
   "cell_type": "code",
   "execution_count": 0,
   "metadata": {
    "application/vnd.databricks.v1+cell": {
     "cellMetadata": {
      "byteLimit": 2048000,
      "rowLimit": 10000
     },
     "inputWidgets": {},
     "nuid": "5fb32e56-d49f-4fe0-a7e5-150867d33896",
     "showTitle": false,
     "title": ""
    }
   },
   "outputs": [
    {
     "output_type": "stream",
     "name": "stdout",
     "output_type": "stream",
     "text": [
      "+----------+------------+------------------+----------+-----------------------+-------------------+---------------------------------------------------------------------------------------------+------------+-----------+------------+-----------+------------+\n|ProductKey|CategoryName|ProductSubcategory|ProductSKU|ProductName            |ModelName          |ProductDescription                                                                           |ProductColor|ProductSize|ProductStyle|ProductCost|ProductPrice|\n+----------+------------+------------------+----------+-----------------------+-------------------+---------------------------------------------------------------------------------------------+------------+-----------+------------+-----------+------------+\n|214       |Accessories |Helmets           |HL-U509-R |Sport-100 Helmet, Red  |Sport-100          |Universal fit, well-vented, lightweight , snap-on visor.                                     |Red         |0          |0           |13.0863    |34.99       |\n|215       |Accessories |Helmets           |HL-U509   |Sport-100 Helmet, Black|Sport-100          |Universal fit, well-vented, lightweight , snap-on visor.                                     |Black       |0          |0           |12.0278    |33.6442     |\n|218       |Clothing    |Socks             |SO-B909-M |Mountain Bike Socks, M |Mountain Bike Socks|Combination of natural and synthetic fibers stays dry and provides just the right cushioning.|White       |M          |U           |3.3963     |9.5         |\n|219       |Clothing    |Socks             |SO-B909-L |Mountain Bike Socks, L |Mountain Bike Socks|Combination of natural and synthetic fibers stays dry and provides just the right cushioning.|White       |L          |U           |3.3963     |9.5         |\n|220       |Accessories |Helmets           |HL-U509-B |Sport-100 Helmet, Blue |Sport-100          |Universal fit, well-vented, lightweight , snap-on visor.                                     |Blue        |0          |0           |12.0278    |33.6442     |\n+----------+------------+------------------+----------+-----------------------+-------------------+---------------------------------------------------------------------------------------------+------------+-----------+------------+-----------+------------+\nonly showing top 5 rows\n\n"
     ]
    }
   ],
   "source": [
    "#read Delta Table using spark dataframe\n",
    "products_df=  spark.read.table(\"salesdb.products_raw\")\n",
    "#And show the first 5 rows\n",
    "products_df.show(n=5,truncate=False)"
   ]
  },
  {
   "cell_type": "code",
   "execution_count": 0,
   "metadata": {
    "application/vnd.databricks.v1+cell": {
     "cellMetadata": {
      "byteLimit": 2048000,
      "rowLimit": 10000
     },
     "inputWidgets": {},
     "nuid": "7da9503f-c734-4e7d-b63c-20ac3f9f7349",
     "showTitle": false,
     "title": ""
    }
   },
   "outputs": [],
   "source": [
    "from pyspark.sql.types import DoubleType\n",
    "from pyspark.sql.functions import col, round, format_number\n",
    "\n",
    "# Convert columns to DoubleType and round them to 2 decimal places\n",
    "products_df = products_df.withColumn(\"ProductCost\", round(col(\"ProductCost\").cast(DoubleType()), 2))\n",
    "products_df = products_df.withColumn(\"ProductPrice\", round(col(\"ProductPrice\").cast(DoubleType()), 2))\n",
    "\n",
    "# If you want to keep the values as strings with exactly 2 decimal places\n",
    "products_df = products_df.withColumn(\"ProductCost\", format_number(col(\"ProductCost\"), 2))\n",
    "products_df = products_df.withColumn(\"ProductPrice\", format_number(col(\"ProductPrice\"), 2))\n"
   ]
  },
  {
   "cell_type": "markdown",
   "metadata": {
    "application/vnd.databricks.v1+cell": {
     "cellMetadata": {
      "byteLimit": 2048000,
      "rowLimit": 10000
     },
     "inputWidgets": {},
     "nuid": "61d92d7c-ceb1-4099-9bda-c92a5a367d0b",
     "showTitle": false,
     "title": ""
    }
   },
   "source": [
    "**Create Delta Table for Adjustments**"
   ]
  },
  {
   "cell_type": "code",
   "execution_count": 0,
   "metadata": {
    "application/vnd.databricks.v1+cell": {
     "cellMetadata": {
      "byteLimit": 2048000,
      "rowLimit": 10000
     },
     "inputWidgets": {},
     "nuid": "0da4b9b9-d3fe-4197-91ab-c7cb3ff57a05",
     "showTitle": false,
     "title": ""
    }
   },
   "outputs": [
    {
     "output_type": "display_data",
     "data": {
      "text/html": [
       "<style scoped>\n",
       "  .table-result-container {\n",
       "    max-height: 300px;\n",
       "    overflow: auto;\n",
       "  }\n",
       "  table, th, td {\n",
       "    border: 1px solid black;\n",
       "    border-collapse: collapse;\n",
       "  }\n",
       "  th, td {\n",
       "    padding: 5px;\n",
       "  }\n",
       "  th {\n",
       "    text-align: left;\n",
       "  }\n",
       "</style><div class='table-result-container'><table class='table-result'><thead style='background-color: white'><tr><th>database</th><th>tableName</th><th>isTemporary</th></tr></thead><tbody><tr><td>salesdb</td><td>customers</td><td>false</td></tr><tr><td>salesdb</td><td>customers_raw</td><td>false</td></tr><tr><td>salesdb</td><td>products</td><td>false</td></tr><tr><td>salesdb</td><td>products_raw</td><td>false</td></tr><tr><td>salesdb</td><td>returns</td><td>false</td></tr><tr><td>salesdb</td><td>returns_raw</td><td>false</td></tr><tr><td>salesdb</td><td>sales</td><td>false</td></tr><tr><td>salesdb</td><td>sales_raw</td><td>false</td></tr></tbody></table></div>"
      ]
     },
     "metadata": {
      "application/vnd.databricks.v1+output": {
       "addedWidgets": {},
       "aggData": [],
       "aggError": "",
       "aggOverflow": false,
       "aggSchema": [],
       "aggSeriesLimitReached": false,
       "aggType": "",
       "arguments": {},
       "columnCustomDisplayInfos": {},
       "data": [
        [
         "salesdb",
         "customers",
         false
        ],
        [
         "salesdb",
         "customers_raw",
         false
        ],
        [
         "salesdb",
         "products",
         false
        ],
        [
         "salesdb",
         "products_raw",
         false
        ],
        [
         "salesdb",
         "returns",
         false
        ],
        [
         "salesdb",
         "returns_raw",
         false
        ],
        [
         "salesdb",
         "sales",
         false
        ],
        [
         "salesdb",
         "sales_raw",
         false
        ]
       ],
       "datasetInfos": [],
       "dbfsResultPath": null,
       "isJsonSchema": true,
       "metadata": {},
       "overflow": false,
       "plotOptions": {
        "customPlotOptions": {},
        "displayType": "table",
        "pivotAggregation": null,
        "pivotColumns": null,
        "xColumns": null,
        "yColumns": null
       },
       "removedWidgets": [],
       "schema": [
        {
         "metadata": "{}",
         "name": "database",
         "type": "\"string\""
        },
        {
         "metadata": "{}",
         "name": "tableName",
         "type": "\"string\""
        },
        {
         "metadata": "{}",
         "name": "isTemporary",
         "type": "\"boolean\""
        }
       ],
       "type": "table"
      }
     },
     "output_type": "display_data"
    }
   ],
   "source": [
    "# Save all the adjustments in the sales database\n",
    "spark.sql(f\"USE salesdb\")\n",
    "\n",
    "## Create DeltaTable for the adjusted sales table, customer table, product table, and returns table: \n",
    "\n",
    "sales_df.write.mode(\"overwrite\").format(\"delta\").saveAsTable(\"SALES\")\n",
    "customers_df.write.mode(\"overwrite\").format(\"delta\").option(\"overwriteSchema\", \"true\").saveAsTable(\"CUSTOMERS\")\n",
    "returns_df.write.mode(\"overwrite\").format(\"delta\").saveAsTable(\"RETURNS\")\n",
    "products_df.write.mode(\"overwrite\").format(\"delta\").saveAsTable(\"PRODUCTS\")\n",
    "\n",
    "\n",
    "## Validate that the table was created successfully\n",
    "display(spark.sql(f\"SHOW TABLES\"))"
   ]
  },
  {
   "cell_type": "markdown",
   "metadata": {
    "application/vnd.databricks.v1+cell": {
     "cellMetadata": {
      "byteLimit": 2048000,
      "rowLimit": 10000
     },
     "inputWidgets": {},
     "nuid": "da85d7d1-d768-4a5d-8a6b-4a51a0831fa3",
     "showTitle": false,
     "title": ""
    }
   },
   "source": [
    "#### Data Visualization"
   ]
  },
  {
   "cell_type": "markdown",
   "metadata": {
    "application/vnd.databricks.v1+cell": {
     "cellMetadata": {
      "byteLimit": 2048000,
      "rowLimit": 10000
     },
     "inputWidgets": {},
     "nuid": "2ca64a38-9a20-444d-98de-65c13f2005cf",
     "showTitle": false,
     "title": ""
    }
   },
   "source": [
    "First, I catch a glimpse of the products and sales table again. This would make it easier for the data analysis. Databricks has some nice build-in data visuals. I use SQL."
   ]
  },
  {
   "cell_type": "code",
   "execution_count": 0,
   "metadata": {
    "application/vnd.databricks.v1+cell": {
     "cellMetadata": {
      "byteLimit": 2048000,
      "implicitDf": true,
      "rowLimit": 10000
     },
     "inputWidgets": {},
     "nuid": "d175a162-9e9d-4bee-b8dc-470148ec496f",
     "showTitle": false,
     "title": ""
    }
   },
   "outputs": [
    {
     "output_type": "display_data",
     "data": {
      "text/html": [
       "<style scoped>\n",
       "  .table-result-container {\n",
       "    max-height: 300px;\n",
       "    overflow: auto;\n",
       "  }\n",
       "  table, th, td {\n",
       "    border: 1px solid black;\n",
       "    border-collapse: collapse;\n",
       "  }\n",
       "  th, td {\n",
       "    padding: 5px;\n",
       "  }\n",
       "  th {\n",
       "    text-align: left;\n",
       "  }\n",
       "</style><div class='table-result-container'><table class='table-result'><thead style='background-color: white'><tr><th>ProductKey</th><th>CategoryName</th><th>ProductSubcategory</th><th>ProductSKU</th><th>ProductName</th><th>ModelName</th><th>ProductDescription</th><th>ProductColor</th><th>ProductSize</th><th>ProductStyle</th><th>ProductCost</th><th>ProductPrice</th></tr></thead><tbody><tr><td>214</td><td>Accessories</td><td>Helmets</td><td>HL-U509-R</td><td>Sport-100 Helmet, Red</td><td>Sport-100</td><td>Universal fit, well-vented, lightweight , snap-on visor.</td><td>Red</td><td>0</td><td>0</td><td>13.09</td><td>34.99</td></tr><tr><td>215</td><td>Accessories</td><td>Helmets</td><td>HL-U509</td><td>Sport-100 Helmet, Black</td><td>Sport-100</td><td>Universal fit, well-vented, lightweight , snap-on visor.</td><td>Black</td><td>0</td><td>0</td><td>12.03</td><td>33.64</td></tr><tr><td>218</td><td>Clothing</td><td>Socks</td><td>SO-B909-M</td><td>Mountain Bike Socks, M</td><td>Mountain Bike Socks</td><td>Combination of natural and synthetic fibers stays dry and provides just the right cushioning.</td><td>White</td><td>M</td><td>U</td><td>3.40</td><td>9.50</td></tr><tr><td>219</td><td>Clothing</td><td>Socks</td><td>SO-B909-L</td><td>Mountain Bike Socks, L</td><td>Mountain Bike Socks</td><td>Combination of natural and synthetic fibers stays dry and provides just the right cushioning.</td><td>White</td><td>L</td><td>U</td><td>3.40</td><td>9.50</td></tr><tr><td>220</td><td>Accessories</td><td>Helmets</td><td>HL-U509-B</td><td>Sport-100 Helmet, Blue</td><td>Sport-100</td><td>Universal fit, well-vented, lightweight , snap-on visor.</td><td>Blue</td><td>0</td><td>0</td><td>12.03</td><td>33.64</td></tr></tbody></table></div>"
      ]
     },
     "metadata": {
      "application/vnd.databricks.v1+output": {
       "addedWidgets": {},
       "aggData": [],
       "aggError": "",
       "aggOverflow": false,
       "aggSchema": [],
       "aggSeriesLimitReached": false,
       "aggType": "",
       "arguments": {},
       "columnCustomDisplayInfos": {},
       "data": [
        [
         "214",
         "Accessories",
         "Helmets",
         "HL-U509-R",
         "Sport-100 Helmet, Red",
         "Sport-100",
         "Universal fit, well-vented, lightweight , snap-on visor.",
         "Red",
         "0",
         "0",
         "13.09",
         "34.99"
        ],
        [
         "215",
         "Accessories",
         "Helmets",
         "HL-U509",
         "Sport-100 Helmet, Black",
         "Sport-100",
         "Universal fit, well-vented, lightweight , snap-on visor.",
         "Black",
         "0",
         "0",
         "12.03",
         "33.64"
        ],
        [
         "218",
         "Clothing",
         "Socks",
         "SO-B909-M",
         "Mountain Bike Socks, M",
         "Mountain Bike Socks",
         "Combination of natural and synthetic fibers stays dry and provides just the right cushioning.",
         "White",
         "M",
         "U",
         "3.40",
         "9.50"
        ],
        [
         "219",
         "Clothing",
         "Socks",
         "SO-B909-L",
         "Mountain Bike Socks, L",
         "Mountain Bike Socks",
         "Combination of natural and synthetic fibers stays dry and provides just the right cushioning.",
         "White",
         "L",
         "U",
         "3.40",
         "9.50"
        ],
        [
         "220",
         "Accessories",
         "Helmets",
         "HL-U509-B",
         "Sport-100 Helmet, Blue",
         "Sport-100",
         "Universal fit, well-vented, lightweight , snap-on visor.",
         "Blue",
         "0",
         "0",
         "12.03",
         "33.64"
        ]
       ],
       "datasetInfos": [],
       "dbfsResultPath": null,
       "isJsonSchema": true,
       "metadata": {},
       "overflow": false,
       "plotOptions": {
        "customPlotOptions": {},
        "displayType": "table",
        "pivotAggregation": null,
        "pivotColumns": null,
        "xColumns": null,
        "yColumns": null
       },
       "removedWidgets": [],
       "schema": [
        {
         "metadata": "{}",
         "name": "ProductKey",
         "type": "\"string\""
        },
        {
         "metadata": "{}",
         "name": "CategoryName",
         "type": "\"string\""
        },
        {
         "metadata": "{}",
         "name": "ProductSubcategory",
         "type": "\"string\""
        },
        {
         "metadata": "{}",
         "name": "ProductSKU",
         "type": "\"string\""
        },
        {
         "metadata": "{}",
         "name": "ProductName",
         "type": "\"string\""
        },
        {
         "metadata": "{}",
         "name": "ModelName",
         "type": "\"string\""
        },
        {
         "metadata": "{}",
         "name": "ProductDescription",
         "type": "\"string\""
        },
        {
         "metadata": "{}",
         "name": "ProductColor",
         "type": "\"string\""
        },
        {
         "metadata": "{}",
         "name": "ProductSize",
         "type": "\"string\""
        },
        {
         "metadata": "{}",
         "name": "ProductStyle",
         "type": "\"string\""
        },
        {
         "metadata": "{}",
         "name": "ProductCost",
         "type": "\"string\""
        },
        {
         "metadata": "{}",
         "name": "ProductPrice",
         "type": "\"string\""
        }
       ],
       "type": "table"
      }
     },
     "output_type": "display_data"
    }
   ],
   "source": [
    "%sql\n",
    "\n",
    "select * from products limit 5;"
   ]
  },
  {
   "cell_type": "code",
   "execution_count": 0,
   "metadata": {
    "application/vnd.databricks.v1+cell": {
     "cellMetadata": {
      "byteLimit": 2048000,
      "implicitDf": true,
      "rowLimit": 10000
     },
     "inputWidgets": {},
     "nuid": "815ed3ff-d807-492b-b16c-aeb1dd7aeec6",
     "showTitle": false,
     "title": ""
    }
   },
   "outputs": [
    {
     "output_type": "display_data",
     "data": {
      "text/html": [
       "<style scoped>\n",
       "  .table-result-container {\n",
       "    max-height: 300px;\n",
       "    overflow: auto;\n",
       "  }\n",
       "  table, th, td {\n",
       "    border: 1px solid black;\n",
       "    border-collapse: collapse;\n",
       "  }\n",
       "  th, td {\n",
       "    padding: 5px;\n",
       "  }\n",
       "  th {\n",
       "    text-align: left;\n",
       "  }\n",
       "</style><div class='table-result-container'><table class='table-result'><thead style='background-color: white'><tr><th>OrderDate</th><th>StockDate</th><th>OrderNumber</th><th>ProductKey</th><th>CustomerKey</th><th>OrderLineItem</th><th>OrderQuantity</th><th>Region</th><th>Country</th><th>Continent</th></tr></thead><tbody><tr><td>2015-01-01</td><td>2001-09-21</td><td>SO45080</td><td>332</td><td>14657</td><td>1</td><td>1</td><td>Northwest</td><td>United States</td><td>North America</td></tr><tr><td>2015-01-01</td><td>2001-12-05</td><td>SO45079</td><td>312</td><td>29255</td><td>1</td><td>1</td><td>Southwest</td><td>United States</td><td>North America</td></tr><tr><td>2015-01-01</td><td>2001-10-29</td><td>SO45082</td><td>350</td><td>11455</td><td>1</td><td>1</td><td>Australia</td><td>Australia</td><td>Pacific</td></tr><tr><td>2015-01-01</td><td>2001-11-16</td><td>SO45081</td><td>338</td><td>26782</td><td>1</td><td>1</td><td>Canada</td><td>Canada</td><td>North America</td></tr><tr><td>2015-01-02</td><td>2001-12-15</td><td>SO45083</td><td>312</td><td>14947</td><td>1</td><td>1</td><td>United Kingdom</td><td>United Kingdom</td><td>Europe</td></tr></tbody></table></div>"
      ]
     },
     "metadata": {
      "application/vnd.databricks.v1+output": {
       "addedWidgets": {},
       "aggData": [],
       "aggError": "",
       "aggOverflow": false,
       "aggSchema": [],
       "aggSeriesLimitReached": false,
       "aggType": "",
       "arguments": {},
       "columnCustomDisplayInfos": {},
       "data": [
        [
         "2015-01-01",
         "2001-09-21",
         "SO45080",
         "332",
         "14657",
         "1",
         1,
         "Northwest",
         "United States",
         "North America"
        ],
        [
         "2015-01-01",
         "2001-12-05",
         "SO45079",
         "312",
         "29255",
         "1",
         1,
         "Southwest",
         "United States",
         "North America"
        ],
        [
         "2015-01-01",
         "2001-10-29",
         "SO45082",
         "350",
         "11455",
         "1",
         1,
         "Australia",
         "Australia",
         "Pacific"
        ],
        [
         "2015-01-01",
         "2001-11-16",
         "SO45081",
         "338",
         "26782",
         "1",
         1,
         "Canada",
         "Canada",
         "North America"
        ],
        [
         "2015-01-02",
         "2001-12-15",
         "SO45083",
         "312",
         "14947",
         "1",
         1,
         "United Kingdom",
         "United Kingdom",
         "Europe"
        ]
       ],
       "datasetInfos": [],
       "dbfsResultPath": null,
       "isJsonSchema": true,
       "metadata": {},
       "overflow": false,
       "plotOptions": {
        "customPlotOptions": {},
        "displayType": "table",
        "pivotAggregation": null,
        "pivotColumns": null,
        "xColumns": null,
        "yColumns": null
       },
       "removedWidgets": [],
       "schema": [
        {
         "metadata": "{}",
         "name": "OrderDate",
         "type": "\"date\""
        },
        {
         "metadata": "{}",
         "name": "StockDate",
         "type": "\"date\""
        },
        {
         "metadata": "{}",
         "name": "OrderNumber",
         "type": "\"string\""
        },
        {
         "metadata": "{}",
         "name": "ProductKey",
         "type": "\"string\""
        },
        {
         "metadata": "{}",
         "name": "CustomerKey",
         "type": "\"string\""
        },
        {
         "metadata": "{}",
         "name": "OrderLineItem",
         "type": "\"string\""
        },
        {
         "metadata": "{}",
         "name": "OrderQuantity",
         "type": "\"integer\""
        },
        {
         "metadata": "{}",
         "name": "Region",
         "type": "\"string\""
        },
        {
         "metadata": "{}",
         "name": "Country",
         "type": "\"string\""
        },
        {
         "metadata": "{}",
         "name": "Continent",
         "type": "\"string\""
        }
       ],
       "type": "table"
      }
     },
     "output_type": "display_data"
    }
   ],
   "source": [
    "%sql\n",
    "\n",
    "select * from sales limit 5;"
   ]
  },
  {
   "cell_type": "markdown",
   "metadata": {
    "application/vnd.databricks.v1+cell": {
     "cellMetadata": {
      "byteLimit": 2048000,
      "rowLimit": 10000
     },
     "inputWidgets": {},
     "nuid": "3abff0d2-03c9-4bf4-a975-ad66f28d1ea8",
     "showTitle": false,
     "title": ""
    }
   },
   "source": [
    "**Ordered Quantity by Country**"
   ]
  },
  {
   "cell_type": "code",
   "execution_count": 0,
   "metadata": {
    "application/vnd.databricks.v1+cell": {
     "cellMetadata": {
      "byteLimit": 2048000,
      "implicitDf": true,
      "rowLimit": 10000
     },
     "inputWidgets": {},
     "nuid": "6e57e0d9-64dc-4d17-91fc-6bf987104920",
     "showTitle": false,
     "title": ""
    }
   },
   "outputs": [
    {
     "output_type": "display_data",
     "data": {
      "text/html": [
       "<style scoped>\n",
       "  .table-result-container {\n",
       "    max-height: 300px;\n",
       "    overflow: auto;\n",
       "  }\n",
       "  table, th, td {\n",
       "    border: 1px solid black;\n",
       "    border-collapse: collapse;\n",
       "  }\n",
       "  th, td {\n",
       "    padding: 5px;\n",
       "  }\n",
       "  th {\n",
       "    text-align: left;\n",
       "  }\n",
       "</style><div class='table-result-container'><table class='table-result'><thead style='background-color: white'><tr><th>Country</th><th>sum(OrderQuantity)</th></tr></thead><tbody><tr><td>Germany</td><td>7950</td></tr><tr><td>France</td><td>7862</td></tr><tr><td>United States</td><td>29823</td></tr><tr><td>Canada</td><td>10894</td></tr><tr><td>Australia</td><td>17951</td></tr><tr><td>United Kingdom</td><td>9694</td></tr></tbody></table></div>"
      ]
     },
     "metadata": {
      "application/vnd.databricks.v1+output": {
       "addedWidgets": {},
       "aggData": [],
       "aggError": "",
       "aggOverflow": false,
       "aggSchema": [],
       "aggSeriesLimitReached": false,
       "aggType": "",
       "arguments": {},
       "columnCustomDisplayInfos": {},
       "data": [
        [
         "Germany",
         7950
        ],
        [
         "France",
         7862
        ],
        [
         "United States",
         29823
        ],
        [
         "Canada",
         10894
        ],
        [
         "Australia",
         17951
        ],
        [
         "United Kingdom",
         9694
        ]
       ],
       "datasetInfos": [],
       "dbfsResultPath": null,
       "isJsonSchema": true,
       "metadata": {},
       "overflow": false,
       "plotOptions": {
        "customPlotOptions": {},
        "displayType": "table",
        "pivotAggregation": null,
        "pivotColumns": null,
        "xColumns": null,
        "yColumns": null
       },
       "removedWidgets": [],
       "schema": [
        {
         "metadata": "{}",
         "name": "Country",
         "type": "\"string\""
        },
        {
         "metadata": "{\"__autoGeneratedAlias\":\"true\"}",
         "name": "sum(OrderQuantity)",
         "type": "\"long\""
        }
       ],
       "type": "table"
      }
     },
     "output_type": "display_data"
    },
    {
     "output_type": "display_data",
     "data": {
      "text/plain": [
       "Databricks visualization. Run in Databricks to view."
      ]
     },
     "metadata": {
      "application/vnd.databricks.v1.subcommand+json": {
       "baseErrorDetails": null,
       "bindings": {},
       "collapsed": false,
       "command": "%sql\n\nselect Country, sum(OrderQuantity) from sales group by Country;",
       "commandTitle": "Visualization 1",
       "commandType": "auto",
       "commandVersion": 0,
       "commentThread": [],
       "commentsVisible": false,
       "contentSha256Hex": null,
       "customPlotOptions": {
        "redashChart": [
         {
          "key": "type",
          "value": "CHOROPLETH"
         },
         {
          "key": "options",
          "value": {
           "clusteringMode": "e",
           "colors": {
            "background": "#ffffff",
            "borders": "#ffffff",
            "max": "#002FB4",
            "min": "#799CFF",
            "noValue": "#dddddd"
           },
           "keyColumn": "Country",
           "legend": {
            "alignText": "right",
            "position": "bottom-left",
            "visible": true
           },
           "mapType": "countries",
           "noValuePlaceholder": "N/A",
           "popup": {
            "enabled": true,
            "template": "Region: <b>{{ @@name }}</b>\n<br>\nValue: <b>{{ @@value }}</b>"
           },
           "steps": 5,
           "targetField": "name_long",
           "tooltip": {
            "enabled": true,
            "template": "<b>{{ @@name }}</b>: {{ @@value }}"
           },
           "valueColumn": "sum(OrderQuantity)",
           "valueFormat": "0,0.00"
          }
         }
        ]
       },
       "datasetPreviewNameToCmdIdMap": {},
       "diffDeletes": [],
       "diffInserts": [],
       "displayType": "redashChart",
       "error": null,
       "errorDetails": null,
       "errorSummary": null,
       "errorTraceType": null,
       "finishTime": 0,
       "globalVars": {},
       "guid": "",
       "height": "auto",
       "hideCommandCode": false,
       "hideCommandResult": false,
       "iPythonMetadata": null,
       "inputWidgets": {},
       "isLockedInExamMode": false,
       "latestUser": "a user",
       "latestUserId": null,
       "listResultMetadata": null,
       "metadata": {
        "byteLimit": 2048000,
        "implicitDf": true,
        "rowLimit": 10000
       },
       "nuid": "664d5f3c-1651-49a1-9f3f-fbf0cadc6a64",
       "origId": 0,
       "parentHierarchy": [],
       "pivotAggregation": null,
       "pivotColumns": null,
       "position": 33.125,
       "resultDbfsErrorMessage": null,
       "resultDbfsStatus": "INLINED_IN_TREE",
       "results": null,
       "showCommandTitle": false,
       "startTime": 0,
       "state": "finished",
       "streamStates": {},
       "subcommandOptions": {},
       "submitTime": 0,
       "subtype": "tableResultSubCmd.visualization",
       "tableResultIndex": 0,
       "useConsistentColors": false,
       "version": "CommandV1",
       "width": "auto",
       "workflows": [],
       "xColumns": null,
       "yColumns": null
      }
     },
     "output_type": "display_data"
    }
   ],
   "source": [
    "%sql\n",
    "\n",
    "select Country, sum(OrderQuantity) from sales group by Country;"
   ]
  },
  {
   "cell_type": "code",
   "execution_count": 0,
   "metadata": {
    "application/vnd.databricks.v1+cell": {
     "cellMetadata": {
      "byteLimit": 2048000,
      "implicitDf": true,
      "rowLimit": 10000
     },
     "inputWidgets": {},
     "nuid": "60584547-66ef-4a94-87f6-1e2a5ff0776d",
     "showTitle": false,
     "title": ""
    }
   },
   "outputs": [
    {
     "output_type": "display_data",
     "data": {
      "text/html": [
       "<style scoped>\n",
       "  .table-result-container {\n",
       "    max-height: 300px;\n",
       "    overflow: auto;\n",
       "  }\n",
       "  table, th, td {\n",
       "    border: 1px solid black;\n",
       "    border-collapse: collapse;\n",
       "  }\n",
       "  th, td {\n",
       "    padding: 5px;\n",
       "  }\n",
       "  th {\n",
       "    text-align: left;\n",
       "  }\n",
       "</style><div class='table-result-container'><table class='table-result'><thead style='background-color: white'><tr><th>Country</th><th>sum(OrderQuantity)</th></tr></thead><tbody><tr><td>Germany</td><td>7950</td></tr><tr><td>France</td><td>7862</td></tr><tr><td>United States</td><td>29823</td></tr><tr><td>Canada</td><td>10894</td></tr><tr><td>Australia</td><td>17951</td></tr><tr><td>United Kingdom</td><td>9694</td></tr></tbody></table></div>"
      ]
     },
     "metadata": {
      "application/vnd.databricks.v1+output": {
       "addedWidgets": {},
       "aggData": [],
       "aggError": "",
       "aggOverflow": false,
       "aggSchema": [],
       "aggSeriesLimitReached": false,
       "aggType": "",
       "arguments": {},
       "columnCustomDisplayInfos": {},
       "data": [
        [
         "Germany",
         7950
        ],
        [
         "France",
         7862
        ],
        [
         "United States",
         29823
        ],
        [
         "Canada",
         10894
        ],
        [
         "Australia",
         17951
        ],
        [
         "United Kingdom",
         9694
        ]
       ],
       "datasetInfos": [],
       "dbfsResultPath": null,
       "isJsonSchema": true,
       "metadata": {},
       "overflow": false,
       "plotOptions": {
        "customPlotOptions": {},
        "displayType": "table",
        "pivotAggregation": null,
        "pivotColumns": null,
        "xColumns": null,
        "yColumns": null
       },
       "removedWidgets": [],
       "schema": [
        {
         "metadata": "{}",
         "name": "Country",
         "type": "\"string\""
        },
        {
         "metadata": "{\"__autoGeneratedAlias\":\"true\"}",
         "name": "sum(OrderQuantity)",
         "type": "\"long\""
        }
       ],
       "type": "table"
      }
     },
     "output_type": "display_data"
    },
    {
     "output_type": "display_data",
     "data": {
      "text/plain": [
       "Databricks visualization. Run in Databricks to view."
      ]
     },
     "metadata": {
      "application/vnd.databricks.v1.subcommand+json": {
       "baseErrorDetails": null,
       "bindings": {},
       "collapsed": false,
       "command": "%sql WITH q AS (select Country, sum(OrderQuantity) from sales group by Country) SELECT `Country`,SUM(`sum(OrderQuantity)`) `column_dfb513d58` FROM q GROUP BY `Country`",
       "commandTitle": "Visualization 1",
       "commandType": "auto",
       "commandVersion": 0,
       "commentThread": [],
       "commentsVisible": false,
       "contentSha256Hex": null,
       "customPlotOptions": {
        "redashChart": [
         {
          "key": "type",
          "value": "CHART"
         },
         {
          "key": "options",
          "value": {
           "alignYAxesAtZero": true,
           "coefficient": 1,
           "columnConfigurationMap": {
            "x": {
             "column": "Country",
             "id": "column_dfb513d57"
            },
            "y": [
             {
              "column": "sum(OrderQuantity)",
              "id": "column_dfb513d58",
              "transform": "SUM"
             }
            ]
           },
           "dateTimeFormat": "DD/MM/YYYY HH:mm",
           "direction": {
            "type": "counterclockwise"
           },
           "error_y": {
            "type": "data",
            "visible": true
           },
           "globalSeriesType": "pie",
           "isAggregationOn": true,
           "legend": {
            "traceorder": "normal"
           },
           "missingValuesAsZero": true,
           "numberFormat": "0,0.[00000]",
           "percentFormat": "0[.]00%",
           "series": {
            "error_y": {
             "type": "data",
             "visible": true
            },
            "stacking": null
           },
           "seriesOptions": {
            "column_dfb513d58": {
             "name": "Percentage of Ordered Quantity by Country",
             "type": "pie",
             "yAxis": 0
            }
           },
           "showDataLabels": true,
           "sizemode": "diameter",
           "sortX": true,
           "sortY": true,
           "swappedAxes": false,
           "textFormat": "",
           "useAggregationsUi": true,
           "valuesOptions": {},
           "version": 2,
           "xAxis": {
            "labels": {
             "enabled": true
            },
            "type": "-"
           },
           "yAxis": [
            {
             "type": "-"
            },
            {
             "opposite": true,
             "type": "-"
            }
           ]
          }
         }
        ]
       },
       "datasetPreviewNameToCmdIdMap": {},
       "diffDeletes": [],
       "diffInserts": [],
       "displayType": "redashChart",
       "error": null,
       "errorDetails": null,
       "errorSummary": null,
       "errorTraceType": null,
       "finishTime": 0,
       "globalVars": {},
       "guid": "",
       "height": "auto",
       "hideCommandCode": false,
       "hideCommandResult": false,
       "iPythonMetadata": null,
       "inputWidgets": {},
       "isLockedInExamMode": false,
       "latestUser": "a user",
       "latestUserId": null,
       "listResultMetadata": null,
       "metadata": {
        "byteLimit": 2048000,
        "implicitDf": true,
        "rowLimit": 10000
       },
       "nuid": "8a5a82de-ef80-4ebd-94e5-62e12359765a",
       "origId": 0,
       "parentHierarchy": [],
       "pivotAggregation": null,
       "pivotColumns": null,
       "position": 33.140625,
       "resultDbfsErrorMessage": null,
       "resultDbfsStatus": "INLINED_IN_TREE",
       "results": null,
       "showCommandTitle": false,
       "startTime": 0,
       "state": "finished",
       "streamStates": {},
       "subcommandOptions": {
        "queryPlan": {
         "groups": [
          {
           "column": "Country",
           "type": "column"
          }
         ],
         "selects": [
          {
           "column": "Country",
           "type": "column"
          },
          {
           "alias": "column_dfb513d58",
           "args": [
            {
             "column": "sum(OrderQuantity)",
             "type": "column"
            }
           ],
           "function": "SUM",
           "type": "function"
          }
         ]
        }
       },
       "submitTime": 0,
       "subtype": "tableResultSubCmd.visualization",
       "tableResultIndex": 0,
       "useConsistentColors": false,
       "version": "CommandV1",
       "width": "auto",
       "workflows": [],
       "xColumns": null,
       "yColumns": null
      }
     },
     "output_type": "display_data"
    }
   ],
   "source": [
    "%sql\n",
    "\n",
    "select Country, sum(OrderQuantity) from sales group by Country;"
   ]
  },
  {
   "cell_type": "markdown",
   "metadata": {
    "application/vnd.databricks.v1+cell": {
     "cellMetadata": {
      "byteLimit": 2048000,
      "rowLimit": 10000
     },
     "inputWidgets": {},
     "nuid": "704f981e-0319-4e02-be91-61c43e1844f2",
     "showTitle": false,
     "title": ""
    }
   },
   "source": [
    "**Total Sales by Country**"
   ]
  },
  {
   "cell_type": "code",
   "execution_count": 0,
   "metadata": {
    "application/vnd.databricks.v1+cell": {
     "cellMetadata": {
      "byteLimit": 2048000,
      "implicitDf": true,
      "rowLimit": 10000
     },
     "inputWidgets": {},
     "nuid": "6bb71227-3286-4198-bffc-3a553a233b45",
     "showTitle": false,
     "title": ""
    }
   },
   "outputs": [
    {
     "output_type": "display_data",
     "data": {
      "text/html": [
       "<style scoped>\n",
       "  .table-result-container {\n",
       "    max-height: 300px;\n",
       "    overflow: auto;\n",
       "  }\n",
       "  table, th, td {\n",
       "    border: 1px solid black;\n",
       "    border-collapse: collapse;\n",
       "  }\n",
       "  th, td {\n",
       "    padding: 5px;\n",
       "  }\n",
       "  th {\n",
       "    text-align: left;\n",
       "  }\n",
       "</style><div class='table-result-container'><table class='table-result'><thead style='background-color: white'><tr><th>Country</th><th>TotalSales</th></tr></thead><tbody><tr><td>United States</td><td>1287494.9799999343</td></tr><tr><td>Australia</td><td>828808.2599999894</td></tr><tr><td>United Kingdom</td><td>439549.5500000054</td></tr><tr><td>Germany</td><td>383710.85000000335</td></tr><tr><td>France</td><td>360054.97000000393</td></tr><tr><td>Canada</td><td>309688.4300000038</td></tr></tbody></table></div>"
      ]
     },
     "metadata": {
      "application/vnd.databricks.v1+output": {
       "addedWidgets": {},
       "aggData": [],
       "aggError": "",
       "aggOverflow": false,
       "aggSchema": [],
       "aggSeriesLimitReached": false,
       "aggType": "",
       "arguments": {},
       "columnCustomDisplayInfos": {},
       "data": [
        [
         "United States",
         1287494.9799999343
        ],
        [
         "Australia",
         828808.2599999894
        ],
        [
         "United Kingdom",
         439549.5500000054
        ],
        [
         "Germany",
         383710.85000000335
        ],
        [
         "France",
         360054.97000000393
        ],
        [
         "Canada",
         309688.4300000038
        ]
       ],
       "datasetInfos": [],
       "dbfsResultPath": null,
       "isJsonSchema": true,
       "metadata": {},
       "overflow": false,
       "plotOptions": {
        "customPlotOptions": {},
        "displayType": "table",
        "pivotAggregation": null,
        "pivotColumns": null,
        "xColumns": null,
        "yColumns": null
       },
       "removedWidgets": [],
       "schema": [
        {
         "metadata": "{}",
         "name": "Country",
         "type": "\"string\""
        },
        {
         "metadata": "{}",
         "name": "TotalSales",
         "type": "\"double\""
        }
       ],
       "type": "table"
      }
     },
     "output_type": "display_data"
    },
    {
     "output_type": "display_data",
     "data": {
      "text/plain": [
       "Databricks visualization. Run in Databricks to view."
      ]
     },
     "metadata": {
      "application/vnd.databricks.v1.subcommand+json": {
       "baseErrorDetails": null,
       "bindings": {},
       "collapsed": false,
       "command": "%sql WITH q AS (select S.Country, SUM(P.ProductPrice * S.OrderQuantity) AS TotalSales from salesdb.sales S join\nsalesdb.products P \non S.ProductKey=P.ProductKey\ngroup by S.Country order by TotalSales desc) SELECT `Country`,SUM(`TotalSales`) `column_abf0730d8` FROM q GROUP BY `Country`",
       "commandTitle": "Visualization 1",
       "commandType": "auto",
       "commandVersion": 0,
       "commentThread": [],
       "commentsVisible": false,
       "contentSha256Hex": null,
       "customPlotOptions": {
        "redashChart": [
         {
          "key": "type",
          "value": "CHART"
         },
         {
          "key": "options",
          "value": {
           "alignYAxesAtZero": true,
           "coefficient": 1,
           "columnConfigurationMap": {
            "x": {
             "column": "Country",
             "id": "column_abf0730d7"
            },
            "y": [
             {
              "column": "TotalSales",
              "id": "column_abf0730d8",
              "transform": "SUM"
             }
            ]
           },
           "dateTimeFormat": "DD/MM/YYYY HH:mm",
           "direction": {
            "type": "counterclockwise"
           },
           "error_y": {
            "type": "data",
            "visible": true
           },
           "globalSeriesType": "column",
           "legend": {
            "traceorder": "normal"
           },
           "missingValuesAsZero": true,
           "numberFormat": "0,0.[00000]",
           "percentFormat": "0[.]00%",
           "series": {
            "error_y": {
             "type": "data",
             "visible": true
            },
            "stacking": null
           },
           "seriesOptions": {
            "column_abf0730d8": {
             "name": "TotalSales",
             "yAxis": 0
            }
           },
           "showDataLabels": false,
           "sizemode": "diameter",
           "sortX": true,
           "sortY": true,
           "swappedAxes": true,
           "textFormat": "",
           "useAggregationsUi": true,
           "valuesOptions": {},
           "version": 2,
           "xAxis": {
            "labels": {
             "enabled": true
            },
            "type": "-"
           },
           "yAxis": [
            {
             "type": "-"
            },
            {
             "opposite": true,
             "type": "-"
            }
           ]
          }
         }
        ]
       },
       "datasetPreviewNameToCmdIdMap": {},
       "diffDeletes": [],
       "diffInserts": [],
       "displayType": "redashChart",
       "error": null,
       "errorDetails": null,
       "errorSummary": null,
       "errorTraceType": null,
       "finishTime": 0,
       "globalVars": {},
       "guid": "",
       "height": "auto",
       "hideCommandCode": false,
       "hideCommandResult": false,
       "iPythonMetadata": null,
       "inputWidgets": {},
       "isLockedInExamMode": false,
       "latestUser": "a user",
       "latestUserId": null,
       "listResultMetadata": null,
       "metadata": {
        "byteLimit": 2048000,
        "implicitDf": true,
        "rowLimit": 10000
       },
       "nuid": "4bf67a3b-42c0-45b3-a3f2-e00564aa23b0",
       "origId": 0,
       "parentHierarchy": [],
       "pivotAggregation": null,
       "pivotColumns": null,
       "position": 33.15625,
       "resultDbfsErrorMessage": null,
       "resultDbfsStatus": "INLINED_IN_TREE",
       "results": null,
       "showCommandTitle": false,
       "startTime": 0,
       "state": "finished",
       "streamStates": {},
       "subcommandOptions": {
        "queryPlan": {
         "groups": [
          {
           "column": "Country",
           "type": "column"
          }
         ],
         "selects": [
          {
           "column": "Country",
           "type": "column"
          },
          {
           "alias": "column_abf0730d8",
           "args": [
            {
             "column": "TotalSales",
             "type": "column"
            }
           ],
           "function": "SUM",
           "type": "function"
          }
         ]
        }
       },
       "submitTime": 0,
       "subtype": "tableResultSubCmd.visualization",
       "tableResultIndex": 0,
       "useConsistentColors": false,
       "version": "CommandV1",
       "width": "auto",
       "workflows": [],
       "xColumns": null,
       "yColumns": null
      }
     },
     "output_type": "display_data"
    }
   ],
   "source": [
    "%sql\n",
    "select S.Country, SUM(P.ProductPrice * S.OrderQuantity) AS TotalSales from salesdb.sales S join\n",
    "salesdb.products P \n",
    "on S.ProductKey=P.ProductKey\n",
    "group by S.Country order by TotalSales desc;"
   ]
  },
  {
   "cell_type": "markdown",
   "metadata": {
    "application/vnd.databricks.v1+cell": {
     "cellMetadata": {
      "byteLimit": 2048000,
      "rowLimit": 10000
     },
     "inputWidgets": {},
     "nuid": "17c689ce-d781-42fa-bd2d-dccb8eedd681",
     "showTitle": false,
     "title": ""
    }
   },
   "source": [
    "**Total Profit by Country**"
   ]
  },
  {
   "cell_type": "code",
   "execution_count": 0,
   "metadata": {
    "application/vnd.databricks.v1+cell": {
     "cellMetadata": {
      "byteLimit": 2048000,
      "implicitDf": true,
      "rowLimit": 10000
     },
     "inputWidgets": {},
     "nuid": "aa1f20a6-b22f-49d7-8003-8c1e595efca5",
     "showTitle": false,
     "title": ""
    }
   },
   "outputs": [
    {
     "output_type": "display_data",
     "data": {
      "text/html": [
       "<style scoped>\n",
       "  .table-result-container {\n",
       "    max-height: 300px;\n",
       "    overflow: auto;\n",
       "  }\n",
       "  table, th, td {\n",
       "    border: 1px solid black;\n",
       "    border-collapse: collapse;\n",
       "  }\n",
       "  th, td {\n",
       "    padding: 5px;\n",
       "  }\n",
       "  th {\n",
       "    text-align: left;\n",
       "  }\n",
       "</style><div class='table-result-container'><table class='table-result'><thead style='background-color: white'><tr><th>Country</th><th>TotalProfit</th></tr></thead><tbody><tr><td>United States</td><td>242167.56</td></tr><tr><td>Canada</td><td>91201.84</td></tr><tr><td>Australia</td><td>74397.78</td></tr><tr><td>France</td><td>68687.69</td></tr><tr><td>United Kingdom</td><td>51734.22</td></tr><tr><td>Germany</td><td>47704.88</td></tr></tbody></table></div>"
      ]
     },
     "metadata": {
      "application/vnd.databricks.v1+output": {
       "addedWidgets": {},
       "aggData": [],
       "aggError": "",
       "aggOverflow": false,
       "aggSchema": [],
       "aggSeriesLimitReached": false,
       "aggType": "",
       "arguments": {},
       "columnCustomDisplayInfos": {},
       "data": [
        [
         "United States",
         242167.56
        ],
        [
         "Canada",
         91201.84
        ],
        [
         "Australia",
         74397.78
        ],
        [
         "France",
         68687.69
        ],
        [
         "United Kingdom",
         51734.22
        ],
        [
         "Germany",
         47704.88
        ]
       ],
       "datasetInfos": [],
       "dbfsResultPath": null,
       "isJsonSchema": true,
       "metadata": {},
       "overflow": false,
       "plotOptions": {
        "customPlotOptions": {},
        "displayType": "table",
        "pivotAggregation": null,
        "pivotColumns": null,
        "xColumns": null,
        "yColumns": null
       },
       "removedWidgets": [],
       "schema": [
        {
         "metadata": "{}",
         "name": "Country",
         "type": "\"string\""
        },
        {
         "metadata": "{}",
         "name": "TotalProfit",
         "type": "\"double\""
        }
       ],
       "type": "table"
      }
     },
     "output_type": "display_data"
    },
    {
     "output_type": "display_data",
     "data": {
      "text/plain": [
       "Databricks visualization. Run in Databricks to view."
      ]
     },
     "metadata": {
      "application/vnd.databricks.v1.subcommand+json": {
       "baseErrorDetails": null,
       "bindings": {},
       "collapsed": false,
       "command": "%sql WITH q AS (select S.Country, ROUND((SUM(P.ProductPrice * S.OrderQuantity) - SUM(P.ProductCost * S.OrderQuantity)), 2) AS TotalProfit from salesdb.sales S join\nsalesdb.products P \non S.ProductKey=P.ProductKey\ngroup by S.Country order by TotalProfit desc) SELECT `Country`,SUM(`TotalProfit`) `column_e345313b4` FROM q GROUP BY `Country`",
       "commandTitle": "Visualization 1",
       "commandType": "auto",
       "commandVersion": 0,
       "commentThread": [],
       "commentsVisible": false,
       "contentSha256Hex": null,
       "customPlotOptions": {
        "redashChart": [
         {
          "key": "type",
          "value": "CHART"
         },
         {
          "key": "options",
          "value": {
           "alignYAxesAtZero": true,
           "coefficient": 1,
           "columnConfigurationMap": {
            "x": {
             "column": "Country",
             "id": "column_e345313b3"
            },
            "y": [
             {
              "column": "TotalProfit",
              "id": "column_e345313b4",
              "transform": "SUM"
             }
            ]
           },
           "dateTimeFormat": "DD/MM/YYYY HH:mm",
           "direction": {
            "type": "counterclockwise"
           },
           "error_y": {
            "type": "data",
            "visible": true
           },
           "globalSeriesType": "pie",
           "legend": {
            "traceorder": "normal"
           },
           "missingValuesAsZero": true,
           "numberFormat": "0,0.[00000]",
           "percentFormat": "0[.]00%",
           "series": {
            "error_y": {
             "type": "data",
             "visible": true
            },
            "stacking": null
           },
           "seriesOptions": {
            "column_e345313b4": {
             "name": "TotalProfit",
             "type": "pie",
             "yAxis": 0
            }
           },
           "showDataLabels": true,
           "sizemode": "diameter",
           "sortX": true,
           "sortY": true,
           "swappedAxes": false,
           "textFormat": "",
           "useAggregationsUi": true,
           "valuesOptions": {},
           "version": 2,
           "xAxis": {
            "labels": {
             "enabled": true
            },
            "type": "-"
           },
           "yAxis": [
            {
             "type": "-"
            },
            {
             "opposite": true,
             "type": "-"
            }
           ]
          }
         }
        ]
       },
       "datasetPreviewNameToCmdIdMap": {},
       "diffDeletes": [],
       "diffInserts": [],
       "displayType": "redashChart",
       "error": null,
       "errorDetails": null,
       "errorSummary": null,
       "errorTraceType": null,
       "finishTime": 0,
       "globalVars": {},
       "guid": "",
       "height": "auto",
       "hideCommandCode": false,
       "hideCommandResult": false,
       "iPythonMetadata": null,
       "inputWidgets": {},
       "isLockedInExamMode": false,
       "latestUser": "a user",
       "latestUserId": null,
       "listResultMetadata": null,
       "metadata": {
        "byteLimit": 2048000,
        "implicitDf": true,
        "rowLimit": 10000
       },
       "nuid": "779397be-9e4a-4285-afa5-570dd48fc7f9",
       "origId": 0,
       "parentHierarchy": [],
       "pivotAggregation": null,
       "pivotColumns": null,
       "position": 33.177734375,
       "resultDbfsErrorMessage": null,
       "resultDbfsStatus": "INLINED_IN_TREE",
       "results": null,
       "showCommandTitle": false,
       "startTime": 0,
       "state": "finished",
       "streamStates": {},
       "subcommandOptions": {
        "queryPlan": {
         "groups": [
          {
           "column": "Country",
           "type": "column"
          }
         ],
         "selects": [
          {
           "column": "Country",
           "type": "column"
          },
          {
           "alias": "column_e345313b4",
           "args": [
            {
             "column": "TotalProfit",
             "type": "column"
            }
           ],
           "function": "SUM",
           "type": "function"
          }
         ]
        }
       },
       "submitTime": 0,
       "subtype": "tableResultSubCmd.visualization",
       "tableResultIndex": 0,
       "useConsistentColors": false,
       "version": "CommandV1",
       "width": "auto",
       "workflows": [],
       "xColumns": null,
       "yColumns": null
      }
     },
     "output_type": "display_data"
    },
    {
     "output_type": "display_data",
     "data": {
      "text/plain": [
       "Databricks visualization. Run in Databricks to view."
      ]
     },
     "metadata": {
      "application/vnd.databricks.v1.subcommand+json": {
       "baseErrorDetails": null,
       "bindings": {},
       "collapsed": false,
       "command": "\n%sql\nselect S.Country, ROUND((SUM(P.ProductPrice * S.OrderQuantity) - SUM(P.ProductCost * S.OrderQuantity)), 2) AS TotalProfit from salesdb.sales S join\nsalesdb.products P \non S.ProductKey=P.ProductKey\ngroup by S.Country order by TotalProfit desc;",
       "commandTitle": "Visualization 2",
       "commandType": "auto",
       "commandVersion": 0,
       "commentThread": [],
       "commentsVisible": false,
       "contentSha256Hex": null,
       "customPlotOptions": {
        "redashChart": [
         {
          "key": "type",
          "value": "CHOROPLETH"
         },
         {
          "key": "options",
          "value": {
           "clusteringMode": "e",
           "colors": {
            "background": "#ffffff",
            "borders": "#ffffff",
            "max": "#002FB4",
            "min": "#799CFF",
            "noValue": "#dddddd"
           },
           "keyColumn": "Country",
           "legend": {
            "alignText": "right",
            "position": "bottom-left",
            "visible": true
           },
           "mapType": "countries",
           "noValuePlaceholder": "N/A",
           "popup": {
            "enabled": true,
            "template": "Region: <b>{{ @@name }}</b>\n<br>\nValue: <b>{{ @@value }}</b>"
           },
           "steps": 5,
           "targetField": "name",
           "tooltip": {
            "enabled": true,
            "template": "<b>{{ @@name }}</b>: {{ @@value }}"
           },
           "valueColumn": "TotalProfit",
           "valueFormat": "0,0.00"
          }
         }
        ]
       },
       "datasetPreviewNameToCmdIdMap": {},
       "diffDeletes": [],
       "diffInserts": [],
       "displayType": "redashChart",
       "error": null,
       "errorDetails": null,
       "errorSummary": null,
       "errorTraceType": null,
       "finishTime": 0,
       "globalVars": {},
       "guid": "",
       "height": "auto",
       "hideCommandCode": false,
       "hideCommandResult": false,
       "iPythonMetadata": null,
       "inputWidgets": {},
       "isLockedInExamMode": false,
       "latestUser": "a user",
       "latestUserId": null,
       "listResultMetadata": null,
       "metadata": {
        "byteLimit": 2048000,
        "implicitDf": true,
        "rowLimit": 10000
       },
       "nuid": "bc8711ff-5e13-480d-b53c-4b4a2e57b883",
       "origId": 0,
       "parentHierarchy": [],
       "pivotAggregation": null,
       "pivotColumns": null,
       "position": 34.177734375,
       "resultDbfsErrorMessage": null,
       "resultDbfsStatus": "INLINED_IN_TREE",
       "results": null,
       "showCommandTitle": false,
       "startTime": 0,
       "state": "finished",
       "streamStates": {},
       "subcommandOptions": {},
       "submitTime": 0,
       "subtype": "tableResultSubCmd.visualization",
       "tableResultIndex": 0,
       "useConsistentColors": false,
       "version": "CommandV1",
       "width": "auto",
       "workflows": [],
       "xColumns": null,
       "yColumns": null
      }
     },
     "output_type": "display_data"
    }
   ],
   "source": [
    "\n",
    "%sql\n",
    "select S.Country, ROUND((SUM(P.ProductPrice * S.OrderQuantity) - SUM(P.ProductCost * S.OrderQuantity)), 2) AS TotalProfit from salesdb.sales S join\n",
    "salesdb.products P \n",
    "on S.ProductKey=P.ProductKey\n",
    "group by S.Country order by TotalProfit desc;"
   ]
  },
  {
   "cell_type": "markdown",
   "metadata": {
    "application/vnd.databricks.v1+cell": {
     "cellMetadata": {
      "byteLimit": 2048000,
      "rowLimit": 10000
     },
     "inputWidgets": {},
     "nuid": "94715463-198c-448a-816b-936c23c019bf",
     "showTitle": false,
     "title": ""
    }
   },
   "source": [
    "**Most Sales by Product Category**"
   ]
  },
  {
   "cell_type": "code",
   "execution_count": 0,
   "metadata": {
    "application/vnd.databricks.v1+cell": {
     "cellMetadata": {
      "byteLimit": 2048000,
      "implicitDf": true,
      "rowLimit": 10000
     },
     "inputWidgets": {},
     "nuid": "9f1da9c5-3fc9-4e30-ae22-d915c800bd2c",
     "showTitle": false,
     "title": ""
    }
   },
   "outputs": [
    {
     "output_type": "display_data",
     "data": {
      "text/html": [
       "<style scoped>\n",
       "  .table-result-container {\n",
       "    max-height: 300px;\n",
       "    overflow: auto;\n",
       "  }\n",
       "  table, th, td {\n",
       "    border: 1px solid black;\n",
       "    border-collapse: collapse;\n",
       "  }\n",
       "  th, td {\n",
       "    padding: 5px;\n",
       "  }\n",
       "  th {\n",
       "    text-align: left;\n",
       "  }\n",
       "</style><div class='table-result-container'><table class='table-result'><thead style='background-color: white'><tr><th>CategoryName</th><th>QuantitySold</th></tr></thead><tbody><tr><td>Accessories</td><td>57809</td></tr><tr><td>Bikes</td><td>13929</td></tr><tr><td>Clothing</td><td>12436</td></tr></tbody></table></div>"
      ]
     },
     "metadata": {
      "application/vnd.databricks.v1+output": {
       "addedWidgets": {},
       "aggData": [],
       "aggError": "",
       "aggOverflow": false,
       "aggSchema": [],
       "aggSeriesLimitReached": false,
       "aggType": "",
       "arguments": {},
       "columnCustomDisplayInfos": {},
       "data": [
        [
         "Accessories",
         57809
        ],
        [
         "Bikes",
         13929
        ],
        [
         "Clothing",
         12436
        ]
       ],
       "datasetInfos": [],
       "dbfsResultPath": null,
       "isJsonSchema": true,
       "metadata": {},
       "overflow": false,
       "plotOptions": {
        "customPlotOptions": {},
        "displayType": "table",
        "pivotAggregation": null,
        "pivotColumns": null,
        "xColumns": null,
        "yColumns": null
       },
       "removedWidgets": [],
       "schema": [
        {
         "metadata": "{}",
         "name": "CategoryName",
         "type": "\"string\""
        },
        {
         "metadata": "{}",
         "name": "QuantitySold",
         "type": "\"long\""
        }
       ],
       "type": "table"
      }
     },
     "output_type": "display_data"
    },
    {
     "output_type": "display_data",
     "data": {
      "text/plain": [
       "Databricks visualization. Run in Databricks to view."
      ]
     },
     "metadata": {
      "application/vnd.databricks.v1.subcommand+json": {
       "baseErrorDetails": null,
       "bindings": {},
       "collapsed": false,
       "command": "%sql WITH q AS (select P.CategoryName, SUM(S.OrderQuantity) as QuantitySold from salesdb.sales S join\nsalesdb.products P \non S.ProductKey=P.ProductKey\ngroup by P.CategoryName order by QuantitySold desc) SELECT `CategoryName`,SUM(`QuantitySold`) `column_e345313b10` FROM q GROUP BY `CategoryName`",
       "commandTitle": "Visualization 1",
       "commandType": "auto",
       "commandVersion": 0,
       "commentThread": [],
       "commentsVisible": false,
       "contentSha256Hex": null,
       "customPlotOptions": {
        "redashChart": [
         {
          "key": "type",
          "value": "CHART"
         },
         {
          "key": "options",
          "value": {
           "alignYAxesAtZero": true,
           "coefficient": 1,
           "columnConfigurationMap": {
            "x": {
             "column": "CategoryName",
             "id": "column_e345313b9"
            },
            "y": [
             {
              "column": "QuantitySold",
              "id": "column_e345313b10",
              "transform": "SUM"
             }
            ]
           },
           "dateTimeFormat": "DD/MM/YYYY HH:mm",
           "direction": {
            "type": "counterclockwise"
           },
           "error_y": {
            "type": "data",
            "visible": true
           },
           "globalSeriesType": "column",
           "isAggregationOn": true,
           "legend": {
            "traceorder": "normal"
           },
           "missingValuesAsZero": true,
           "numberFormat": "0,0.[00000]",
           "percentFormat": "0[.]00%",
           "series": {
            "error_y": {
             "type": "data",
             "visible": true
            },
            "stacking": null
           },
           "seriesOptions": {
            "column_e345313b10": {
             "color": "#8CFFB4",
             "name": "QuantitySold",
             "type": "column",
             "yAxis": 0
            }
           },
           "showDataLabels": true,
           "sizemode": "diameter",
           "sortX": true,
           "sortY": true,
           "swappedAxes": false,
           "textFormat": "",
           "useAggregationsUi": true,
           "valuesOptions": {},
           "version": 2,
           "xAxis": {
            "labels": {
             "enabled": true
            },
            "title": {
             "text": "Category"
            },
            "type": "-"
           },
           "yAxis": [
            {
             "title": {
              "text": "Quantity Sold "
             },
             "type": "-"
            },
            {
             "opposite": true,
             "type": "-"
            }
           ]
          }
         }
        ]
       },
       "datasetPreviewNameToCmdIdMap": {},
       "diffDeletes": [],
       "diffInserts": [],
       "displayType": "redashChart",
       "error": null,
       "errorDetails": null,
       "errorSummary": null,
       "errorTraceType": null,
       "finishTime": 0,
       "globalVars": {},
       "guid": "",
       "height": "auto",
       "hideCommandCode": false,
       "hideCommandResult": false,
       "iPythonMetadata": null,
       "inputWidgets": {},
       "isLockedInExamMode": false,
       "latestUser": "a user",
       "latestUserId": null,
       "listResultMetadata": null,
       "metadata": {
        "byteLimit": 2048000,
        "implicitDf": true,
        "rowLimit": 10000
       },
       "nuid": "5e7def67-2237-42c1-8299-823fbef50903",
       "origId": 0,
       "parentHierarchy": [],
       "pivotAggregation": null,
       "pivotColumns": null,
       "position": 33.181640625,
       "resultDbfsErrorMessage": null,
       "resultDbfsStatus": "INLINED_IN_TREE",
       "results": null,
       "showCommandTitle": false,
       "startTime": 0,
       "state": "finished",
       "streamStates": {},
       "subcommandOptions": {
        "queryPlan": {
         "groups": [
          {
           "column": "CategoryName",
           "type": "column"
          }
         ],
         "selects": [
          {
           "column": "CategoryName",
           "type": "column"
          },
          {
           "alias": "column_e345313b10",
           "args": [
            {
             "column": "QuantitySold",
             "type": "column"
            }
           ],
           "function": "SUM",
           "type": "function"
          }
         ]
        }
       },
       "submitTime": 0,
       "subtype": "tableResultSubCmd.visualization",
       "tableResultIndex": 0,
       "useConsistentColors": false,
       "version": "CommandV1",
       "width": "auto",
       "workflows": [],
       "xColumns": null,
       "yColumns": null
      }
     },
     "output_type": "display_data"
    }
   ],
   "source": [
    "%sql\n",
    "select P.CategoryName, SUM(S.OrderQuantity) as QuantitySold from salesdb.sales S join\n",
    "salesdb.products P \n",
    "on S.ProductKey=P.ProductKey\n",
    "group by P.CategoryName order by QuantitySold desc;"
   ]
  },
  {
   "cell_type": "code",
   "execution_count": 0,
   "metadata": {
    "application/vnd.databricks.v1+cell": {
     "cellMetadata": {
      "byteLimit": 2048000,
      "implicitDf": true,
      "rowLimit": 10000
     },
     "inputWidgets": {},
     "nuid": "f86caf2a-f8d0-4f5b-b91a-5bd7649f21e0",
     "showTitle": false,
     "title": ""
    }
   },
   "outputs": [
    {
     "output_type": "display_data",
     "data": {
      "text/html": [
       "<style scoped>\n",
       "  .table-result-container {\n",
       "    max-height: 300px;\n",
       "    overflow: auto;\n",
       "  }\n",
       "  table, th, td {\n",
       "    border: 1px solid black;\n",
       "    border-collapse: collapse;\n",
       "  }\n",
       "  th, td {\n",
       "    padding: 5px;\n",
       "  }\n",
       "  th {\n",
       "    text-align: left;\n",
       "  }\n",
       "</style><div class='table-result-container'><table class='table-result'><thead style='background-color: white'><tr><th>CategoryName</th><th>TotalSales</th></tr></thead><tbody><tr><td>Bikes</td><td>2337239.92</td></tr><tr><td>Accessories</td><td>906656.58</td></tr><tr><td>Clothing</td><td>365410.54</td></tr></tbody></table></div>"
      ]
     },
     "metadata": {
      "application/vnd.databricks.v1+output": {
       "addedWidgets": {},
       "aggData": [],
       "aggError": "",
       "aggOverflow": false,
       "aggSchema": [],
       "aggSeriesLimitReached": false,
       "aggType": "",
       "arguments": {},
       "columnCustomDisplayInfos": {},
       "data": [
        [
         "Bikes",
         2337239.92
        ],
        [
         "Accessories",
         906656.58
        ],
        [
         "Clothing",
         365410.54
        ]
       ],
       "datasetInfos": [],
       "dbfsResultPath": null,
       "isJsonSchema": true,
       "metadata": {},
       "overflow": false,
       "plotOptions": {
        "customPlotOptions": {},
        "displayType": "table",
        "pivotAggregation": null,
        "pivotColumns": null,
        "xColumns": null,
        "yColumns": null
       },
       "removedWidgets": [],
       "schema": [
        {
         "metadata": "{}",
         "name": "CategoryName",
         "type": "\"string\""
        },
        {
         "metadata": "{}",
         "name": "TotalSales",
         "type": "\"double\""
        }
       ],
       "type": "table"
      }
     },
     "output_type": "display_data"
    },
    {
     "output_type": "display_data",
     "data": {
      "text/plain": [
       "Databricks visualization. Run in Databricks to view."
      ]
     },
     "metadata": {
      "application/vnd.databricks.v1.subcommand+json": {
       "baseErrorDetails": null,
       "bindings": {},
       "collapsed": false,
       "command": "%sql WITH q AS (select P.CategoryName, ROUND(SUM(P.ProductPrice * S.OrderQuantity),2) AS TotalSales from salesdb.sales S join\nsalesdb.products P \non S.ProductKey=P.ProductKey\ngroup by P.CategoryName order by TotalSales desc) SELECT `CategoryName`,SUM(`TotalSales`) `column_e345313b13` FROM q GROUP BY `CategoryName`",
       "commandTitle": "Visualization 1",
       "commandType": "auto",
       "commandVersion": 0,
       "commentThread": [],
       "commentsVisible": false,
       "contentSha256Hex": null,
       "customPlotOptions": {
        "redashChart": [
         {
          "key": "type",
          "value": "CHART"
         },
         {
          "key": "options",
          "value": {
           "alignYAxesAtZero": true,
           "coefficient": 1,
           "columnConfigurationMap": {
            "x": {
             "column": "CategoryName",
             "id": "column_e345313b12"
            },
            "y": [
             {
              "column": "TotalSales",
              "id": "column_e345313b13",
              "transform": "SUM"
             }
            ]
           },
           "dateTimeFormat": "DD/MM/YYYY HH:mm",
           "direction": {
            "type": "counterclockwise"
           },
           "error_y": {
            "type": "data",
            "visible": true
           },
           "globalSeriesType": "column",
           "isAggregationOn": true,
           "legend": {
            "traceorder": "normal"
           },
           "missingValuesAsZero": true,
           "numberFormat": "0,0.[00000]",
           "percentFormat": "0[.]00%",
           "series": {
            "error_y": {
             "type": "data",
             "visible": true
            },
            "stacking": null
           },
           "seriesOptions": {
            "column_e345313b13": {
             "color": "#8CFFB4",
             "name": "TotalSales",
             "yAxis": 0
            }
           },
           "showDataLabels": true,
           "sizemode": "diameter",
           "sortX": true,
           "sortY": true,
           "swappedAxes": false,
           "textFormat": "",
           "useAggregationsUi": true,
           "valuesOptions": {},
           "version": 2,
           "xAxis": {
            "labels": {
             "enabled": true
            },
            "title": {
             "text": "Category"
            },
            "type": "-"
           },
           "yAxis": [
            {
             "title": {
              "text": "Amount of Sales in USD"
             },
             "type": "-"
            },
            {
             "opposite": true,
             "type": "-"
            }
           ]
          }
         }
        ]
       },
       "datasetPreviewNameToCmdIdMap": {},
       "diffDeletes": [],
       "diffInserts": [],
       "displayType": "redashChart",
       "error": null,
       "errorDetails": null,
       "errorSummary": null,
       "errorTraceType": null,
       "finishTime": 0,
       "globalVars": {},
       "guid": "",
       "height": "auto",
       "hideCommandCode": false,
       "hideCommandResult": false,
       "iPythonMetadata": null,
       "inputWidgets": {},
       "isLockedInExamMode": false,
       "latestUser": "a user",
       "latestUserId": null,
       "listResultMetadata": null,
       "metadata": {
        "byteLimit": 2048000,
        "implicitDf": true,
        "rowLimit": 10000
       },
       "nuid": "7032d807-fd5c-4d5b-bf6f-7f38aac4217a",
       "origId": 0,
       "parentHierarchy": [],
       "pivotAggregation": null,
       "pivotColumns": null,
       "position": 33.18359375,
       "resultDbfsErrorMessage": null,
       "resultDbfsStatus": "INLINED_IN_TREE",
       "results": null,
       "showCommandTitle": false,
       "startTime": 0,
       "state": "finished",
       "streamStates": {},
       "subcommandOptions": {
        "queryPlan": {
         "groups": [
          {
           "column": "CategoryName",
           "type": "column"
          }
         ],
         "selects": [
          {
           "column": "CategoryName",
           "type": "column"
          },
          {
           "alias": "column_e345313b13",
           "args": [
            {
             "column": "TotalSales",
             "type": "column"
            }
           ],
           "function": "SUM",
           "type": "function"
          }
         ]
        }
       },
       "submitTime": 0,
       "subtype": "tableResultSubCmd.visualization",
       "tableResultIndex": 0,
       "useConsistentColors": false,
       "version": "CommandV1",
       "width": "auto",
       "workflows": [],
       "xColumns": null,
       "yColumns": null
      }
     },
     "output_type": "display_data"
    }
   ],
   "source": [
    "%sql\n",
    "select P.CategoryName, ROUND(SUM(P.ProductPrice * S.OrderQuantity),2) AS TotalSales from salesdb.sales S join\n",
    "salesdb.products P \n",
    "on S.ProductKey=P.ProductKey\n",
    "group by P.CategoryName order by TotalSales desc;"
   ]
  },
  {
   "cell_type": "code",
   "execution_count": 0,
   "metadata": {
    "application/vnd.databricks.v1+cell": {
     "cellMetadata": {
      "byteLimit": 2048000,
      "implicitDf": true,
      "rowLimit": 10000
     },
     "inputWidgets": {},
     "nuid": "03f1fbec-c955-47f5-b06c-3a64fb388f69",
     "showTitle": false,
     "title": ""
    }
   },
   "outputs": [
    {
     "output_type": "display_data",
     "data": {
      "text/html": [
       "<style scoped>\n",
       "  .table-result-container {\n",
       "    max-height: 300px;\n",
       "    overflow: auto;\n",
       "  }\n",
       "  table, th, td {\n",
       "    border: 1px solid black;\n",
       "    border-collapse: collapse;\n",
       "  }\n",
       "  th, td {\n",
       "    padding: 5px;\n",
       "  }\n",
       "  th {\n",
       "    text-align: left;\n",
       "  }\n",
       "</style><div class='table-result-container'><table class='table-result'><thead style='background-color: white'><tr><th>ProductSubcategory</th><th>QuantitySold</th></tr></thead><tbody><tr><td>Road Bikes</td><td>7099</td></tr><tr><td>Mountain Bikes</td><td>4706</td></tr><tr><td>Touring Bikes</td><td>2124</td></tr></tbody></table></div>"
      ]
     },
     "metadata": {
      "application/vnd.databricks.v1+output": {
       "addedWidgets": {},
       "aggData": [],
       "aggError": "",
       "aggOverflow": false,
       "aggSchema": [],
       "aggSeriesLimitReached": false,
       "aggType": "",
       "arguments": {},
       "columnCustomDisplayInfos": {},
       "data": [
        [
         "Road Bikes",
         7099
        ],
        [
         "Mountain Bikes",
         4706
        ],
        [
         "Touring Bikes",
         2124
        ]
       ],
       "datasetInfos": [],
       "dbfsResultPath": null,
       "isJsonSchema": true,
       "metadata": {},
       "overflow": false,
       "plotOptions": {
        "customPlotOptions": {},
        "displayType": "table",
        "pivotAggregation": null,
        "pivotColumns": null,
        "xColumns": null,
        "yColumns": null
       },
       "removedWidgets": [],
       "schema": [
        {
         "metadata": "{}",
         "name": "ProductSubcategory",
         "type": "\"string\""
        },
        {
         "metadata": "{}",
         "name": "QuantitySold",
         "type": "\"long\""
        }
       ],
       "type": "table"
      }
     },
     "output_type": "display_data"
    },
    {
     "output_type": "display_data",
     "data": {
      "text/plain": [
       "Databricks visualization. Run in Databricks to view."
      ]
     },
     "metadata": {
      "application/vnd.databricks.v1.subcommand+json": {
       "baseErrorDetails": null,
       "bindings": {},
       "collapsed": false,
       "command": "%sql WITH q AS (select P.ProductSubcategory, SUM(S.OrderQuantity) as QuantitySold from salesdb.sales S join\nsalesdb.products P \non S.ProductKey=P.ProductKey\nwhere P.ProductSubcategory like '%Bikes%' group by P.ProductSubcategory order by QuantitySold desc) SELECT `ProductSubcategory`,SUM(`QuantitySold`) `column_e345313b19` FROM q GROUP BY `ProductSubcategory`",
       "commandTitle": "Visualization 1",
       "commandType": "auto",
       "commandVersion": 0,
       "commentThread": [],
       "commentsVisible": false,
       "contentSha256Hex": null,
       "customPlotOptions": {
        "redashChart": [
         {
          "key": "type",
          "value": "CHART"
         },
         {
          "key": "options",
          "value": {
           "alignYAxesAtZero": true,
           "coefficient": 1,
           "columnConfigurationMap": {
            "x": {
             "column": "ProductSubcategory",
             "id": "column_e345313b18"
            },
            "y": [
             {
              "column": "QuantitySold",
              "id": "column_e345313b19",
              "transform": "SUM"
             }
            ]
           },
           "dateTimeFormat": "DD/MM/YYYY HH:mm",
           "direction": {
            "type": "counterclockwise"
           },
           "error_y": {
            "type": "data",
            "visible": true
           },
           "globalSeriesType": "column",
           "isAggregationOn": true,
           "legend": {
            "traceorder": "normal"
           },
           "missingValuesAsZero": true,
           "numberFormat": "0,0.[00000]",
           "percentFormat": "0[.]00%",
           "series": {
            "error_y": {
             "type": "data",
             "visible": true
            },
            "stacking": null
           },
           "seriesOptions": {
            "column_e345313b19": {
             "color": "#604FE9",
             "name": "QuantitySold",
             "yAxis": 0
            }
           },
           "showDataLabels": true,
           "sizemode": "diameter",
           "sortX": true,
           "sortY": true,
           "swappedAxes": true,
           "textFormat": "",
           "useAggregationsUi": true,
           "valuesOptions": {},
           "version": 2,
           "xAxis": {
            "labels": {
             "enabled": true
            },
            "title": {
             "text": "Bike Category"
            },
            "type": "-"
           },
           "yAxis": [
            {
             "title": {
              "text": "Quantity Sold "
             },
             "type": "-"
            },
            {
             "opposite": true,
             "type": "-"
            }
           ]
          }
         }
        ]
       },
       "datasetPreviewNameToCmdIdMap": {},
       "diffDeletes": [],
       "diffInserts": [],
       "displayType": "redashChart",
       "error": null,
       "errorDetails": null,
       "errorSummary": null,
       "errorTraceType": null,
       "finishTime": 0,
       "globalVars": {},
       "guid": "",
       "height": "auto",
       "hideCommandCode": false,
       "hideCommandResult": false,
       "iPythonMetadata": null,
       "inputWidgets": {},
       "isLockedInExamMode": false,
       "latestUser": "a user",
       "latestUserId": null,
       "listResultMetadata": null,
       "metadata": {
        "byteLimit": 2048000,
        "implicitDf": true,
        "rowLimit": 10000
       },
       "nuid": "c3eb5e7b-11bf-4b23-846d-9bb912ba460d",
       "origId": 0,
       "parentHierarchy": [],
       "pivotAggregation": null,
       "pivotColumns": null,
       "position": 33.185546875,
       "resultDbfsErrorMessage": null,
       "resultDbfsStatus": "INLINED_IN_TREE",
       "results": null,
       "showCommandTitle": false,
       "startTime": 0,
       "state": "finished",
       "streamStates": {},
       "subcommandOptions": {
        "queryPlan": {
         "groups": [
          {
           "column": "ProductSubcategory",
           "type": "column"
          }
         ],
         "selects": [
          {
           "column": "ProductSubcategory",
           "type": "column"
          },
          {
           "alias": "column_e345313b19",
           "args": [
            {
             "column": "QuantitySold",
             "type": "column"
            }
           ],
           "function": "SUM",
           "type": "function"
          }
         ]
        }
       },
       "submitTime": 0,
       "subtype": "tableResultSubCmd.visualization",
       "tableResultIndex": 0,
       "useConsistentColors": false,
       "version": "CommandV1",
       "width": "auto",
       "workflows": [],
       "xColumns": null,
       "yColumns": null
      }
     },
     "output_type": "display_data"
    }
   ],
   "source": [
    "%sql\n",
    "select P.ProductSubcategory, SUM(S.OrderQuantity) as QuantitySold from salesdb.sales S join\n",
    "salesdb.products P \n",
    "on S.ProductKey=P.ProductKey\n",
    "where P.ProductSubcategory like '%Bikes%' group by P.ProductSubcategory order by QuantitySold desc;"
   ]
  },
  {
   "cell_type": "code",
   "execution_count": 0,
   "metadata": {
    "application/vnd.databricks.v1+cell": {
     "cellMetadata": {
      "byteLimit": 2048000,
      "implicitDf": true,
      "rowLimit": 10000
     },
     "inputWidgets": {},
     "nuid": "92ecf873-8579-44a0-a789-38e326021dcf",
     "showTitle": false,
     "title": ""
    }
   },
   "outputs": [
    {
     "output_type": "display_data",
     "data": {
      "text/html": [
       "<style scoped>\n",
       "  .table-result-container {\n",
       "    max-height: 300px;\n",
       "    overflow: auto;\n",
       "  }\n",
       "  table, th, td {\n",
       "    border: 1px solid black;\n",
       "    border-collapse: collapse;\n",
       "  }\n",
       "  th, td {\n",
       "    padding: 5px;\n",
       "  }\n",
       "  th {\n",
       "    text-align: left;\n",
       "  }\n",
       "</style><div class='table-result-container'><table class='table-result'><thead style='background-color: white'><tr><th>ProductSubcategory</th><th>TotalSales</th></tr></thead><tbody><tr><td>Road Bikes</td><td>1272615.98</td></tr><tr><td>Mountain Bikes</td><td>671178.44</td></tr><tr><td>Touring Bikes</td><td>393445.5</td></tr></tbody></table></div>"
      ]
     },
     "metadata": {
      "application/vnd.databricks.v1+output": {
       "addedWidgets": {},
       "aggData": [],
       "aggError": "",
       "aggOverflow": false,
       "aggSchema": [],
       "aggSeriesLimitReached": false,
       "aggType": "",
       "arguments": {},
       "columnCustomDisplayInfos": {},
       "data": [
        [
         "Road Bikes",
         1272615.98
        ],
        [
         "Mountain Bikes",
         671178.44
        ],
        [
         "Touring Bikes",
         393445.5
        ]
       ],
       "datasetInfos": [],
       "dbfsResultPath": null,
       "isJsonSchema": true,
       "metadata": {},
       "overflow": false,
       "plotOptions": {
        "customPlotOptions": {},
        "displayType": "table",
        "pivotAggregation": null,
        "pivotColumns": null,
        "xColumns": null,
        "yColumns": null
       },
       "removedWidgets": [],
       "schema": [
        {
         "metadata": "{}",
         "name": "ProductSubcategory",
         "type": "\"string\""
        },
        {
         "metadata": "{}",
         "name": "TotalSales",
         "type": "\"double\""
        }
       ],
       "type": "table"
      }
     },
     "output_type": "display_data"
    },
    {
     "output_type": "display_data",
     "data": {
      "text/plain": [
       "Databricks visualization. Run in Databricks to view."
      ]
     },
     "metadata": {
      "application/vnd.databricks.v1.subcommand+json": {
       "baseErrorDetails": null,
       "bindings": {},
       "collapsed": false,
       "command": "%sql WITH q AS (select P.ProductSubcategory, ROUND(SUM(P.ProductPrice * S.OrderQuantity),2) AS TotalSales from salesdb.sales S join\nsalesdb.products P \non S.ProductKey=P.ProductKey\nwhere P.ProductSubcategory like '%Bikes%' group by P.ProductSubcategory order by TotalSales desc) SELECT `ProductSubcategory`,SUM(`TotalSales`) `column_e345313b22` FROM q GROUP BY `ProductSubcategory`",
       "commandTitle": "Visualization 1",
       "commandType": "auto",
       "commandVersion": 0,
       "commentThread": [],
       "commentsVisible": false,
       "contentSha256Hex": null,
       "customPlotOptions": {
        "redashChart": [
         {
          "key": "type",
          "value": "CHART"
         },
         {
          "key": "options",
          "value": {
           "alignYAxesAtZero": true,
           "coefficient": 1,
           "columnConfigurationMap": {
            "x": {
             "column": "ProductSubcategory",
             "id": "column_e345313b21"
            },
            "y": [
             {
              "column": "TotalSales",
              "id": "column_e345313b22",
              "transform": "SUM"
             }
            ]
           },
           "dateTimeFormat": "DD/MM/YYYY HH:mm",
           "direction": {
            "type": "counterclockwise"
           },
           "error_y": {
            "type": "data",
            "visible": true
           },
           "globalSeriesType": "column",
           "isAggregationOn": true,
           "legend": {
            "traceorder": "normal"
           },
           "missingValuesAsZero": true,
           "numberFormat": "0,0.[00000]",
           "percentFormat": "0[.]00%",
           "series": {
            "error_y": {
             "type": "data",
             "visible": true
            },
            "stacking": null
           },
           "seriesOptions": {
            "column_e345313b22": {
             "color": "#604FE9",
             "name": "TotalSales",
             "yAxis": 0
            }
           },
           "showDataLabels": true,
           "sizemode": "diameter",
           "sortX": true,
           "sortY": true,
           "swappedAxes": true,
           "textFormat": "",
           "useAggregationsUi": true,
           "valuesOptions": {},
           "version": 2,
           "xAxis": {
            "labels": {
             "enabled": true
            },
            "title": {
             "text": "Bike Category"
            },
            "type": "-"
           },
           "yAxis": [
            {
             "title": {
              "text": "Amount of Sales in USD"
             },
             "type": "-"
            },
            {
             "opposite": true,
             "type": "-"
            }
           ]
          }
         }
        ]
       },
       "datasetPreviewNameToCmdIdMap": {},
       "diffDeletes": [],
       "diffInserts": [],
       "displayType": "redashChart",
       "error": null,
       "errorDetails": null,
       "errorSummary": null,
       "errorTraceType": null,
       "finishTime": 0,
       "globalVars": {},
       "guid": "",
       "height": "auto",
       "hideCommandCode": false,
       "hideCommandResult": false,
       "iPythonMetadata": null,
       "inputWidgets": {},
       "isLockedInExamMode": false,
       "latestUser": "a user",
       "latestUserId": null,
       "listResultMetadata": null,
       "metadata": {
        "byteLimit": 2048000,
        "implicitDf": true,
        "rowLimit": 10000
       },
       "nuid": "744599e0-3420-45e2-a8f4-4bbfd98c961f",
       "origId": 0,
       "parentHierarchy": [],
       "pivotAggregation": null,
       "pivotColumns": null,
       "position": 33.1865234375,
       "resultDbfsErrorMessage": null,
       "resultDbfsStatus": "INLINED_IN_TREE",
       "results": null,
       "showCommandTitle": false,
       "startTime": 0,
       "state": "finished",
       "streamStates": {},
       "subcommandOptions": {
        "queryPlan": {
         "groups": [
          {
           "column": "ProductSubcategory",
           "type": "column"
          }
         ],
         "selects": [
          {
           "column": "ProductSubcategory",
           "type": "column"
          },
          {
           "alias": "column_e345313b22",
           "args": [
            {
             "column": "TotalSales",
             "type": "column"
            }
           ],
           "function": "SUM",
           "type": "function"
          }
         ]
        }
       },
       "submitTime": 0,
       "subtype": "tableResultSubCmd.visualization",
       "tableResultIndex": 0,
       "useConsistentColors": false,
       "version": "CommandV1",
       "width": "auto",
       "workflows": [],
       "xColumns": null,
       "yColumns": null
      }
     },
     "output_type": "display_data"
    }
   ],
   "source": [
    "%sql\n",
    "select P.ProductSubcategory, ROUND(SUM(P.ProductPrice * S.OrderQuantity),2) AS TotalSales from salesdb.sales S join\n",
    "salesdb.products P \n",
    "on S.ProductKey=P.ProductKey\n",
    "where P.ProductSubcategory like '%Bikes%' group by P.ProductSubcategory order by TotalSales desc;"
   ]
  },
  {
   "cell_type": "markdown",
   "metadata": {
    "application/vnd.databricks.v1+cell": {
     "cellMetadata": {
      "byteLimit": 2048000,
      "rowLimit": 10000
     },
     "inputWidgets": {},
     "nuid": "a82d8ba7-2f17-4edc-83d0-892eb049c064",
     "showTitle": false,
     "title": ""
    }
   },
   "source": [
    "**Returned Products**"
   ]
  },
  {
   "cell_type": "code",
   "execution_count": 0,
   "metadata": {
    "application/vnd.databricks.v1+cell": {
     "cellMetadata": {
      "byteLimit": 2048000,
      "implicitDf": true,
      "rowLimit": 10000
     },
     "inputWidgets": {},
     "nuid": "58da8a1c-db28-4811-ad1d-3975d5a51390",
     "showTitle": false,
     "title": ""
    }
   },
   "outputs": [
    {
     "output_type": "display_data",
     "data": {
      "text/html": [
       "<style scoped>\n",
       "  .table-result-container {\n",
       "    max-height: 300px;\n",
       "    overflow: auto;\n",
       "  }\n",
       "  table, th, td {\n",
       "    border: 1px solid black;\n",
       "    border-collapse: collapse;\n",
       "  }\n",
       "  th, td {\n",
       "    padding: 5px;\n",
       "  }\n",
       "  th {\n",
       "    text-align: left;\n",
       "  }\n",
       "</style><div class='table-result-container'><table class='table-result'><thead style='background-color: white'><tr><th>ReturnDate</th><th>Continent</th><th>Country</th><th>Region</th><th>ProductKey</th><th>ReturnQuantity</th></tr></thead><tbody><tr><td>2015-01-18</td><td>Pacific</td><td>Australia</td><td>Australia</td><td>312</td><td>1</td></tr><tr><td>2015-01-18</td><td>Europe</td><td>United Kingdom</td><td>United Kingdom</td><td>310</td><td>1</td></tr><tr><td>2015-01-21</td><td>Europe</td><td>Germany</td><td>Germany</td><td>346</td><td>1</td></tr><tr><td>2015-01-22</td><td>North America</td><td>United States</td><td>Southwest</td><td>311</td><td>1</td></tr><tr><td>2015-02-02</td><td>North America</td><td>Canada</td><td>Canada</td><td>312</td><td>1</td></tr></tbody></table></div>"
      ]
     },
     "metadata": {
      "application/vnd.databricks.v1+output": {
       "addedWidgets": {},
       "aggData": [],
       "aggError": "",
       "aggOverflow": false,
       "aggSchema": [],
       "aggSeriesLimitReached": false,
       "aggType": "",
       "arguments": {},
       "columnCustomDisplayInfos": {},
       "data": [
        [
         "2015-01-18",
         "Pacific",
         "Australia",
         "Australia",
         "312",
         1
        ],
        [
         "2015-01-18",
         "Europe",
         "United Kingdom",
         "United Kingdom",
         "310",
         1
        ],
        [
         "2015-01-21",
         "Europe",
         "Germany",
         "Germany",
         "346",
         1
        ],
        [
         "2015-01-22",
         "North America",
         "United States",
         "Southwest",
         "311",
         1
        ],
        [
         "2015-02-02",
         "North America",
         "Canada",
         "Canada",
         "312",
         1
        ]
       ],
       "datasetInfos": [],
       "dbfsResultPath": null,
       "isJsonSchema": true,
       "metadata": {},
       "overflow": false,
       "plotOptions": {
        "customPlotOptions": {},
        "displayType": "table",
        "pivotAggregation": null,
        "pivotColumns": null,
        "xColumns": null,
        "yColumns": null
       },
       "removedWidgets": [],
       "schema": [
        {
         "metadata": "{}",
         "name": "ReturnDate",
         "type": "\"date\""
        },
        {
         "metadata": "{}",
         "name": "Continent",
         "type": "\"string\""
        },
        {
         "metadata": "{}",
         "name": "Country",
         "type": "\"string\""
        },
        {
         "metadata": "{}",
         "name": "Region",
         "type": "\"string\""
        },
        {
         "metadata": "{}",
         "name": "ProductKey",
         "type": "\"string\""
        },
        {
         "metadata": "{}",
         "name": "ReturnQuantity",
         "type": "\"integer\""
        }
       ],
       "type": "table"
      }
     },
     "output_type": "display_data"
    }
   ],
   "source": [
    "%sql\n",
    "select * from returns limit 5;"
   ]
  },
  {
   "cell_type": "markdown",
   "metadata": {
    "application/vnd.databricks.v1+cell": {
     "cellMetadata": {
      "byteLimit": 2048000,
      "rowLimit": 10000
     },
     "inputWidgets": {},
     "nuid": "135a8689-da4f-47b7-96e8-0d35a531d2ae",
     "showTitle": false,
     "title": ""
    }
   },
   "source": [
    "**Quantity Returned by Country**"
   ]
  },
  {
   "cell_type": "code",
   "execution_count": 0,
   "metadata": {
    "application/vnd.databricks.v1+cell": {
     "cellMetadata": {
      "byteLimit": 2048000,
      "implicitDf": true,
      "rowLimit": 10000
     },
     "inputWidgets": {},
     "nuid": "ed08a6c4-c11c-4330-ab64-f01580acba3b",
     "showTitle": false,
     "title": ""
    }
   },
   "outputs": [
    {
     "output_type": "display_data",
     "data": {
      "text/html": [
       "<style scoped>\n",
       "  .table-result-container {\n",
       "    max-height: 300px;\n",
       "    overflow: auto;\n",
       "  }\n",
       "  table, th, td {\n",
       "    border: 1px solid black;\n",
       "    border-collapse: collapse;\n",
       "  }\n",
       "  th, td {\n",
       "    padding: 5px;\n",
       "  }\n",
       "  th {\n",
       "    text-align: left;\n",
       "  }\n",
       "</style><div class='table-result-container'><table class='table-result'><thead style='background-color: white'><tr><th>Country</th><th>quantityreturned</th></tr></thead><tbody><tr><td>Germany</td><td>163</td></tr><tr><td>France</td><td>186</td></tr><tr><td>United States</td><td>633</td></tr><tr><td>Canada</td><td>238</td></tr><tr><td>Australia</td><td>404</td></tr><tr><td>United Kingdom</td><td>204</td></tr></tbody></table></div>"
      ]
     },
     "metadata": {
      "application/vnd.databricks.v1+output": {
       "addedWidgets": {},
       "aggData": [],
       "aggError": "",
       "aggOverflow": false,
       "aggSchema": [],
       "aggSeriesLimitReached": false,
       "aggType": "",
       "arguments": {},
       "columnCustomDisplayInfos": {},
       "data": [
        [
         "Germany",
         163
        ],
        [
         "France",
         186
        ],
        [
         "United States",
         633
        ],
        [
         "Canada",
         238
        ],
        [
         "Australia",
         404
        ],
        [
         "United Kingdom",
         204
        ]
       ],
       "datasetInfos": [],
       "dbfsResultPath": null,
       "isJsonSchema": true,
       "metadata": {},
       "overflow": false,
       "plotOptions": {
        "customPlotOptions": {},
        "displayType": "table",
        "pivotAggregation": null,
        "pivotColumns": null,
        "xColumns": null,
        "yColumns": null
       },
       "removedWidgets": [],
       "schema": [
        {
         "metadata": "{}",
         "name": "Country",
         "type": "\"string\""
        },
        {
         "metadata": "{}",
         "name": "quantityreturned",
         "type": "\"long\""
        }
       ],
       "type": "table"
      }
     },
     "output_type": "display_data"
    },
    {
     "output_type": "display_data",
     "data": {
      "text/plain": [
       "Databricks visualization. Run in Databricks to view."
      ]
     },
     "metadata": {
      "application/vnd.databricks.v1.subcommand+json": {
       "baseErrorDetails": null,
       "bindings": {},
       "collapsed": false,
       "command": "%sql WITH q AS (select Country, SUM(ReturnQuantity) as quantityreturned from returns group by Country) SELECT `Country`,SUM(`quantityreturned`) `column_dfb513d55` FROM q GROUP BY `Country`",
       "commandTitle": "Visualization 1",
       "commandType": "auto",
       "commandVersion": 0,
       "commentThread": [],
       "commentsVisible": false,
       "contentSha256Hex": null,
       "customPlotOptions": {
        "redashChart": [
         {
          "key": "type",
          "value": "CHART"
         },
         {
          "key": "options",
          "value": {
           "alignYAxesAtZero": true,
           "coefficient": 1,
           "columnConfigurationMap": {
            "x": {
             "column": "Country",
             "id": "column_dfb513d54"
            },
            "y": [
             {
              "column": "quantityreturned",
              "id": "column_dfb513d55",
              "transform": "SUM"
             }
            ]
           },
           "dateTimeFormat": "DD/MM/YYYY HH:mm",
           "direction": {
            "type": "counterclockwise"
           },
           "error_y": {
            "type": "data",
            "visible": true
           },
           "globalSeriesType": "column",
           "isAggregationOn": true,
           "legend": {
            "traceorder": "normal"
           },
           "missingValuesAsZero": true,
           "numberFormat": "0,0.[00000]",
           "percentFormat": "0[.]00%",
           "series": {
            "error_y": {
             "type": "data",
             "visible": true
            },
            "stacking": null
           },
           "seriesOptions": {
            "column_dfb513d55": {
             "color": "#E92828",
             "name": "quantityreturned",
             "type": "column",
             "yAxis": 0
            }
           },
           "showDataLabels": true,
           "sizemode": "diameter",
           "sortX": true,
           "sortY": true,
           "swappedAxes": false,
           "textFormat": "",
           "useAggregationsUi": true,
           "valuesOptions": {},
           "version": 2,
           "xAxis": {
            "labels": {
             "enabled": true
            },
            "type": "-"
           },
           "yAxis": [
            {
             "title": {
              "text": "Quantity Returned"
             },
             "type": "-"
            },
            {
             "opposite": true,
             "type": "-"
            }
           ]
          }
         }
        ]
       },
       "datasetPreviewNameToCmdIdMap": {},
       "diffDeletes": [],
       "diffInserts": [],
       "displayType": "redashChart",
       "error": null,
       "errorDetails": null,
       "errorSummary": null,
       "errorTraceType": null,
       "finishTime": 0,
       "globalVars": {},
       "guid": "",
       "height": "auto",
       "hideCommandCode": false,
       "hideCommandResult": false,
       "iPythonMetadata": null,
       "inputWidgets": {},
       "isLockedInExamMode": false,
       "latestUser": "a user",
       "latestUserId": null,
       "listResultMetadata": null,
       "metadata": {
        "byteLimit": 2048000,
        "implicitDf": true,
        "rowLimit": 10000
       },
       "nuid": "ee5936f0-0eb7-4ac5-9da3-aed1d285998e",
       "origId": 0,
       "parentHierarchy": [],
       "pivotAggregation": null,
       "pivotColumns": null,
       "position": 34.25,
       "resultDbfsErrorMessage": null,
       "resultDbfsStatus": "INLINED_IN_TREE",
       "results": null,
       "showCommandTitle": false,
       "startTime": 0,
       "state": "finished",
       "streamStates": {},
       "subcommandOptions": {
        "queryPlan": {
         "groups": [
          {
           "column": "Country",
           "type": "column"
          }
         ],
         "selects": [
          {
           "column": "Country",
           "type": "column"
          },
          {
           "alias": "column_dfb513d55",
           "args": [
            {
             "column": "quantityreturned",
             "type": "column"
            }
           ],
           "function": "SUM",
           "type": "function"
          }
         ]
        }
       },
       "submitTime": 0,
       "subtype": "tableResultSubCmd.visualization",
       "tableResultIndex": 0,
       "useConsistentColors": false,
       "version": "CommandV1",
       "width": "auto",
       "workflows": [],
       "xColumns": null,
       "yColumns": null
      }
     },
     "output_type": "display_data"
    }
   ],
   "source": [
    "%sql\n",
    "\n",
    "select Country, SUM(ReturnQuantity) as quantityreturned from returns group by Country;"
   ]
  },
  {
   "cell_type": "markdown",
   "metadata": {
    "application/vnd.databricks.v1+cell": {
     "cellMetadata": {
      "byteLimit": 2048000,
      "rowLimit": 10000
     },
     "inputWidgets": {},
     "nuid": "573785b6-c05f-4301-b8f6-3dde152f2e0f",
     "showTitle": false,
     "title": ""
    }
   },
   "source": [
    "**Costs of Returned Products**"
   ]
  },
  {
   "cell_type": "markdown",
   "metadata": {
    "application/vnd.databricks.v1+cell": {
     "cellMetadata": {
      "byteLimit": 2048000,
      "rowLimit": 10000
     },
     "inputWidgets": {},
     "nuid": "99373a79-4a3e-4e5e-ab67-3b118d597e18",
     "showTitle": false,
     "title": ""
    }
   },
   "source": [
    "By Country:"
   ]
  },
  {
   "cell_type": "code",
   "execution_count": 0,
   "metadata": {
    "application/vnd.databricks.v1+cell": {
     "cellMetadata": {
      "byteLimit": 2048000,
      "implicitDf": true,
      "rowLimit": 10000
     },
     "inputWidgets": {},
     "nuid": "17da7b9a-0716-4de5-95b6-2de894eb0689",
     "showTitle": false,
     "title": ""
    }
   },
   "outputs": [
    {
     "output_type": "display_data",
     "data": {
      "text/html": [
       "<style scoped>\n",
       "  .table-result-container {\n",
       "    max-height: 300px;\n",
       "    overflow: auto;\n",
       "  }\n",
       "  table, th, td {\n",
       "    border: 1px solid black;\n",
       "    border-collapse: collapse;\n",
       "  }\n",
       "  th, td {\n",
       "    padding: 5px;\n",
       "  }\n",
       "  th {\n",
       "    text-align: left;\n",
       "  }\n",
       "</style><div class='table-result-container'><table class='table-result'><thead style='background-color: white'><tr><th>Country</th><th>TotalCostsReturns</th></tr></thead><tbody><tr><td>United States</td><td>33817.66</td></tr><tr><td>Australia</td><td>22291.15</td></tr><tr><td>Germany</td><td>12243.13</td></tr><tr><td>United Kingdom</td><td>11498.13</td></tr><tr><td>France</td><td>7335.2</td></tr><tr><td>Canada</td><td>5806.41</td></tr></tbody></table></div>"
      ]
     },
     "metadata": {
      "application/vnd.databricks.v1+output": {
       "addedWidgets": {},
       "aggData": [],
       "aggError": "",
       "aggOverflow": false,
       "aggSchema": [],
       "aggSeriesLimitReached": false,
       "aggType": "",
       "arguments": {},
       "columnCustomDisplayInfos": {},
       "data": [
        [
         "United States",
         33817.66
        ],
        [
         "Australia",
         22291.15
        ],
        [
         "Germany",
         12243.13
        ],
        [
         "United Kingdom",
         11498.13
        ],
        [
         "France",
         7335.2
        ],
        [
         "Canada",
         5806.41
        ]
       ],
       "datasetInfos": [],
       "dbfsResultPath": null,
       "isJsonSchema": true,
       "metadata": {},
       "overflow": false,
       "plotOptions": {
        "customPlotOptions": {},
        "displayType": "table",
        "pivotAggregation": null,
        "pivotColumns": null,
        "xColumns": null,
        "yColumns": null
       },
       "removedWidgets": [],
       "schema": [
        {
         "metadata": "{}",
         "name": "Country",
         "type": "\"string\""
        },
        {
         "metadata": "{}",
         "name": "TotalCostsReturns",
         "type": "\"double\""
        }
       ],
       "type": "table"
      }
     },
     "output_type": "display_data"
    },
    {
     "output_type": "display_data",
     "data": {
      "text/plain": [
       "Databricks visualization. Run in Databricks to view."
      ]
     },
     "metadata": {
      "application/vnd.databricks.v1.subcommand+json": {
       "baseErrorDetails": null,
       "bindings": {},
       "collapsed": false,
       "command": "%sql WITH q AS (select R.Country, ROUND(SUM(P.ProductCost * R.ReturnQuantity),2) AS TotalCostsReturns from salesdb.returns R join\nsalesdb.products P \non R.ProductKey=P.ProductKey\ngroup by R.Country order by TotalCostsReturns desc) SELECT `Country`,SUM(`TotalCostsReturns`) `column_e345313b35` FROM q GROUP BY `Country`",
       "commandTitle": "Visualization 1",
       "commandType": "auto",
       "commandVersion": 0,
       "commentThread": [],
       "commentsVisible": false,
       "contentSha256Hex": null,
       "customPlotOptions": {
        "redashChart": [
         {
          "key": "type",
          "value": "CHART"
         },
         {
          "key": "options",
          "value": {
           "alignYAxesAtZero": true,
           "coefficient": 1,
           "columnConfigurationMap": {
            "x": {
             "column": "Country",
             "id": "column_e345313b34"
            },
            "y": [
             {
              "column": "TotalCostsReturns",
              "id": "column_e345313b35",
              "transform": "SUM"
             }
            ]
           },
           "dateTimeFormat": "DD/MM/YYYY HH:mm",
           "direction": {
            "type": "counterclockwise"
           },
           "error_y": {
            "type": "data",
            "visible": true
           },
           "globalSeriesType": "column",
           "isAggregationOn": true,
           "legend": {
            "traceorder": "normal"
           },
           "missingValuesAsZero": true,
           "numberFormat": "0,0.[00000]",
           "percentFormat": "0[.]00%",
           "series": {
            "error_y": {
             "type": "data",
             "visible": true
            },
            "stacking": null
           },
           "seriesOptions": {
            "column_e345313b35": {
             "color": "#E92828",
             "name": "TotalCostsReturns",
             "yAxis": 0
            }
           },
           "showDataLabels": true,
           "sizemode": "diameter",
           "sortX": true,
           "sortY": true,
           "swappedAxes": true,
           "textFormat": "",
           "useAggregationsUi": true,
           "valuesOptions": {},
           "version": 2,
           "xAxis": {
            "labels": {
             "enabled": true
            },
            "type": "-"
           },
           "yAxis": [
            {
             "title": {
              "text": "Total Costs of Returned Products"
             },
             "type": "-"
            },
            {
             "opposite": true,
             "type": "-"
            }
           ]
          }
         }
        ]
       },
       "datasetPreviewNameToCmdIdMap": {},
       "diffDeletes": [],
       "diffInserts": [],
       "displayType": "redashChart",
       "error": null,
       "errorDetails": null,
       "errorSummary": null,
       "errorTraceType": null,
       "finishTime": 0,
       "globalVars": {},
       "guid": "",
       "height": "auto",
       "hideCommandCode": false,
       "hideCommandResult": false,
       "iPythonMetadata": null,
       "inputWidgets": {},
       "isLockedInExamMode": false,
       "latestUser": "a user",
       "latestUserId": null,
       "listResultMetadata": null,
       "metadata": {
        "byteLimit": 2048000,
        "implicitDf": true,
        "rowLimit": 10000
       },
       "nuid": "548cd0be-b4a5-4abd-833f-e51607706525",
       "origId": 0,
       "parentHierarchy": [],
       "pivotAggregation": null,
       "pivotColumns": null,
       "position": 34.875,
       "resultDbfsErrorMessage": null,
       "resultDbfsStatus": "INLINED_IN_TREE",
       "results": null,
       "showCommandTitle": false,
       "startTime": 0,
       "state": "finished",
       "streamStates": {},
       "subcommandOptions": {
        "queryPlan": {
         "groups": [
          {
           "column": "Country",
           "type": "column"
          }
         ],
         "selects": [
          {
           "column": "Country",
           "type": "column"
          },
          {
           "alias": "column_e345313b35",
           "args": [
            {
             "column": "TotalCostsReturns",
             "type": "column"
            }
           ],
           "function": "SUM",
           "type": "function"
          }
         ]
        }
       },
       "submitTime": 0,
       "subtype": "tableResultSubCmd.visualization",
       "tableResultIndex": 0,
       "useConsistentColors": false,
       "version": "CommandV1",
       "width": "auto",
       "workflows": [],
       "xColumns": null,
       "yColumns": null
      }
     },
     "output_type": "display_data"
    }
   ],
   "source": [
    "%sql\n",
    "select R.Country, ROUND(SUM(P.ProductCost * R.ReturnQuantity),2) AS TotalCostsReturns from salesdb.returns R join\n",
    "salesdb.products P \n",
    "on R.ProductKey=P.ProductKey\n",
    "group by R.Country order by TotalCostsReturns desc;"
   ]
  },
  {
   "cell_type": "markdown",
   "metadata": {
    "application/vnd.databricks.v1+cell": {
     "cellMetadata": {
      "byteLimit": 2048000,
      "rowLimit": 10000
     },
     "inputWidgets": {},
     "nuid": "847b640a-3c0c-4c71-8efc-c469eefd137e",
     "showTitle": false,
     "title": ""
    }
   },
   "source": [
    "By Product category Bikes:"
   ]
  },
  {
   "cell_type": "code",
   "execution_count": 0,
   "metadata": {
    "application/vnd.databricks.v1+cell": {
     "cellMetadata": {
      "byteLimit": 2048000,
      "implicitDf": true,
      "rowLimit": 10000
     },
     "inputWidgets": {},
     "nuid": "fa7d649e-3fd2-469d-bc0a-4cfb336074a7",
     "showTitle": false,
     "title": ""
    }
   },
   "outputs": [
    {
     "output_type": "display_data",
     "data": {
      "text/html": [
       "<style scoped>\n",
       "  .table-result-container {\n",
       "    max-height: 300px;\n",
       "    overflow: auto;\n",
       "  }\n",
       "  table, th, td {\n",
       "    border: 1px solid black;\n",
       "    border-collapse: collapse;\n",
       "  }\n",
       "  th, td {\n",
       "    padding: 5px;\n",
       "  }\n",
       "  th {\n",
       "    text-align: left;\n",
       "  }\n",
       "</style><div class='table-result-container'><table class='table-result'><thead style='background-color: white'><tr><th>ProductSubcategory</th><th>TotalCostsReturns</th></tr></thead><tbody><tr><td>Road Bikes</td><td>50227.5</td></tr><tr><td>Touring Bikes</td><td>18710.29</td></tr><tr><td>Mountain Bikes</td><td>10502.66</td></tr></tbody></table></div>"
      ]
     },
     "metadata": {
      "application/vnd.databricks.v1+output": {
       "addedWidgets": {},
       "aggData": [],
       "aggError": "",
       "aggOverflow": false,
       "aggSchema": [],
       "aggSeriesLimitReached": false,
       "aggType": "",
       "arguments": {},
       "columnCustomDisplayInfos": {},
       "data": [
        [
         "Road Bikes",
         50227.5
        ],
        [
         "Touring Bikes",
         18710.29
        ],
        [
         "Mountain Bikes",
         10502.66
        ]
       ],
       "datasetInfos": [],
       "dbfsResultPath": null,
       "isJsonSchema": true,
       "metadata": {},
       "overflow": false,
       "plotOptions": {
        "customPlotOptions": {},
        "displayType": "table",
        "pivotAggregation": null,
        "pivotColumns": null,
        "xColumns": null,
        "yColumns": null
       },
       "removedWidgets": [],
       "schema": [
        {
         "metadata": "{}",
         "name": "ProductSubcategory",
         "type": "\"string\""
        },
        {
         "metadata": "{}",
         "name": "TotalCostsReturns",
         "type": "\"double\""
        }
       ],
       "type": "table"
      }
     },
     "output_type": "display_data"
    },
    {
     "output_type": "display_data",
     "data": {
      "text/plain": [
       "Databricks visualization. Run in Databricks to view."
      ]
     },
     "metadata": {
      "application/vnd.databricks.v1.subcommand+json": {
       "baseErrorDetails": null,
       "bindings": {},
       "collapsed": false,
       "command": "%sql WITH q AS (select P.ProductSubcategory, ROUND(SUM(P.ProductCost * R.ReturnQuantity),2) AS TotalCostsReturns from salesdb.returns R join\nsalesdb.products P \non R.ProductKey=P.ProductKey\nwhere P.ProductSubcategory like '%Bikes%' group by P.ProductSubcategory order by TotalCostsReturns desc) SELECT `ProductSubcategory`,SUM(`TotalCostsReturns`) `column_e345313b38` FROM q GROUP BY `ProductSubcategory`",
       "commandTitle": "Visualization 1",
       "commandType": "auto",
       "commandVersion": 0,
       "commentThread": [],
       "commentsVisible": false,
       "contentSha256Hex": null,
       "customPlotOptions": {
        "redashChart": [
         {
          "key": "type",
          "value": "CHART"
         },
         {
          "key": "options",
          "value": {
           "alignYAxesAtZero": true,
           "coefficient": 1,
           "columnConfigurationMap": {
            "x": {
             "column": "ProductSubcategory",
             "id": "column_e345313b37"
            },
            "y": [
             {
              "column": "TotalCostsReturns",
              "id": "column_e345313b38",
              "transform": "SUM"
             }
            ]
           },
           "dateTimeFormat": "DD/MM/YYYY HH:mm",
           "direction": {
            "type": "counterclockwise"
           },
           "error_y": {
            "type": "data",
            "visible": true
           },
           "globalSeriesType": "column",
           "isAggregationOn": true,
           "legend": {
            "traceorder": "normal"
           },
           "missingValuesAsZero": true,
           "numberFormat": "0,0.[00000]",
           "percentFormat": "0[.]00%",
           "series": {
            "error_y": {
             "type": "data",
             "visible": true
            },
            "stacking": null
           },
           "seriesOptions": {
            "column_e345313b38": {
             "color": "#E92828",
             "name": "TotalCostsReturns",
             "yAxis": 0
            }
           },
           "showDataLabels": true,
           "sizemode": "diameter",
           "sortX": true,
           "sortY": true,
           "swappedAxes": true,
           "textFormat": "",
           "useAggregationsUi": true,
           "valuesOptions": {},
           "version": 2,
           "xAxis": {
            "labels": {
             "enabled": true
            },
            "title": {
             "text": "Bike Category"
            },
            "type": "-"
           },
           "yAxis": [
            {
             "title": {
              "text": "Total Costs of Returned Products"
             },
             "type": "-"
            },
            {
             "opposite": true,
             "type": "-"
            }
           ]
          }
         }
        ]
       },
       "datasetPreviewNameToCmdIdMap": {},
       "diffDeletes": [],
       "diffInserts": [],
       "displayType": "redashChart",
       "error": null,
       "errorDetails": null,
       "errorSummary": null,
       "errorTraceType": null,
       "finishTime": 0,
       "globalVars": {},
       "guid": "",
       "height": "auto",
       "hideCommandCode": false,
       "hideCommandResult": false,
       "iPythonMetadata": null,
       "inputWidgets": {},
       "isLockedInExamMode": false,
       "latestUser": "a user",
       "latestUserId": null,
       "listResultMetadata": null,
       "metadata": {
        "byteLimit": 2048000,
        "implicitDf": true,
        "rowLimit": 10000
       },
       "nuid": "06c4c9c3-c181-417a-951a-551647e961ee",
       "origId": 0,
       "parentHierarchy": [],
       "pivotAggregation": null,
       "pivotColumns": null,
       "position": 34.9375,
       "resultDbfsErrorMessage": null,
       "resultDbfsStatus": "INLINED_IN_TREE",
       "results": null,
       "showCommandTitle": false,
       "startTime": 0,
       "state": "finished",
       "streamStates": {},
       "subcommandOptions": {
        "queryPlan": {
         "groups": [
          {
           "column": "ProductSubcategory",
           "type": "column"
          }
         ],
         "selects": [
          {
           "column": "ProductSubcategory",
           "type": "column"
          },
          {
           "alias": "column_e345313b38",
           "args": [
            {
             "column": "TotalCostsReturns",
             "type": "column"
            }
           ],
           "function": "SUM",
           "type": "function"
          }
         ]
        }
       },
       "submitTime": 0,
       "subtype": "tableResultSubCmd.visualization",
       "tableResultIndex": 0,
       "useConsistentColors": false,
       "version": "CommandV1",
       "width": "auto",
       "workflows": [],
       "xColumns": null,
       "yColumns": null
      }
     },
     "output_type": "display_data"
    }
   ],
   "source": [
    "%sql\n",
    "select P.ProductSubcategory, ROUND(SUM(P.ProductCost * R.ReturnQuantity),2) AS TotalCostsReturns from salesdb.returns R join\n",
    "salesdb.products P \n",
    "on R.ProductKey=P.ProductKey\n",
    "where P.ProductSubcategory like '%Bikes%' group by P.ProductSubcategory order by TotalCostsReturns desc;\n"
   ]
  },
  {
   "cell_type": "markdown",
   "metadata": {
    "application/vnd.databricks.v1+cell": {
     "cellMetadata": {
      "byteLimit": 2048000,
      "rowLimit": 10000
     },
     "inputWidgets": {},
     "nuid": "934da946-9c99-4c8c-a202-4c75a56b420f",
     "showTitle": false,
     "title": ""
    }
   },
   "source": [
    "**Returned Products by Date**"
   ]
  },
  {
   "cell_type": "code",
   "execution_count": 0,
   "metadata": {
    "application/vnd.databricks.v1+cell": {
     "cellMetadata": {
      "byteLimit": 2048000,
      "implicitDf": true,
      "rowLimit": 10000
     },
     "inputWidgets": {},
     "nuid": "ada48a20-ed79-414c-9724-0d8b978f7a0e",
     "showTitle": false,
     "title": ""
    }
   },
   "outputs": [
    {
     "output_type": "display_data",
     "data": {
      "text/html": [
       "<style scoped>\n",
       "  .table-result-container {\n",
       "    max-height: 300px;\n",
       "    overflow: auto;\n",
       "  }\n",
       "  table, th, td {\n",
       "    border: 1px solid black;\n",
       "    border-collapse: collapse;\n",
       "  }\n",
       "  th, td {\n",
       "    padding: 5px;\n",
       "  }\n",
       "  th {\n",
       "    text-align: left;\n",
       "  }\n",
       "</style><div class='table-result-container'><table class='table-result'><thead style='background-color: white'><tr><th>MONTH</th><th>quantityreturned</th></tr></thead><tbody><tr><td>2015-01-01T00:00:00.000+0000</td><td>4</td></tr><tr><td>2015-02-01T00:00:00.000+0000</td><td>4</td></tr><tr><td>2015-03-01T00:00:00.000+0000</td><td>9</td></tr><tr><td>2015-04-01T00:00:00.000+0000</td><td>14</td></tr><tr><td>2015-05-01T00:00:00.000+0000</td><td>11</td></tr><tr><td>2015-06-01T00:00:00.000+0000</td><td>4</td></tr><tr><td>2015-07-01T00:00:00.000+0000</td><td>3</td></tr><tr><td>2015-08-01T00:00:00.000+0000</td><td>6</td></tr><tr><td>2015-09-01T00:00:00.000+0000</td><td>2</td></tr><tr><td>2015-10-01T00:00:00.000+0000</td><td>11</td></tr><tr><td>2015-11-01T00:00:00.000+0000</td><td>5</td></tr><tr><td>2015-12-01T00:00:00.000+0000</td><td>13</td></tr><tr><td>2016-01-01T00:00:00.000+0000</td><td>8</td></tr><tr><td>2016-02-01T00:00:00.000+0000</td><td>8</td></tr><tr><td>2016-03-01T00:00:00.000+0000</td><td>8</td></tr><tr><td>2016-04-01T00:00:00.000+0000</td><td>5</td></tr><tr><td>2016-05-01T00:00:00.000+0000</td><td>10</td></tr><tr><td>2016-06-01T00:00:00.000+0000</td><td>8</td></tr><tr><td>2016-07-01T00:00:00.000+0000</td><td>45</td></tr><tr><td>2016-08-01T00:00:00.000+0000</td><td>120</td></tr><tr><td>2016-09-01T00:00:00.000+0000</td><td>122</td></tr><tr><td>2016-10-01T00:00:00.000+0000</td><td>137</td></tr><tr><td>2016-11-01T00:00:00.000+0000</td><td>136</td></tr><tr><td>2016-12-01T00:00:00.000+0000</td><td>163</td></tr><tr><td>2017-01-01T00:00:00.000+0000</td><td>158</td></tr><tr><td>2017-02-01T00:00:00.000+0000</td><td>154</td></tr><tr><td>2017-03-01T00:00:00.000+0000</td><td>160</td></tr><tr><td>2017-04-01T00:00:00.000+0000</td><td>164</td></tr><tr><td>2017-05-01T00:00:00.000+0000</td><td>169</td></tr><tr><td>2017-06-01T00:00:00.000+0000</td><td>167</td></tr></tbody></table></div>"
      ]
     },
     "metadata": {
      "application/vnd.databricks.v1+output": {
       "addedWidgets": {},
       "aggData": [],
       "aggError": "",
       "aggOverflow": false,
       "aggSchema": [],
       "aggSeriesLimitReached": false,
       "aggType": "",
       "arguments": {},
       "columnCustomDisplayInfos": {},
       "data": [
        [
         "2015-01-01T00:00:00.000+0000",
         4
        ],
        [
         "2015-02-01T00:00:00.000+0000",
         4
        ],
        [
         "2015-03-01T00:00:00.000+0000",
         9
        ],
        [
         "2015-04-01T00:00:00.000+0000",
         14
        ],
        [
         "2015-05-01T00:00:00.000+0000",
         11
        ],
        [
         "2015-06-01T00:00:00.000+0000",
         4
        ],
        [
         "2015-07-01T00:00:00.000+0000",
         3
        ],
        [
         "2015-08-01T00:00:00.000+0000",
         6
        ],
        [
         "2015-09-01T00:00:00.000+0000",
         2
        ],
        [
         "2015-10-01T00:00:00.000+0000",
         11
        ],
        [
         "2015-11-01T00:00:00.000+0000",
         5
        ],
        [
         "2015-12-01T00:00:00.000+0000",
         13
        ],
        [
         "2016-01-01T00:00:00.000+0000",
         8
        ],
        [
         "2016-02-01T00:00:00.000+0000",
         8
        ],
        [
         "2016-03-01T00:00:00.000+0000",
         8
        ],
        [
         "2016-04-01T00:00:00.000+0000",
         5
        ],
        [
         "2016-05-01T00:00:00.000+0000",
         10
        ],
        [
         "2016-06-01T00:00:00.000+0000",
         8
        ],
        [
         "2016-07-01T00:00:00.000+0000",
         45
        ],
        [
         "2016-08-01T00:00:00.000+0000",
         120
        ],
        [
         "2016-09-01T00:00:00.000+0000",
         122
        ],
        [
         "2016-10-01T00:00:00.000+0000",
         137
        ],
        [
         "2016-11-01T00:00:00.000+0000",
         136
        ],
        [
         "2016-12-01T00:00:00.000+0000",
         163
        ],
        [
         "2017-01-01T00:00:00.000+0000",
         158
        ],
        [
         "2017-02-01T00:00:00.000+0000",
         154
        ],
        [
         "2017-03-01T00:00:00.000+0000",
         160
        ],
        [
         "2017-04-01T00:00:00.000+0000",
         164
        ],
        [
         "2017-05-01T00:00:00.000+0000",
         169
        ],
        [
         "2017-06-01T00:00:00.000+0000",
         167
        ]
       ],
       "datasetInfos": [],
       "dbfsResultPath": null,
       "isJsonSchema": true,
       "metadata": {},
       "overflow": false,
       "plotOptions": {
        "customPlotOptions": {},
        "displayType": "table",
        "pivotAggregation": null,
        "pivotColumns": null,
        "xColumns": null,
        "yColumns": null
       },
       "removedWidgets": [],
       "schema": [
        {
         "metadata": "{}",
         "name": "MONTH",
         "type": "\"timestamp\""
        },
        {
         "metadata": "{}",
         "name": "quantityreturned",
         "type": "\"long\""
        }
       ],
       "type": "table"
      }
     },
     "output_type": "display_data"
    },
    {
     "output_type": "display_data",
     "data": {
      "text/plain": [
       "Databricks visualization. Run in Databricks to view."
      ]
     },
     "metadata": {
      "application/vnd.databricks.v1.subcommand+json": {
       "baseErrorDetails": null,
       "bindings": {},
       "collapsed": false,
       "command": "%sql WITH q AS (select date_trunc('month',ReturnDate) as MONTH, SUM(ReturnQuantity) as quantityreturned from returns group by 1 order by 1 asc) SELECT `MONTH`,SUM(`quantityreturned`) `column_e345313b43` FROM q GROUP BY `MONTH`",
       "commandTitle": "Visualization 1",
       "commandType": "auto",
       "commandVersion": 0,
       "commentThread": [],
       "commentsVisible": false,
       "contentSha256Hex": null,
       "customPlotOptions": {
        "redashChart": [
         {
          "key": "type",
          "value": "CHART"
         },
         {
          "key": "options",
          "value": {
           "alignYAxesAtZero": true,
           "coefficient": 1,
           "columnConfigurationMap": {
            "x": {
             "column": "MONTH",
             "id": "column_e345313b42"
            },
            "y": [
             {
              "column": "quantityreturned",
              "id": "column_e345313b43",
              "transform": "SUM"
             }
            ]
           },
           "dateTimeFormat": "DD/MM/YYYY HH:mm",
           "direction": {
            "type": "counterclockwise"
           },
           "error_y": {
            "type": "data",
            "visible": true
           },
           "globalSeriesType": "line",
           "isAggregationOn": true,
           "legend": {
            "traceorder": "normal"
           },
           "missingValuesAsZero": true,
           "numberFormat": "0,0.[00000]",
           "percentFormat": "0[.]00%",
           "series": {
            "error_y": {
             "type": "data",
             "visible": true
            },
            "stacking": null
           },
           "seriesOptions": {
            "column_e345313b43": {
             "name": "quantityreturned",
             "yAxis": 0
            }
           },
           "showDataLabels": true,
           "sizemode": "diameter",
           "sortX": true,
           "sortY": true,
           "swappedAxes": false,
           "textFormat": "",
           "useAggregationsUi": true,
           "valuesOptions": {},
           "version": 2,
           "xAxis": {
            "labels": {
             "enabled": true
            },
            "type": "-"
           },
           "yAxis": [
            {
             "title": {
              "text": "Quantity Returned"
             },
             "type": "-"
            },
            {
             "opposite": true,
             "type": "-"
            }
           ]
          }
         }
        ]
       },
       "datasetPreviewNameToCmdIdMap": {},
       "diffDeletes": [],
       "diffInserts": [],
       "displayType": "redashChart",
       "error": null,
       "errorDetails": null,
       "errorSummary": null,
       "errorTraceType": null,
       "finishTime": 0,
       "globalVars": {},
       "guid": "",
       "height": "auto",
       "hideCommandCode": false,
       "hideCommandResult": false,
       "iPythonMetadata": null,
       "inputWidgets": {},
       "isLockedInExamMode": false,
       "latestUser": "a user",
       "latestUserId": null,
       "listResultMetadata": null,
       "metadata": {
        "byteLimit": 2048000,
        "implicitDf": true,
        "rowLimit": 10000
       },
       "nuid": "aa3ff75b-1729-409c-9e9f-d96253271f25",
       "origId": 0,
       "parentHierarchy": [],
       "pivotAggregation": null,
       "pivotColumns": null,
       "position": 35.25,
       "resultDbfsErrorMessage": null,
       "resultDbfsStatus": "INLINED_IN_TREE",
       "results": null,
       "showCommandTitle": false,
       "startTime": 0,
       "state": "finished",
       "streamStates": {},
       "subcommandOptions": {
        "queryPlan": {
         "groups": [
          {
           "column": "MONTH",
           "type": "column"
          }
         ],
         "selects": [
          {
           "column": "MONTH",
           "type": "column"
          },
          {
           "alias": "column_e345313b43",
           "args": [
            {
             "column": "quantityreturned",
             "type": "column"
            }
           ],
           "function": "SUM",
           "type": "function"
          }
         ]
        }
       },
       "submitTime": 0,
       "subtype": "tableResultSubCmd.visualization",
       "tableResultIndex": 0,
       "useConsistentColors": false,
       "version": "CommandV1",
       "width": "auto",
       "workflows": [],
       "xColumns": null,
       "yColumns": null
      }
     },
     "output_type": "display_data"
    }
   ],
   "source": [
    "%sql\n",
    "select date_trunc('month',ReturnDate) as MONTH, SUM(ReturnQuantity) as quantityreturned from returns group by 1 order by 1 asc;"
   ]
  },
  {
   "cell_type": "markdown",
   "metadata": {
    "application/vnd.databricks.v1+cell": {
     "cellMetadata": {
      "byteLimit": 2048000,
      "rowLimit": 10000
     },
     "inputWidgets": {},
     "nuid": "3d561bec-9853-4cf4-8a65-6a543398b1ee",
     "showTitle": false,
     "title": ""
    }
   },
   "source": [
    "#### End of this Notebook"
   ]
  }
 ],
 "metadata": {
  "application/vnd.databricks.v1+notebook": {
   "dashboards": [
    {
     "elements": [
      {
       "dashboardResultIndex": null,
       "elementNUID": "4bf67a3b-42c0-45b3-a3f2-e00564aa23b0",
       "elementType": "command",
       "guid": "0967479f-91dd-42bb-98c2-4057773ce62c",
       "options": {
        "autoScaleImg": false,
        "scale": 0,
        "showTitle": true,
        "title": "Total Sales by Country (in USD)",
        "titleAlign": "center"
       },
       "position": {
        "height": 6,
        "width": 12,
        "x": 12,
        "y": 0,
        "z": null
       },
       "resultIndex": null
      },
      {
       "dashboardResultIndex": null,
       "elementNUID": "7032d807-fd5c-4d5b-bf6f-7f38aac4217a",
       "elementType": "command",
       "guid": "12fb0720-0615-4f2b-b0dc-f98f75b7172c",
       "options": {
        "autoScaleImg": false,
        "scale": 0,
        "showTitle": true,
        "title": "Total Sales by Product Category (in USD)",
        "titleAlign": "center"
       },
       "position": {
        "height": 6,
        "width": 12,
        "x": 12,
        "y": 6,
        "z": null
       },
       "resultIndex": null
      },
      {
       "dashboardResultIndex": null,
       "elementNUID": "c3eb5e7b-11bf-4b23-846d-9bb912ba460d",
       "elementType": "command",
       "guid": "293b8f94-8f4a-4b21-8c60-52aacce9d02a",
       "options": {
        "autoScaleImg": false,
        "scale": 0,
        "showTitle": true,
        "title": "Quantity of Bikes Sold",
        "titleAlign": "center"
       },
       "position": {
        "height": 6,
        "width": 12,
        "x": 0,
        "y": 18,
        "z": null
       },
       "resultIndex": null
      },
      {
       "dashboardResultIndex": null,
       "elementNUID": "548cd0be-b4a5-4abd-833f-e51607706525",
       "elementType": "command",
       "guid": "2c2cfaf3-30a0-40a5-91ca-1fffac8e6ef9",
       "options": {
        "autoScaleImg": false,
        "scale": 0,
        "showTitle": true,
        "title": "Costs of Returned Products by Country",
        "titleAlign": "center"
       },
       "position": {
        "height": 6,
        "width": 12,
        "x": 0,
        "y": 12,
        "z": null
       },
       "resultIndex": null
      },
      {
       "dashboardResultIndex": null,
       "elementNUID": "664d5f3c-1651-49a1-9f3f-fbf0cadc6a64",
       "elementType": "command",
       "guid": "43dee565-fc1a-40cb-82e8-b866917d3c1b",
       "options": {
        "autoScaleImg": false,
        "scale": 0,
        "showTitle": true,
        "title": "Sales Quantity by Country",
        "titleAlign": "center"
       },
       "position": {
        "height": 12,
        "width": 12,
        "x": 0,
        "y": 0,
        "z": null
       },
       "resultIndex": null
      },
      {
       "dashboardResultIndex": null,
       "elementNUID": "06c4c9c3-c181-417a-951a-551647e961ee",
       "elementType": "command",
       "guid": "49bedb2a-dc3b-451d-ac01-91265421bf21",
       "options": {
        "autoScaleImg": false,
        "scale": 0,
        "showTitle": true,
        "title": "Costs of Returned Bikes",
        "titleAlign": "center"
       },
       "position": {
        "height": 6,
        "width": 12,
        "x": 12,
        "y": 24,
        "z": null
       },
       "resultIndex": null
      },
      {
       "dashboardResultIndex": null,
       "elementNUID": "ee5936f0-0eb7-4ac5-9da3-aed1d285998e",
       "elementType": "command",
       "guid": "8523fe12-875f-4026-a7c7-676f244f18b6",
       "options": {
        "autoScaleImg": false,
        "scale": 0,
        "showTitle": true,
        "title": "Quantity Returned Products by Country",
        "titleAlign": "center"
       },
       "position": {
        "height": 6,
        "width": 12,
        "x": 0,
        "y": 24,
        "z": null
       },
       "resultIndex": null
      },
      {
       "dashboardResultIndex": null,
       "elementNUID": "aa3ff75b-1729-409c-9e9f-d96253271f25",
       "elementType": "command",
       "guid": "c23fe590-8133-4514-922c-737ab4652b41",
       "options": {
        "autoScaleImg": false,
        "scale": 0,
        "showTitle": true,
        "title": "Total Returned Products by Month",
        "titleAlign": "center"
       },
       "position": {
        "height": 6,
        "width": 12,
        "x": 12,
        "y": 12,
        "z": null
       },
       "resultIndex": null
      },
      {
       "dashboardResultIndex": null,
       "elementNUID": "744599e0-3420-45e2-a8f4-4bbfd98c961f",
       "elementType": "command",
       "guid": "ee63d308-1165-40ef-9885-02c5ed30b24c",
       "options": {
        "autoScaleImg": false,
        "scale": 0,
        "showTitle": true,
        "title": "Total Bike Sales (in USD)",
        "titleAlign": "center"
       },
       "position": {
        "height": 6,
        "width": 12,
        "x": 12,
        "y": 18,
        "z": null
       },
       "resultIndex": null
      }
     ],
     "globalVars": {},
     "guid": "",
     "layoutOption": {
      "grid": true,
      "stack": true
     },
     "nuid": "2ed8e4b7-6561-4730-bcf8-7ccc61703711",
     "origId": 2358304907007553,
     "title": "Adventure Works Sales",
     "version": "DashboardViewV1",
     "width": 1024
    }
   ],
   "environmentMetadata": null,
   "language": "python",
   "notebookMetadata": {
    "mostRecentlyExecutedCommandWithImplicitDF": {
     "commandId": 2358304907007552,
     "dataframes": [
      "_sqldf"
     ]
    },
    "pythonIndentUnit": 4
   },
   "notebookName": "AdventureWorks",
   "widgets": {}
  }
 },
 "nbformat": 4,
 "nbformat_minor": 0
}
